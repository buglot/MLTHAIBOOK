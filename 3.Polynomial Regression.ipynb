{
 "cells": [
  {
   "cell_type": "markdown",
   "id": "d0e0ddd4",
   "metadata": {},
   "source": [
    "# Polynomial Regression คืออะไร"
   ]
  },
  {
   "cell_type": "markdown",
   "id": "21d31b41",
   "metadata": {},
   "source": [
    "คือ non-linear หรือไม่ใช่เส้นตรง"
   ]
  },
  {
   "cell_type": "markdown",
   "id": "08df6dc1",
   "metadata": {},
   "source": [
    "สมการเส้นตรงคือ $mx+c$"
   ]
  },
  {
   "cell_type": "markdown",
   "id": "52d14056",
   "metadata": {},
   "source": [
    "แต่เส้นโค้งคือ $c+ax+bx^{2}+dx^{3}+...+nx^{n}$"
   ]
  },
  {
   "cell_type": "markdown",
   "id": "5b4508b0",
   "metadata": {},
   "source": [
    "ผมเขียนให้มองง่ายว่า a,b,c,d....nตัว มีค่าที่ต่างกัน"
   ]
  },
  {
   "cell_type": "markdown",
   "id": "5d682de9",
   "metadata": {},
   "source": [
    "ถ้าจะให้เป็นสมการจริง"
   ]
  },
  {
   "cell_type": "markdown",
   "id": "dbb8c6b2",
   "metadata": {
    "vscode": {
     "languageId": "plaintext"
    }
   },
   "source": [
    "$\\beta_{0}+\\beta_{1}x+\\beta_{2}x^{2}+\\beta_{3}x^{3}+...+\\beta_{n}x^{n}$"
   ]
  },
  {
   "cell_type": "markdown",
   "id": "5e087781",
   "metadata": {},
   "source": [
    "เพื่อความง่าย ผมจะแนะนำ คุณน่าจะเคยเรียน สมการพาราโบลา "
   ]
  },
  {
   "cell_type": "markdown",
   "id": "0a57afe8",
   "metadata": {},
   "source": [
    "สมการพาราโบลา เป็นส่วนหนึ่งใน สมการเส้นโค้งนี้"
   ]
  },
  {
   "cell_type": "markdown",
   "id": "f2cb083f",
   "metadata": {},
   "source": [
    "พาราโบลา $y=ax^{2}+k$"
   ]
  },
  {
   "cell_type": "markdown",
   "id": "c0bac843",
   "metadata": {},
   "source": [
    "พาราโบลา ในสมการ Polynomial คือ $y=\\beta_{2}x^{2}+\\beta_{1}x+\\beta_{0}$;แต่ $\\beta_{2}=a;\\beta_{1}=0;\\beta_{0}=k$ "
   ]
  },
  {
   "cell_type": "markdown",
   "id": "e988b8b1",
   "metadata": {},
   "source": [
    "ทำให้รูปเป็น พาราโบลา $y=ax^{2}+0x^{1}+k$ ทำให้  $y=ax^{2}+k$"
   ]
  },
  {
   "cell_type": "markdown",
   "id": "b78176a0",
   "metadata": {},
   "source": [
    "# ทำดาต้า"
   ]
  },
  {
   "cell_type": "markdown",
   "id": "0ee116e0",
   "metadata": {},
   "source": [
    "import libary matplotlib numpy"
   ]
  },
  {
   "cell_type": "code",
   "execution_count": 1,
   "id": "48871b3b",
   "metadata": {},
   "outputs": [],
   "source": [
    "import matplotlib.pyplot as plt\n",
    "import numpy as np"
   ]
  },
  {
   "cell_type": "markdown",
   "id": "930bed63",
   "metadata": {},
   "source": [
    "## จำลองดาต้า"
   ]
  },
  {
   "cell_type": "markdown",
   "id": "aed8bed4",
   "metadata": {},
   "source": [
    "เพิ่มความเข้าใจ"
   ]
  },
  {
   "cell_type": "markdown",
   "id": "20769d19",
   "metadata": {},
   "source": [
    "ให้เป็น polynomial ยกกำลังถึง 3"
   ]
  },
  {
   "cell_type": "markdown",
   "id": "0be0347f",
   "metadata": {},
   "source": [
    "$y=\\beta_{3}x^{3}+\\beta_{2}x^{2}+\\beta_{1}x+\\beta_{0}$"
   ]
  },
  {
   "cell_type": "markdown",
   "id": "ac2aa72a",
   "metadata": {},
   "source": [
    "โดยให้ $\\beta_{3}=4;\\beta_{2}=[-80,90];\\beta_{1}=-6;\\beta_{0}=[-100,200]$"
   ]
  },
  {
   "cell_type": "markdown",
   "id": "387e9629",
   "metadata": {},
   "source": [
    "โดยสรุปได้ว่า $y=4x^{3}+[-80,90]x^{2}+-6x+[-100,200]$"
   ]
  },
  {
   "cell_type": "markdown",
   "id": "381f04fe",
   "metadata": {},
   "source": [
    "และ x มีค่า [-20,30] ถึง 300 จำนวน"
   ]
  },
  {
   "cell_type": "code",
   "execution_count": 119,
   "id": "931f4e71",
   "metadata": {},
   "outputs": [
    {
     "data": {
      "text/plain": [
       "array([[-20.        ],\n",
       "       [-19.74874372],\n",
       "       [-19.49748744],\n",
       "       [-19.24623116],\n",
       "       [-18.99497487],\n",
       "       [-18.74371859],\n",
       "       [-18.49246231],\n",
       "       [-18.24120603],\n",
       "       [-17.98994975],\n",
       "       [-17.73869347],\n",
       "       [-17.48743719],\n",
       "       [-17.2361809 ],\n",
       "       [-16.98492462],\n",
       "       [-16.73366834],\n",
       "       [-16.48241206],\n",
       "       [-16.23115578],\n",
       "       [-15.9798995 ],\n",
       "       [-15.72864322],\n",
       "       [-15.47738693],\n",
       "       [-15.22613065],\n",
       "       [-14.97487437],\n",
       "       [-14.72361809],\n",
       "       [-14.47236181],\n",
       "       [-14.22110553],\n",
       "       [-13.96984925],\n",
       "       [-13.71859296],\n",
       "       [-13.46733668],\n",
       "       [-13.2160804 ],\n",
       "       [-12.96482412],\n",
       "       [-12.71356784],\n",
       "       [-12.46231156],\n",
       "       [-12.21105528],\n",
       "       [-11.95979899],\n",
       "       [-11.70854271],\n",
       "       [-11.45728643],\n",
       "       [-11.20603015],\n",
       "       [-10.95477387],\n",
       "       [-10.70351759],\n",
       "       [-10.45226131],\n",
       "       [-10.20100503],\n",
       "       [ -9.94974874],\n",
       "       [ -9.69849246],\n",
       "       [ -9.44723618],\n",
       "       [ -9.1959799 ],\n",
       "       [ -8.94472362],\n",
       "       [ -8.69346734],\n",
       "       [ -8.44221106],\n",
       "       [ -8.19095477],\n",
       "       [ -7.93969849],\n",
       "       [ -7.68844221],\n",
       "       [ -7.43718593],\n",
       "       [ -7.18592965],\n",
       "       [ -6.93467337],\n",
       "       [ -6.68341709],\n",
       "       [ -6.4321608 ],\n",
       "       [ -6.18090452],\n",
       "       [ -5.92964824],\n",
       "       [ -5.67839196],\n",
       "       [ -5.42713568],\n",
       "       [ -5.1758794 ],\n",
       "       [ -4.92462312],\n",
       "       [ -4.67336683],\n",
       "       [ -4.42211055],\n",
       "       [ -4.17085427],\n",
       "       [ -3.91959799],\n",
       "       [ -3.66834171],\n",
       "       [ -3.41708543],\n",
       "       [ -3.16582915],\n",
       "       [ -2.91457286],\n",
       "       [ -2.66331658],\n",
       "       [ -2.4120603 ],\n",
       "       [ -2.16080402],\n",
       "       [ -1.90954774],\n",
       "       [ -1.65829146],\n",
       "       [ -1.40703518],\n",
       "       [ -1.15577889],\n",
       "       [ -0.90452261],\n",
       "       [ -0.65326633],\n",
       "       [ -0.40201005],\n",
       "       [ -0.15075377],\n",
       "       [  0.10050251],\n",
       "       [  0.35175879],\n",
       "       [  0.60301508],\n",
       "       [  0.85427136],\n",
       "       [  1.10552764],\n",
       "       [  1.35678392],\n",
       "       [  1.6080402 ],\n",
       "       [  1.85929648],\n",
       "       [  2.11055276],\n",
       "       [  2.36180905],\n",
       "       [  2.61306533],\n",
       "       [  2.86432161],\n",
       "       [  3.11557789],\n",
       "       [  3.36683417],\n",
       "       [  3.61809045],\n",
       "       [  3.86934673],\n",
       "       [  4.12060302],\n",
       "       [  4.3718593 ],\n",
       "       [  4.62311558],\n",
       "       [  4.87437186],\n",
       "       [  5.12562814],\n",
       "       [  5.37688442],\n",
       "       [  5.6281407 ],\n",
       "       [  5.87939698],\n",
       "       [  6.13065327],\n",
       "       [  6.38190955],\n",
       "       [  6.63316583],\n",
       "       [  6.88442211],\n",
       "       [  7.13567839],\n",
       "       [  7.38693467],\n",
       "       [  7.63819095],\n",
       "       [  7.88944724],\n",
       "       [  8.14070352],\n",
       "       [  8.3919598 ],\n",
       "       [  8.64321608],\n",
       "       [  8.89447236],\n",
       "       [  9.14572864],\n",
       "       [  9.39698492],\n",
       "       [  9.64824121],\n",
       "       [  9.89949749],\n",
       "       [ 10.15075377],\n",
       "       [ 10.40201005],\n",
       "       [ 10.65326633],\n",
       "       [ 10.90452261],\n",
       "       [ 11.15577889],\n",
       "       [ 11.40703518],\n",
       "       [ 11.65829146],\n",
       "       [ 11.90954774],\n",
       "       [ 12.16080402],\n",
       "       [ 12.4120603 ],\n",
       "       [ 12.66331658],\n",
       "       [ 12.91457286],\n",
       "       [ 13.16582915],\n",
       "       [ 13.41708543],\n",
       "       [ 13.66834171],\n",
       "       [ 13.91959799],\n",
       "       [ 14.17085427],\n",
       "       [ 14.42211055],\n",
       "       [ 14.67336683],\n",
       "       [ 14.92462312],\n",
       "       [ 15.1758794 ],\n",
       "       [ 15.42713568],\n",
       "       [ 15.67839196],\n",
       "       [ 15.92964824],\n",
       "       [ 16.18090452],\n",
       "       [ 16.4321608 ],\n",
       "       [ 16.68341709],\n",
       "       [ 16.93467337],\n",
       "       [ 17.18592965],\n",
       "       [ 17.43718593],\n",
       "       [ 17.68844221],\n",
       "       [ 17.93969849],\n",
       "       [ 18.19095477],\n",
       "       [ 18.44221106],\n",
       "       [ 18.69346734],\n",
       "       [ 18.94472362],\n",
       "       [ 19.1959799 ],\n",
       "       [ 19.44723618],\n",
       "       [ 19.69849246],\n",
       "       [ 19.94974874],\n",
       "       [ 20.20100503],\n",
       "       [ 20.45226131],\n",
       "       [ 20.70351759],\n",
       "       [ 20.95477387],\n",
       "       [ 21.20603015],\n",
       "       [ 21.45728643],\n",
       "       [ 21.70854271],\n",
       "       [ 21.95979899],\n",
       "       [ 22.21105528],\n",
       "       [ 22.46231156],\n",
       "       [ 22.71356784],\n",
       "       [ 22.96482412],\n",
       "       [ 23.2160804 ],\n",
       "       [ 23.46733668],\n",
       "       [ 23.71859296],\n",
       "       [ 23.96984925],\n",
       "       [ 24.22110553],\n",
       "       [ 24.47236181],\n",
       "       [ 24.72361809],\n",
       "       [ 24.97487437],\n",
       "       [ 25.22613065],\n",
       "       [ 25.47738693],\n",
       "       [ 25.72864322],\n",
       "       [ 25.9798995 ],\n",
       "       [ 26.23115578],\n",
       "       [ 26.48241206],\n",
       "       [ 26.73366834],\n",
       "       [ 26.98492462],\n",
       "       [ 27.2361809 ],\n",
       "       [ 27.48743719],\n",
       "       [ 27.73869347],\n",
       "       [ 27.98994975],\n",
       "       [ 28.24120603],\n",
       "       [ 28.49246231],\n",
       "       [ 28.74371859],\n",
       "       [ 28.99497487],\n",
       "       [ 29.24623116],\n",
       "       [ 29.49748744],\n",
       "       [ 29.74874372],\n",
       "       [ 30.        ]])"
      ]
     },
     "execution_count": 119,
     "metadata": {},
     "output_type": "execute_result"
    }
   ],
   "source": [
    "x = np.linspace(-20, 30, 200).reshape(-1, 1)\n",
    "x"
   ]
  },
  {
   "cell_type": "markdown",
   "id": "010dc7d4",
   "metadata": {},
   "source": [
    "$y=4x^{3}+[-80,90]x^{2}+-6x+[-100,200]$ + noise"
   ]
  },
  {
   "cell_type": "markdown",
   "id": "f969b2aa",
   "metadata": {},
   "source": [
    "ทำต้อง บวก noise เพราะ อยากให้เส้นมันกระจายลองลบดูสิ noise เส้นจะไม่กระจ่าย"
   ]
  },
  {
   "cell_type": "code",
   "execution_count": 122,
   "id": "b0e62bbd",
   "metadata": {},
   "outputs": [],
   "source": [
    "y=4*x**3 + np.random.uniform(low=-80, high=90)*x**2 + -6*x + np.random.uniform(low=-100, high=200) + np.random.normal(0, 3000, size=x.shape)\n"
   ]
  },
  {
   "cell_type": "code",
   "execution_count": null,
   "id": "1d885ba2",
   "metadata": {},
   "outputs": [],
   "source": [
    "y"
   ]
  },
  {
   "cell_type": "code",
   "execution_count": 123,
   "id": "c1cc72cb",
   "metadata": {},
   "outputs": [
    {
     "data": {
      "text/plain": [
       "<matplotlib.collections.PathCollection at 0x1cd9b2f1950>"
      ]
     },
     "execution_count": 123,
     "metadata": {},
     "output_type": "execute_result"
    },
    {
     "data": {
      "image/png": "[encoded data removed]",
      "text/plain": [
       "<Figure size 1000x600 with 1 Axes>"
      ]
     },
     "metadata": {},
     "output_type": "display_data"
    }
   ],
   "source": [
    "plt.figure(figsize=(10, 6))\n",
    "plt.scatter(x, y, color='blue', label='Data Points')"
   ]
  },
  {
   "cell_type": "markdown",
   "id": "79707ef7",
   "metadata": {},
   "source": [
    "## loss function "
   ]
  },
  {
   "cell_type": "markdown",
   "id": "ed7d1ddb",
   "metadata": {},
   "source": [
    "เราก็ใช้ เหมือนเดิมครับ"
   ]
  },
  {
   "cell_type": "markdown",
   "id": "7d77fbf2",
   "metadata": {},
   "source": [
    "MSE = $\\frac{1}{n}\\sum_{i=0}^{n}(y_{i}-\\hat{y_{i}})$"
   ]
  },
  {
   "cell_type": "markdown",
   "id": "53645af2",
   "metadata": {},
   "source": [
    "อันเดียวกับ linear regression"
   ]
  },
  {
   "cell_type": "code",
   "execution_count": 6,
   "id": "291eaa3d",
   "metadata": {},
   "outputs": [],
   "source": [
    "def loss_function(y,y_pred):\n",
    "    return np.mean((y - y_pred)**2)"
   ]
  },
  {
   "cell_type": "markdown",
   "id": "48c1d6a0",
   "metadata": {},
   "source": [
    "## ออกแบบ f(x)"
   ]
  },
  {
   "cell_type": "markdown",
   "id": "6d118530",
   "metadata": {},
   "source": [
    "เนื่องจากสมการ "
   ]
  },
  {
   "cell_type": "markdown",
   "id": "16a46a47",
   "metadata": {},
   "source": [
    "> $\\beta_{0}+\\beta_{1}x+\\beta_{2}x^{2}+\\beta_{3}x^{3}+...+\\beta_{n}x^{n}$"
   ]
  },
  {
   "cell_type": "markdown",
   "id": "f21cebbf",
   "metadata": {},
   "source": [
    "มีความต่อเนื่องไปเรื่อยๆ ทำให้เราไม่รู้ degree หรือจำนวนเลขยกกำลังที่จะเดา"
   ]
  },
  {
   "cell_type": "markdown",
   "id": "722dee8a",
   "metadata": {},
   "source": [
    "แต่ในดาต้าเรามีความกำหนดให้สูงสุดอยู่แค่ 3 แต่เราจะไปปรับใช้งานจริง อาจจะมีมากหรือน้อยกว่านี้เยอะ"
   ]
  },
  {
   "cell_type": "markdown",
   "id": "b1c99218",
   "metadata": {},
   "source": [
    "ทำให้การออกแบบไม่เหมือนกับบทก่อนหน้า"
   ]
  },
  {
   "cell_type": "markdown",
   "id": "5743dd68",
   "metadata": {},
   "source": [
    "โดยให้ betas เป็นเหมือน $\\beta_{i}$"
   ]
  },
  {
   "cell_type": "markdown",
   "id": "6b869cf9",
   "metadata": {},
   "source": [
    "การทำการ loop ด้วย i(power) และ ค่า betas(coef)"
   ]
  },
  {
   "cell_type": "markdown",
   "id": "c23f89e2",
   "metadata": {},
   "source": [
    "coeffs คือ *coefficient* คือค่าสัมประสิทธิ์ เลขตัวหน้า x เช่น 3x coeffs คือ 3 หรือ beta นั้นเลย"
   ]
  },
  {
   "cell_type": "markdown",
   "id": "9d247d53",
   "metadata": {},
   "source": [
    "ซึ่งโค้ดนี่ผลลัพท์จะเหมือนสมการ ด้านบนเลย"
   ]
  },
  {
   "cell_type": "code",
   "execution_count": 53,
   "id": "f07f362f",
   "metadata": {},
   "outputs": [],
   "source": [
    "def f(x,coeffs):\n",
    "    y = np.zeros_like(x, dtype=float)\n",
    "    for power, coef in enumerate(coeffs):\n",
    "        y += coef * x**power\n",
    "    return y\n"
   ]
  },
  {
   "cell_type": "code",
   "execution_count": 109,
   "id": "dffe4991",
   "metadata": {},
   "outputs": [],
   "source": [
    "degree = 5\n",
    "coeffs = np.random.uniform(0, 0, size=degree + 1)"
   ]
  },
  {
   "cell_type": "code",
   "execution_count": 110,
   "id": "c51bd118",
   "metadata": {},
   "outputs": [
    {
     "data": {
      "text/plain": [
       "[<matplotlib.lines.Line2D at 0x1cd9bf06ad0>]"
      ]
     },
     "execution_count": 110,
     "metadata": {},
     "output_type": "execute_result"
    },
    {
     "data": {
      "image/png": "[encoded data removed]",
      "text/plain": [
       "<Figure size 1000x600 with 1 Axes>"
      ]
     },
     "metadata": {},
     "output_type": "display_data"
    }
   ],
   "source": [
    "plt.figure(figsize=(10, 6))\n",
    "plt.scatter(x, y, color='blue')\n",
    "plt.plot(x, f(x, coeffs), color='red', linewidth=2)"
   ]
  },
  {
   "cell_type": "markdown",
   "id": "6341ffeb",
   "metadata": {},
   "source": [
    "เส้นนี้ให้เริ่มเดาที่ 0,0"
   ]
  },
  {
   "cell_type": "markdown",
   "id": "915206d0",
   "metadata": {},
   "source": [
    "# ทำ gradient descent"
   ]
  },
  {
   "cell_type": "markdown",
   "id": "6e8030b3",
   "metadata": {},
   "source": [
    "ทำโดยทำการ diff loss function"
   ]
  },
  {
   "cell_type": "markdown",
   "id": "9ffec279",
   "metadata": {},
   "source": [
    "ซึ่งผมจะ diff แยก $\\beta_{i}$"
   ]
  },
  {
   "cell_type": "markdown",
   "id": "7bbc8e9c",
   "metadata": {},
   "source": [
    "แต่สุดแล้ว ถ้า แยก ตัว $\\beta_{i}$ จะหายไปเหลือ $x^{n}$"
   ]
  },
  {
   "cell_type": "markdown",
   "id": "ab46ba3e",
   "metadata": {},
   "source": [
    "ตย. degree =5 จะได้ว่าเราจะต้อง diff $\\beta_{n=1,2,3,4,5}$ 5 ครั้ง\n"
   ]
  },
  {
   "cell_type": "markdown",
   "id": "80846baa",
   "metadata": {},
   "source": [
    "แสดงว่า $\\hat{y} = \\beta_{5}x^{5}+\\beta_{4}x^{4}+\\beta_{3}x^{3}+\\beta_{2}x^{2}+\\beta_{1}x+\\beta_{0}$"
   ]
  },
  {
   "cell_type": "markdown",
   "id": "61a743ab",
   "metadata": {},
   "source": [
    "จาก"
   ]
  },
  {
   "cell_type": "markdown",
   "id": "b1f736b3",
   "metadata": {},
   "source": [
    "$\\frac{\\partial}{\\partial \\hat{y_{i}}}(\\frac{1}{n}\\sum_{i=1}^{n}(y_{i}-\\hat{y_{i}})^{2})$ "
   ]
  },
  {
   "cell_type": "markdown",
   "id": "faa46a28",
   "metadata": {},
   "source": [
    "แก้เป็น"
   ]
  },
  {
   "cell_type": "markdown",
   "id": "77379d48",
   "metadata": {},
   "source": [
    "$\\frac{\\partial}{\\partial \\hat{y_{i}}}(\\frac{1}{n}\\sum_{i=1}^{n}(y_{i}-\\beta_{5}x^{5}+\\beta_{4}x^{4}+\\beta_{3}x^{3}+\\beta_{2}x^{2}+\\beta_{1}x+\\beta_{0})^{2})$"
   ]
  },
  {
   "cell_type": "markdown",
   "id": "91ae99bd",
   "metadata": {},
   "source": [
    "แล้ว diff by $\\beta_{5}$ ตัวแรก $\\frac{\\partial}{\\partial \\beta_{5}}$"
   ]
  },
  {
   "cell_type": "markdown",
   "id": "c4b94510",
   "metadata": {},
   "source": [
    "$\\frac{\\partial}{\\partial \\beta_{5}}(\\frac{1}{n}\\sum_{i=1}^{n}(y_{i}-\\beta_{5}x^{5}+\\beta_{4}x^{4}+\\beta_{3}x^{3}+\\beta_{2}x^{2}+\\beta_{1}x+\\beta_{0})^{2}) =$"
   ]
  },
  {
   "cell_type": "markdown",
   "id": "9f9b8397",
   "metadata": {},
   "source": [
    "$2*\\frac{1}{n}\\sum_{i=1}^{n}(y_{i}-\\beta_{5}x^{5}+\\beta_{4}x^{4}+\\beta_{3}x^{3}+\\beta_{2}x^{2}+\\beta_{1}x+\\beta_{0}) * \\frac{\\partial}{\\partial \\beta}(y_{i}-\\beta_{5}x^{5}+\\beta_{4}x^{4}+\\beta_{3}x^{3}+\\beta_{2}x^{2}+\\beta_{1}x+\\beta_{0})  $"
   ]
  },
  {
   "cell_type": "markdown",
   "id": "f3e76eda",
   "metadata": {},
   "source": [
    "$2*\\frac{1}{n}\\sum_{i=1}^{n}(y_{i}-\\beta_{5}x^{5}+\\beta_{4}x^{4}+\\beta_{3}x^{3}+\\beta_{2}x^{2}+\\beta_{1}x+\\beta_{0})* (0-x^{5}+0+0+0+0+0)$"
   ]
  },
  {
   "cell_type": "markdown",
   "id": "5f0d5acd",
   "metadata": {},
   "source": [
    "$2*\\frac{1}{n}\\sum_{i=1}^{n}(y_{i}-\\beta_{5}x^{5}+\\beta_{4}x^{4}+\\beta_{3}x^{3}+\\beta_{2}x^{2}+\\beta_{1}x+\\beta_{0})* -x^{5}$"
   ]
  },
  {
   "cell_type": "markdown",
   "id": "ee47ac06",
   "metadata": {},
   "source": [
    "หรือรูปอย่างง่ายคือ $\\frac{-2x^{5}}{n}\\sum_{i=1}^{n}(y_{i}-\\beta_{5}x^{5}+\\beta_{4}x^{4}+\\beta_{3}x^{3}+\\beta_{2}x^{2}+\\beta_{1}x+\\beta_{0}) $ "
   ]
  },
  {
   "cell_type": "markdown",
   "id": "ac298983",
   "metadata": {},
   "source": [
    "หรือ $\\frac{-2x^{5}}{n}\\sum_{i=1}^{n}(y_{i}-\\hat{y_{i}})$ เนื่องจาก $\\hat{y_{i}}=\\beta_{5}x^{5}+\\beta_{4}x^{4}+\\beta_{3}x^{3}+\\beta_{2}x^{2}+\\beta_{1}x+\\beta_{0}$"
   ]
  },
  {
   "cell_type": "markdown",
   "id": "1bea3c56",
   "metadata": {},
   "source": [
    "หรือ คุณ - เข้าไปจะได้ $\\frac{2x^{5}}{n}\\sum_{i=1}^{n}(\\hat{y_{i}}-y_{i})$"
   ]
  },
  {
   "cell_type": "markdown",
   "id": "3779ed61",
   "metadata": {},
   "source": [
    "ถ้าเรา diff by $\\beta_{4}$ จะได้ $\\frac{2x^{4}}{n}\\sum_{i=1}^{n}(\\hat{y_{i}}-y_{i})$"
   ]
  },
  {
   "cell_type": "markdown",
   "id": "b5b03138",
   "metadata": {},
   "source": [
    "ถ้าเรา diff by $\\beta_{3}$ จะได้ $\\frac{2x^{3}}{n}\\sum_{i=1}^{n}(\\hat{y_{i}}-y_{i})$"
   ]
  },
  {
   "cell_type": "markdown",
   "id": "37594972",
   "metadata": {},
   "source": [
    "ซึ่งเหมือนกันมาก โดยโค้ดที่แสดงอยู่ทำการเขียนในลักษณะนี้แล้วนั้นเอง"
   ]
  },
  {
   "cell_type": "code",
   "execution_count": 84,
   "id": "c9b4167b",
   "metadata": {},
   "outputs": [],
   "source": [
    "def gradient(x, y, betas):\n",
    "    y_hat = f(x, betas)\n",
    "    grads = []\n",
    "    for j in range(len(betas)):\n",
    "        grad_j =np.mean( 2*(x ** j) * (y_hat - y))\n",
    "        grads.append(grad_j)\n",
    "    return np.array(grads)"
   ]
  },
  {
   "cell_type": "markdown",
   "id": "86e4f2e4",
   "metadata": {},
   "source": [
    "# ทำการเทรน"
   ]
  },
  {
   "cell_type": "markdown",
   "id": "070481fa",
   "metadata": {},
   "source": [
    "ทำการให้ betas = [0,0,0,0,0,0] ค่าเริ่มต้น"
   ]
  },
  {
   "cell_type": "markdown",
   "id": "f5471f72",
   "metadata": {},
   "source": [
    "learning_rate = 1e-16 คือ 0.0000000000000001\n"
   ]
  },
  {
   "cell_type": "markdown",
   "id": "72f2274a",
   "metadata": {},
   "source": [
    "degree = 5"
   ]
  },
  {
   "cell_type": "markdown",
   "id": "400f35f8",
   "metadata": {},
   "source": [
    "ทำไมถึงเป็น degree 5 ผมสมมติว่าเราไม่รู้ว่า degree ของเส้นนี้จริงๆเท่าไหร่ ผมทำการสุ่มนะครับเพิ่มความไม่ยากมากเลยทำให้ผมเอา 5 \n"
   ]
  },
  {
   "cell_type": "markdown",
   "id": "73d33ce8",
   "metadata": {},
   "source": [
    "ขนาด 5 คือ ใช้ learning_rate = 1e-16 น้อยมากในการอัปเดทค่า"
   ]
  },
  {
   "cell_type": "code",
   "execution_count": 159,
   "id": "0c7e76d0",
   "metadata": {},
   "outputs": [
    {
     "name": "stdout",
     "output_type": "stream",
     "text": [
      "Iteration 0,Coefficients: [-7.25787414e-11  4.05825442e-09  1.73298827e-08  2.09579324e-06\n",
      "  3.03558866e-05  1.33290007e-03] Loss: 358069107.9817\n",
      "Iteration 200,Coefficients: [-3.20727646e-08  2.83647785e-07 -9.14034915e-06  5.78647207e-05\n",
      " -3.29824502e-03  2.07953354e-03] Loss: 221701819.2072\n",
      "Iteration 400,Coefficients: [-6.36915686e-08  5.60042237e-07 -1.81901246e-05  1.12456330e-04\n",
      " -6.59963747e-03  2.19650769e-03] Loss: 216243141.1852\n",
      "Iteration 600,Coefficients: [-9.48934326e-08  8.34524645e-07 -2.71040493e-05  1.66733285e-04\n",
      " -9.85228985e-03  2.31175423e-03] Loss: 210944425.1885\n",
      "Iteration 800,Coefficients: [-1.25684512e-07  1.10712320e-06 -3.58841292e-05  2.20700222e-04\n",
      " -1.30569217e-02  2.42529865e-03] Loss: 205800983.1873\n",
      "Iteration 1000,Coefficients: [-1.56070873e-07  1.37786567e-06 -4.45323401e-05  2.74361708e-04\n",
      " -1.62142419e-02  2.53716608e-03] Loss: 200808264.5446\n",
      "Iteration 1200,Coefficients: [-1.86058490e-07  1.64677943e-06 -5.30506292e-05  3.27722246e-04\n",
      " -1.93249489e-02  2.64738128e-03] Loss: 195961851.9893\n",
      "Iteration 1400,Coefficients: [-2.15653251e-07  1.91389144e-06 -6.14409146e-05  3.80786268e-04\n",
      " -2.23897309e-02  2.75596865e-03] Loss: 191257457.7084\n",
      "Iteration 1600,Coefficients: [-2.44860956e-07  2.17922825e-06 -6.97050862e-05  4.33558145e-04\n",
      " -2.54092657e-02  2.86295221e-03] Loss: 186690919.5521\n",
      "Iteration 1800,Coefficients: [-2.73687319e-07  2.44281604e-06 -7.78450059e-05  4.86042179e-04\n",
      " -2.83842214e-02  2.96835563e-03] Loss: 182258197.3513\n",
      "Iteration 2000,Coefficients: [-3.02137972e-07  2.70468060e-06 -8.58625082e-05  5.38242613e-04\n",
      " -3.13152561e-02  3.07220226e-03] Loss: 177955369.3430\n",
      "Iteration 2200,Coefficients: [-3.30218460e-07  2.96484732e-06 -9.37594007e-05  5.90163625e-04\n",
      " -3.42030182e-02  3.17451506e-03] Loss: 173778628.6997\n",
      "Iteration 2400,Coefficients: [-3.57934250e-07  3.22334123e-06 -1.01537464e-04  6.41809330e-04\n",
      " -3.70481464e-02  3.27531668e-03] Loss: 169724280.1611\n",
      "Iteration 2600,Coefficients: [-3.85290727e-07  3.48018700e-06 -1.09198452e-04  6.93183785e-04\n",
      " -3.98512701e-02  3.37462943e-03] Loss: 165788736.7646\n",
      "Iteration 2800,Coefficients: [-4.12293195e-07  3.73540892e-06 -1.16744094e-04  7.44290986e-04\n",
      " -4.26130095e-02  3.47247529e-03] Loss: 161968516.6711\n",
      "Iteration 3000,Coefficients: [-4.38946881e-07  3.98903092e-06 -1.24176093e-04  7.95134870e-04\n",
      " -4.53339755e-02  3.56887591e-03] Loss: 158260240.0842\n",
      "Iteration 3200,Coefficients: [-4.65256935e-07  4.24107659e-06 -1.31496127e-04  8.45719315e-04\n",
      " -4.80147700e-02  3.66385264e-03] Loss: 154660626.2600\n",
      "Iteration 3400,Coefficients: [-4.91228430e-07  4.49156916e-06 -1.38705848e-04  8.96048143e-04\n",
      " -5.06559860e-02  3.75742648e-03] Loss: 151166490.6035\n",
      "Iteration 3600,Coefficients: [-5.16866366e-07  4.74053152e-06 -1.45806886e-04  9.46125119e-04\n",
      " -5.32582079e-02  3.84961816e-03] Loss: 147774741.8513\n",
      "Iteration 3800,Coefficients: [-5.42175668e-07  4.98798623e-06 -1.52800845e-04  9.95953952e-04\n",
      " -5.58220112e-02  3.94044807e-03] Loss: 144482379.3359\n",
      "Iteration 4000,Coefficients: [-5.67161187e-07  5.23395551e-06 -1.59689306e-04  1.04553830e-03\n",
      " -5.83479631e-02  4.02993632e-03] Loss: 141286490.3311\n",
      "Iteration 4200,Coefficients: [-5.91827704e-07  5.47846125e-06 -1.66473827e-04  1.09488176e-03\n",
      " -6.08366225e-02  4.11810271e-03] Loss: 138184247.4740\n",
      "Iteration 4400,Coefficients: [-6.16179930e-07  5.72152502e-06 -1.73155943e-04  1.14398788e-03\n",
      " -6.32885397e-02  4.20496676e-03] Loss: 135172906.2641\n",
      "Iteration 4600,Coefficients: [-6.40222504e-07  5.96316808e-06 -1.79737164e-04  1.19286015e-03\n",
      " -6.57042574e-02  4.29054769e-03] Loss: 132249802.6340\n",
      "Iteration 4800,Coefficients: [-6.63959999e-07  6.20341135e-06 -1.86218982e-04  1.24150203e-03\n",
      " -6.80843097e-02  4.37486445e-03] Loss: 129412350.5927\n",
      "Iteration 5000,Coefficients: [-6.87396920e-07  6.44227547e-06 -1.92602863e-04  1.28991690e-03\n",
      " -7.04292233e-02  4.45793570e-03] Loss: 126658039.9371\n",
      "Iteration 5200,Coefficients: [-7.10537704e-07  6.67978076e-06 -1.98890254e-04  1.33810810e-03\n",
      " -7.27395169e-02  4.53977982e-03] Loss: 123984434.0312\n",
      "Iteration 5400,Coefficients: [-7.33386724e-07  6.91594724e-06 -2.05082580e-04  1.38607894e-03\n",
      " -7.50157016e-02  4.62041494e-03] Loss: 121389167.6494\n",
      "Iteration 5600,Coefficients: [-7.55948287e-07  7.15079465e-06 -2.11181243e-04  1.43383265e-03\n",
      " -7.72582809e-02  4.69985889e-03] Loss: 118869944.8847\n",
      "Iteration 5800,Coefficients: [-7.78226639e-07  7.38434242e-06 -2.17187628e-04  1.48137242e-03\n",
      " -7.94677509e-02  4.77812927e-03] Loss: 116424537.1162\n",
      "Iteration 6000,Coefficients: [-8.00225961e-07  7.61660970e-06 -2.23103095e-04  1.52870142e-03\n",
      " -8.16446003e-02  4.85524339e-03] Loss: 114050781.0375\n",
      "Iteration 6200,Coefficients: [-8.21950373e-07  7.84761536e-06 -2.28928989e-04  1.57582274e-03\n",
      " -8.37893109e-02  4.93121833e-03] Loss: 111746576.7427\n",
      "Iteration 6400,Coefficients: [-8.43403934e-07  8.07737799e-06 -2.34666631e-04  1.62273945e-03\n",
      " -8.59023569e-02  5.00607091e-03] Loss: 109509885.8682\n",
      "Iteration 6600,Coefficients: [-8.64590643e-07  8.30591589e-06 -2.40317324e-04  1.66945454e-03\n",
      " -8.79842058e-02  5.07981769e-03] Loss: 107338729.7888\n",
      "Iteration 6800,Coefficients: [-8.85514441e-07  8.53324712e-06 -2.45882353e-04  1.71597100e-03\n",
      " -9.00353183e-02  5.15247500e-03] Loss: 105231187.8672\n",
      "Iteration 7000,Coefficients: [-9.06179209e-07  8.75938946e-06 -2.51362981e-04  1.76229174e-03\n",
      " -9.20561480e-02  5.22405892e-03] Loss: 103185395.7547\n",
      "Iteration 7200,Coefficients: [-9.26588773e-07  8.98436041e-06 -2.56760456e-04  1.80841965e-03\n",
      " -9.40471419e-02  5.29458530e-03] Loss: 101199543.7412\n",
      "Iteration 7400,Coefficients: [-9.46746900e-07  9.20817723e-06 -2.62076004e-04  1.85435757e-03\n",
      " -9.60087407e-02  5.36406975e-03] Loss: 99271875.1539\n",
      "Iteration 7600,Coefficients: [-9.66657303e-07  9.43085693e-06 -2.67310837e-04  1.90010828e-03\n",
      " -9.79413781e-02  5.43252765e-03] Loss: 97400684.8033\n",
      "Iteration 7800,Coefficients: [-9.86323640e-07  9.65241626e-06 -2.72466144e-04  1.94567455e-03\n",
      " -9.98454817e-02  5.49997416e-03] Loss: 95584317.4741\n",
      "Iteration 8000,Coefficients: [-1.00574951e-06  9.87287172e-06 -2.77543102e-04  1.99105909e-03\n",
      " -1.01721473e-01  5.56642420e-03] Loss: 93821166.4605\n",
      "Iteration 8200,Coefficients: [-1.02493848e-06  1.00922396e-05 -2.82542866e-04  2.03626457e-03\n",
      " -1.03569766e-01  5.63189249e-03] Loss: 92109672.1447\n",
      "Iteration 8400,Coefficients: [-1.04389403e-06  1.03105358e-05 -2.87466576e-04  2.08129363e-03\n",
      " -1.05390771e-01  5.69639352e-03] Loss: 90448320.6170\n",
      "Iteration 8600,Coefficients: [-1.06261961e-06  1.05277763e-05 -2.92315355e-04  2.12614887e-03\n",
      " -1.07184891e-01  5.75994157e-03] Loss: 88835642.3359\n",
      "Iteration 8800,Coefficients: [-1.08111862e-06  1.07439765e-05 -2.97090310e-04  2.17083284e-03\n",
      " -1.08952521e-01  5.82255070e-03] Loss: 87270210.8280\n",
      "Iteration 9000,Coefficients: [-1.09939441e-06  1.09591517e-05 -3.01792531e-04  2.21534807e-03\n",
      " -1.10694053e-01  5.88423479e-03] Loss: 85750641.4258\n",
      "Iteration 9200,Coefficients: [-1.11745026e-06  1.11733172e-05 -3.06423091e-04  2.25969703e-03\n",
      " -1.12409873e-01  5.94500747e-03] Loss: 84275590.0424\n",
      "Iteration 9400,Coefficients: [-1.13528944e-06  1.13864876e-05 -3.10983050e-04  2.30388217e-03\n",
      " -1.14100360e-01  6.00488222e-03] Loss: 82843751.9824\n",
      "Iteration 9600,Coefficients: [-1.15291513e-06  1.15986778e-05 -3.15473448e-04  2.34790590e-03\n",
      " -1.15765888e-01  6.06387228e-03] Loss: 81453860.7872\n",
      "Iteration 9800,Coefficients: [-1.17033049e-06  1.18099020e-05 -3.19895314e-04  2.39177060e-03\n",
      " -1.17406825e-01  6.12199072e-03] Loss: 80104687.1143\n",
      "Iteration 10000,Coefficients: [-1.18753863e-06  1.20201746e-05 -3.24249659e-04  2.43547861e-03\n",
      " -1.19023535e-01  6.17925040e-03] Loss: 78795037.6500\n",
      "Iteration 10200,Coefficients: [-1.20454260e-06  1.22295096e-05 -3.28537480e-04  2.47903222e-03\n",
      " -1.20616375e-01  6.23566400e-03] Loss: 77523754.0532\n",
      "Iteration 10400,Coefficients: [-1.22134543e-06  1.24379207e-05 -3.32759760e-04  2.52243372e-03\n",
      " -1.22185697e-01  6.29124401e-03] Loss: 76289711.9303\n",
      "Iteration 10600,Coefficients: [-1.23795007e-06  1.26454216e-05 -3.36917466e-04  2.56568533e-03\n",
      " -1.23731850e-01  6.34600274e-03] Loss: 75091819.8405\n",
      "Iteration 10800,Coefficients: [-1.25435946e-06  1.28520257e-05 -3.41011552e-04  2.60878927e-03\n",
      " -1.25255173e-01  6.39995231e-03] Loss: 73929018.3302\n",
      "Iteration 11000,Coefficients: [-1.27057648e-06  1.30577461e-05 -3.45042957e-04  2.65174770e-03\n",
      " -1.26756006e-01  6.45310466e-03] Loss: 72800278.9951\n",
      "Iteration 11200,Coefficients: [-1.28660398e-06  1.32625959e-05 -3.49012607e-04  2.69456276e-03\n",
      " -1.28234679e-01  6.50547157e-03] Loss: 71704603.5707\n",
      "Iteration 11400,Coefficients: [-1.30244474e-06  1.34665879e-05 -3.52921414e-04  2.73723657e-03\n",
      " -1.29691521e-01  6.55706462e-03] Loss: 70641023.0487\n",
      "Iteration 11600,Coefficients: [-1.31810153e-06  1.36697347e-05 -3.56770276e-04  2.77977119e-03\n",
      " -1.31126852e-01  6.60789525e-03] Loss: 69608596.8197\n",
      "Iteration 11800,Coefficients: [-1.33357706e-06  1.38720488e-05 -3.60560078e-04  2.82216868e-03\n",
      " -1.32540991e-01  6.65797471e-03] Loss: 68606411.8408\n",
      "Iteration 12000,Coefficients: [-1.34887402e-06  1.40735424e-05 -3.64291692e-04  2.86443105e-03\n",
      " -1.33934251e-01  6.70731409e-03] Loss: 67633581.8278\n",
      "Iteration 12200,Coefficients: [-1.36399503e-06  1.42742276e-05 -3.67965978e-04  2.90656029e-03\n",
      " -1.35306940e-01  6.75592431e-03] Loss: 66689246.4710\n",
      "Iteration 12400,Coefficients: [-1.37894269e-06  1.44741163e-05 -3.71583781e-04  2.94855835e-03\n",
      " -1.36659361e-01  6.80381615e-03] Loss: 65772570.6740\n",
      "Iteration 12600,Coefficients: [-1.39371957e-06  1.46732202e-05 -3.75145937e-04  2.99042716e-03\n",
      " -1.37991814e-01  6.85100019e-03] Loss: 64882743.8146\n",
      "Iteration 12800,Coefficients: [-1.40832819e-06  1.48715508e-05 -3.78653267e-04  3.03216863e-03\n",
      " -1.39304593e-01  6.89748690e-03] Loss: 64018979.0276\n",
      "Iteration 13000,Coefficients: [-1.42277103e-06  1.50691197e-05 -3.82106580e-04  3.07378462e-03\n",
      " -1.40597989e-01  6.94328656e-03] Loss: 63180512.5085\n",
      "Iteration 13200,Coefficients: [-1.43705054e-06  1.52659379e-05 -3.85506675e-04  3.11527697e-03\n",
      " -1.41872289e-01  6.98840932e-03] Loss: 62366602.8380\n",
      "Iteration 13400,Coefficients: [-1.45116914e-06  1.54620164e-05 -3.88854336e-04  3.15664751e-03\n",
      " -1.43127773e-01  7.03286517e-03] Loss: 61576530.3254\n",
      "Iteration 13600,Coefficients: [-1.46512919e-06  1.56573663e-05 -3.92150338e-04  3.19789803e-03\n",
      " -1.44364720e-01  7.07666396e-03] Loss: 60809596.3722\n",
      "Iteration 13800,Coefficients: [-1.47893304e-06  1.58519982e-05 -3.95395445e-04  3.23903028e-03\n",
      " -1.45583403e-01  7.11981539e-03] Loss: 60065122.8539\n",
      "Iteration 14000,Coefficients: [-1.49258300e-06  1.60459226e-05 -3.98590407e-04  3.28004600e-03\n",
      " -1.46784093e-01  7.16232901e-03] Loss: 59342451.5198\n",
      "Iteration 14200,Coefficients: [-1.50608133e-06  1.62391500e-05 -4.01735965e-04  3.32094691e-03\n",
      " -1.47967054e-01  7.20421425e-03] Loss: 58640943.4106\n",
      "Iteration 14400,Coefficients: [-1.51943029e-06  1.64316907e-05 -4.04832848e-04  3.36173470e-03\n",
      " -1.49132548e-01  7.24548036e-03] Loss: 57959978.2932\n",
      "Iteration 14600,Coefficients: [-1.53263207e-06  1.66235547e-05 -4.07881776e-04  3.40241102e-03\n",
      " -1.50280834e-01  7.28613651e-03] Loss: 57298954.1117\n",
      "Iteration 14800,Coefficients: [-1.54568885e-06  1.68147520e-05 -4.10883457e-04  3.44297751e-03\n",
      " -1.51412164e-01  7.32619168e-03] Loss: 56657286.4547\n",
      "Iteration 15000,Coefficients: [-1.55860276e-06  1.70052923e-05 -4.13838588e-04  3.48343579e-03\n",
      " -1.52526791e-01  7.36565476e-03] Loss: 56034408.0383\n",
      "Iteration 15200,Coefficients: [-1.57137593e-06  1.71951855e-05 -4.16747856e-04  3.52378744e-03\n",
      " -1.53624960e-01  7.40453448e-03] Loss: 55429768.2040\n",
      "Iteration 15400,Coefficients: [-1.58401042e-06  1.73844409e-05 -4.19611940e-04  3.56403403e-03\n",
      " -1.54706913e-01  7.44283945e-03] Loss: 54842832.4317\n",
      "Iteration 15600,Coefficients: [-1.59650828e-06  1.75730679e-05 -4.22431505e-04  3.60417710e-03\n",
      " -1.55772891e-01  7.48057817e-03] Loss: 54273081.8663\n",
      "Iteration 15800,Coefficients: [-1.60887155e-06  1.77610759e-05 -4.25207211e-04  3.64421817e-03\n",
      " -1.56823130e-01  7.51775898e-03] Loss: 53720012.8590\n",
      "Iteration 16000,Coefficients: [-1.62110219e-06  1.79484738e-05 -4.27939703e-04  3.68415874e-03\n",
      " -1.57857861e-01  7.55439013e-03] Loss: 53183136.5216\n",
      "Iteration 16200,Coefficients: [-1.63320217e-06  1.81352707e-05 -4.30629621e-04  3.72400029e-03\n",
      " -1.58877314e-01  7.59047973e-03] Loss: 52661978.2936\n",
      "Iteration 16400,Coefficients: [-1.64517342e-06  1.83214754e-05 -4.33277593e-04  3.76374426e-03\n",
      " -1.59881714e-01  7.62603578e-03] Loss: 52156077.5227\n",
      "Iteration 16600,Coefficients: [-1.65701784e-06  1.85070966e-05 -4.35884239e-04  3.80339210e-03\n",
      " -1.60871283e-01  7.66106614e-03] Loss: 51664987.0570\n",
      "Iteration 16800,Coefficients: [-1.66873730e-06  1.86921430e-05 -4.38450169e-04  3.84294520e-03\n",
      " -1.61846241e-01  7.69557859e-03] Loss: 51188272.8491\n",
      "Iteration 17000,Coefficients: [-1.68033366e-06  1.88766228e-05 -4.40975984e-04  3.88240497e-03\n",
      " -1.62806803e-01  7.72958076e-03] Loss: 50725513.5727\n",
      "Iteration 17200,Coefficients: [-1.69180872e-06  1.90605445e-05 -4.43462277e-04  3.92177277e-03\n",
      " -1.63753181e-01  7.76308020e-03] Loss: 50276300.2490\n",
      "Iteration 17400,Coefficients: [-1.70316427e-06  1.92439163e-05 -4.45909631e-04  3.96104994e-03\n",
      " -1.64685585e-01  7.79608432e-03] Loss: 49840235.8853\n",
      "Iteration 17600,Coefficients: [-1.71440210e-06  1.94267462e-05 -4.48318621e-04  4.00023782e-03\n",
      " -1.65604221e-01  7.82860043e-03] Loss: 49416935.1238\n",
      "Iteration 17800,Coefficients: [-1.72552392e-06  1.96090423e-05 -4.50689814e-04  4.03933773e-03\n",
      " -1.66509293e-01  7.86063574e-03] Loss: 49006023.9003\n",
      "Iteration 18000,Coefficients: [-1.73653146e-06  1.97908123e-05 -4.53023769e-04  4.07835094e-03\n",
      " -1.67401001e-01  7.89219734e-03] Loss: 48607139.1132\n",
      "Iteration 18200,Coefficients: [-1.74742641e-06  1.99720640e-05 -4.55321034e-04  4.11727873e-03\n",
      " -1.68279541e-01  7.92329224e-03] Loss: 48219928.3027\n",
      "Iteration 18400,Coefficients: [-1.75821042e-06  2.01528050e-05 -4.57582152e-04  4.15612236e-03\n",
      " -1.69145109e-01  7.95392731e-03] Loss: 47844049.3384\n",
      "Iteration 18600,Coefficients: [-1.76888513e-06  2.03330428e-05 -4.59807657e-04  4.19488305e-03\n",
      " -1.69997896e-01  7.98410935e-03] Loss: 47479170.1167\n",
      "Iteration 18800,Coefficients: [-1.77945217e-06  2.05127848e-05 -4.61998075e-04  4.23356202e-03\n",
      " -1.70838091e-01  8.01384505e-03] Loss: 47124968.2672\n",
      "Iteration 19000,Coefficients: [-1.78991311e-06  2.06920383e-05 -4.64153924e-04  4.27216048e-03\n",
      " -1.71665879e-01  8.04314099e-03] Loss: 46781130.8671\n",
      "Iteration 19200,Coefficients: [-1.80026953e-06  2.08708104e-05 -4.66275714e-04  4.31067959e-03\n",
      " -1.72481443e-01  8.07200367e-03] Loss: 46447354.1645\n",
      "Iteration 19400,Coefficients: [-1.81052297e-06  2.10491083e-05 -4.68363949e-04  4.34912053e-03\n",
      " -1.73284965e-01  8.10043948e-03] Loss: 46123343.3096\n",
      "Iteration 19600,Coefficients: [-1.82067495e-06  2.12269389e-05 -4.70419123e-04  4.38748444e-03\n",
      " -1.74076621e-01  8.12845472e-03] Loss: 45808812.0940\n",
      "Iteration 19800,Coefficients: [-1.83072697e-06  2.14043091e-05 -4.72441726e-04  4.42577245e-03\n",
      " -1.74856588e-01  8.15605561e-03] Loss: 45503482.6969\n",
      "Iteration 20000,Coefficients: [-1.84068051e-06  2.15812255e-05 -4.74432239e-04  4.46398567e-03\n",
      " -1.75625037e-01  8.18324826e-03] Loss: 45207085.4399\n",
      "Iteration 20200,Coefficients: [-1.85053702e-06  2.17576950e-05 -4.76391135e-04  4.50212520e-03\n",
      " -1.76382138e-01  8.21003869e-03] Loss: 44919358.5481\n",
      "Iteration 20400,Coefficients: [-1.86029794e-06  2.19337239e-05 -4.78318880e-04  4.54019211e-03\n",
      " -1.77128060e-01  8.23643285e-03] Loss: 44640047.9183\n",
      "Iteration 20600,Coefficients: [-1.86996467e-06  2.21093189e-05 -4.80215937e-04  4.57818747e-03\n",
      " -1.77862967e-01  8.26243658e-03] Loss: 44368906.8944\n",
      "Iteration 20800,Coefficients: [-1.87953860e-06  2.22844863e-05 -4.82082757e-04  4.61611232e-03\n",
      " -1.78587022e-01  8.28805565e-03] Loss: 44105696.0492\n",
      "Iteration 21000,Coefficients: [-1.88902112e-06  2.24592323e-05 -4.83919787e-04  4.65396771e-03\n",
      " -1.79300384e-01  8.31329573e-03] Loss: 43850182.9724\n",
      "Iteration 21200,Coefficients: [-1.89841356e-06  2.26335632e-05 -4.85727467e-04  4.69175464e-03\n",
      " -1.80003213e-01  8.33816243e-03] Loss: 43602142.0648\n",
      "Iteration 21400,Coefficients: [-1.90771727e-06  2.28074850e-05 -4.87506231e-04  4.72947412e-03\n",
      " -1.80695663e-01  8.36266125e-03] Loss: 43361354.3391\n",
      "Iteration 21600,Coefficients: [-1.91693354e-06  2.29810038e-05 -4.89256506e-04  4.76712714e-03\n",
      " -1.81377887e-01  8.38679763e-03] Loss: 43127607.2258\n",
      "Iteration 21800,Coefficients: [-1.92606367e-06  2.31541254e-05 -4.90978713e-04  4.80471466e-03\n",
      " -1.82050037e-01  8.41057691e-03] Loss: 42900694.3851\n",
      "Iteration 22000,Coefficients: [-1.93510894e-06  2.33268557e-05 -4.92673265e-04  4.84223766e-03\n",
      " -1.82712262e-01  8.43400436e-03] Loss: 42680415.5247\n",
      "Iteration 22200,Coefficients: [-1.94407059e-06  2.34992004e-05 -4.94340573e-04  4.87969706e-03\n",
      " -1.83364706e-01  8.45708519e-03] Loss: 42466576.2220\n",
      "Iteration 22400,Coefficients: [-1.95294987e-06  2.36711652e-05 -4.95981037e-04  4.91709381e-03\n",
      " -1.84007517e-01  8.47982450e-03] Loss: 42258987.7525\n",
      "Iteration 22600,Coefficients: [-1.96174799e-06  2.38427556e-05 -4.97595055e-04  4.95442881e-03\n",
      " -1.84640834e-01  8.50222735e-03] Loss: 42057466.9228\n",
      "Iteration 22800,Coefficients: [-1.97046614e-06  2.40139772e-05 -4.99183017e-04  4.99170297e-03\n",
      " -1.85264799e-01  8.52429868e-03] Loss: 41861835.9081\n",
      "Iteration 23000,Coefficients: [-1.97910552e-06  2.41848353e-05 -5.00745308e-04  5.02891719e-03\n",
      " -1.85879550e-01  8.54604341e-03] Loss: 41671922.0953\n",
      "Iteration 23200,Coefficients: [-1.98766727e-06  2.43553353e-05 -5.02282307e-04  5.06607233e-03\n",
      " -1.86485222e-01  8.56746636e-03] Loss: 41487557.9302\n",
      "Iteration 23400,Coefficients: [-1.99615256e-06  2.45254824e-05 -5.03794388e-04  5.10316927e-03\n",
      " -1.87081949e-01  8.58857226e-03] Loss: 41308580.7690\n",
      "Iteration 23600,Coefficients: [-2.00456251e-06  2.46952818e-05 -5.05281919e-04  5.14020885e-03\n",
      " -1.87669865e-01  8.60936580e-03] Loss: 41134832.7344\n",
      "Iteration 23800,Coefficients: [-2.01289822e-06  2.48647387e-05 -5.06745263e-04  5.17719191e-03\n",
      " -1.88249098e-01  8.62985160e-03] Loss: 40966160.5764\n",
      "Iteration 24000,Coefficients: [-2.02116081e-06  2.50338579e-05 -5.08184776e-04  5.21411927e-03\n",
      " -1.88819777e-01  8.65003420e-03] Loss: 40802415.5359\n",
      "Iteration 24200,Coefficients: [-2.02935135e-06  2.52026445e-05 -5.09600811e-04  5.25099175e-03\n",
      " -1.89382028e-01  8.66991807e-03] Loss: 40643453.2139\n",
      "Iteration 24400,Coefficients: [-2.03747090e-06  2.53711034e-05 -5.10993715e-04  5.28781016e-03\n",
      " -1.89935976e-01  8.68950762e-03] Loss: 40489133.4429\n",
      "Iteration 24600,Coefficients: [-2.04552051e-06  2.55392393e-05 -5.12363829e-04  5.32457528e-03\n",
      " -1.90481743e-01  8.70880720e-03] Loss: 40339320.1638\n",
      "Iteration 24800,Coefficients: [-2.05350122e-06  2.57070570e-05 -5.13711490e-04  5.36128789e-03\n",
      " -1.91019450e-01  8.72782109e-03] Loss: 40193881.3045\n",
      "Iteration 25000,Coefficients: [-2.06141404e-06  2.58745612e-05 -5.15037030e-04  5.39794875e-03\n",
      " -1.91549216e-01  8.74655350e-03] Loss: 40052688.6639\n",
      "Iteration 25200,Coefficients: [-2.06925998e-06  2.60417563e-05 -5.16340775e-04  5.43455863e-03\n",
      " -1.92071158e-01  8.76500860e-03] Loss: 39915617.7980\n",
      "Iteration 25400,Coefficients: [-2.07704003e-06  2.62086470e-05 -5.17623048e-04  5.47111827e-03\n",
      " -1.92585392e-01  8.78319047e-03] Loss: 39782547.9099\n",
      "Iteration 25600,Coefficients: [-2.08475515e-06  2.63752378e-05 -5.18884165e-04  5.50762839e-03\n",
      " -1.93092032e-01  8.80110314e-03] Loss: 39653361.7429\n",
      "Iteration 25800,Coefficients: [-2.09240631e-06  2.65415329e-05 -5.20124439e-04  5.54408973e-03\n",
      " -1.93591189e-01  8.81875061e-03] Loss: 39527945.4768\n",
      "Iteration 26000,Coefficients: [-2.09999446e-06  2.67075368e-05 -5.21344179e-04  5.58050299e-03\n",
      " -1.94082974e-01  8.83613677e-03] Loss: 39406188.6272\n",
      "Iteration 26200,Coefficients: [-2.10752051e-06  2.68732537e-05 -5.22543687e-04  5.61686887e-03\n",
      " -1.94567495e-01  8.85326548e-03] Loss: 39287983.9474\n",
      "Iteration 26400,Coefficients: [-2.11498540e-06  2.70386878e-05 -5.23723262e-04  5.65318808e-03\n",
      " -1.95044861e-01  8.87014055e-03] Loss: 39173227.3342\n",
      "Iteration 26600,Coefficients: [-2.12239002e-06  2.72038433e-05 -5.24883199e-04  5.68946128e-03\n",
      " -1.95515177e-01  8.88676572e-03] Loss: 39061817.7351\n",
      "Iteration 26800,Coefficients: [-2.12973527e-06  2.73687241e-05 -5.26023788e-04  5.72568914e-03\n",
      " -1.95978547e-01  8.90314468e-03] Loss: 38953657.0591\n",
      "Iteration 27000,Coefficients: [-2.13702202e-06  2.75333344e-05 -5.27145314e-04  5.76187234e-03\n",
      " -1.96435073e-01  8.91928107e-03] Loss: 38848650.0903\n",
      "Iteration 27200,Coefficients: [-2.14425114e-06  2.76976781e-05 -5.28248060e-04  5.79801152e-03\n",
      " -1.96884856e-01  8.93517846e-03] Loss: 38746704.4029\n",
      "Iteration 27400,Coefficients: [-2.15142348e-06  2.78617591e-05 -5.29332303e-04  5.83410732e-03\n",
      " -1.97327996e-01  8.95084039e-03] Loss: 38647730.2802\n",
      "Iteration 27600,Coefficients: [-2.15853987e-06  2.80255812e-05 -5.30398316e-04  5.87016037e-03\n",
      " -1.97764591e-01  8.96627032e-03] Loss: 38551640.6346\n",
      "Iteration 27800,Coefficients: [-2.16560115e-06  2.81891482e-05 -5.31446369e-04  5.90617129e-03\n",
      " -1.98194738e-01  8.98147169e-03] Loss: 38458350.9308\n",
      "Iteration 28000,Coefficients: [-2.17260813e-06  2.83524639e-05 -5.32476726e-04  5.94214071e-03\n",
      " -1.98618532e-01  8.99644787e-03] Loss: 38367779.1112\n",
      "Iteration 28200,Coefficients: [-2.17956160e-06  2.85155319e-05 -5.33489650e-04  5.97806922e-03\n",
      " -1.99036066e-01  9.01120218e-03] Loss: 38279845.5228\n",
      "Iteration 28400,Coefficients: [-2.18646237e-06  2.86783559e-05 -5.34485398e-04  6.01395742e-03\n",
      " -1.99447433e-01  9.02573789e-03] Loss: 38194472.8472\n",
      "Iteration 28600,Coefficients: [-2.19331121e-06  2.88409394e-05 -5.35464224e-04  6.04980589e-03\n",
      " -1.99852725e-01  9.04005825e-03] Loss: 38111586.0319\n",
      "Iteration 28800,Coefficients: [-2.20010889e-06  2.90032859e-05 -5.36426377e-04  6.08561522e-03\n",
      " -2.00252030e-01  9.05416642e-03] Loss: 38031112.2240\n",
      "Iteration 29000,Coefficients: [-2.20685616e-06  2.91653989e-05 -5.37372104e-04  6.12138598e-03\n",
      " -2.00645437e-01  9.06806553e-03] Loss: 37952980.7056\n",
      "Iteration 29200,Coefficients: [-2.21355377e-06  2.93272818e-05 -5.38301648e-04  6.15711871e-03\n",
      " -2.01033033e-01  9.08175868e-03] Loss: 37877122.8316\n",
      "Iteration 29400,Coefficients: [-2.22020246e-06  2.94889380e-05 -5.39215248e-04  6.19281399e-03\n",
      " -2.01414905e-01  9.09524890e-03] Loss: 37803471.9684\n",
      "Iteration 29600,Coefficients: [-2.22680293e-06  2.96503707e-05 -5.40113140e-04  6.22847234e-03\n",
      " -2.01791135e-01  9.10853920e-03] Loss: 37731963.4354\n",
      "Iteration 29800,Coefficients: [-2.23335592e-06  2.98115833e-05 -5.40995555e-04  6.26409431e-03\n",
      " -2.02161809e-01  9.12163251e-03] Loss: 37662534.4475\n",
      "Iteration 30000,Coefficients: [-2.23986212e-06  2.99725789e-05 -5.41862723e-04  6.29968044e-03\n",
      " -2.02527007e-01  9.13453175e-03] Loss: 37595124.0599\n",
      "Iteration 30200,Coefficients: [-2.24632222e-06  3.01333608e-05 -5.42714868e-04  6.33523122e-03\n",
      " -2.02886811e-01  9.14723979e-03] Loss: 37529673.1135\n",
      "Iteration 30400,Coefficients: [-2.25273690e-06  3.02939319e-05 -5.43552213e-04  6.37074719e-03\n",
      " -2.03241301e-01  9.15975944e-03] Loss: 37466124.1835\n",
      "Iteration 30600,Coefficients: [-2.25910684e-06  3.04542955e-05 -5.44374976e-04  6.40622885e-03\n",
      " -2.03590554e-01  9.17209350e-03] Loss: 37404421.5276\n",
      "Iteration 30800,Coefficients: [-2.26543269e-06  3.06144546e-05 -5.45183373e-04  6.44167669e-03\n",
      " -2.03934648e-01  9.18424468e-03] Loss: 37344511.0374\n",
      "Iteration 31000,Coefficients: [-2.27171511e-06  3.07744120e-05 -5.45977616e-04  6.47709121e-03\n",
      " -2.04273659e-01  9.19621571e-03] Loss: 37286340.1901\n",
      "Iteration 31200,Coefficients: [-2.27795474e-06  3.09341709e-05 -5.46757914e-04  6.51247289e-03\n",
      " -2.04607662e-01  9.20800923e-03] Loss: 37229858.0024\n",
      "Iteration 31400,Coefficients: [-2.28415220e-06  3.10937340e-05 -5.47524473e-04  6.54782220e-03\n",
      " -2.04936732e-01  9.21962787e-03] Loss: 37175014.9850\n",
      "Iteration 31600,Coefficients: [-2.29030814e-06  3.12531042e-05 -5.48277497e-04  6.58313962e-03\n",
      " -2.05260940e-01  9.23107421e-03] Loss: 37121763.0991\n",
      "Iteration 31800,Coefficients: [-2.29642315e-06  3.14122843e-05 -5.49017186e-04  6.61842560e-03\n",
      " -2.05580359e-01  9.24235080e-03] Loss: 37070055.7137\n",
      "Iteration 32000,Coefficients: [-2.30249785e-06  3.15712771e-05 -5.49743736e-04  6.65368061e-03\n",
      " -2.05895060e-01  9.25346013e-03] Loss: 37019847.5645\n",
      "Iteration 32200,Coefficients: [-2.30853282e-06  3.17300854e-05 -5.50457341e-04  6.68890509e-03\n",
      " -2.06205112e-01  9.26440468e-03] Loss: 36971094.7136\n",
      "Iteration 32400,Coefficients: [-2.31452867e-06  3.18887118e-05 -5.51158194e-04  6.72409948e-03\n",
      " -2.06510583e-01  9.27518687e-03] Loss: 36923754.5110\n",
      "Iteration 32600,Coefficients: [-2.32048595e-06  3.20471589e-05 -5.51846482e-04  6.75926423e-03\n",
      " -2.06811542e-01  9.28580912e-03] Loss: 36877785.5566\n",
      "Iteration 32800,Coefficients: [-2.32640526e-06  3.22054294e-05 -5.52522391e-04  6.79439975e-03\n",
      " -2.07108055e-01  9.29627378e-03] Loss: 36833147.6636\n",
      "Iteration 33000,Coefficients: [-2.33228714e-06  3.23635258e-05 -5.53186104e-04  6.82950648e-03\n",
      " -2.07400187e-01  9.30658316e-03] Loss: 36789801.8228\n",
      "Iteration 33200,Coefficients: [-2.33813214e-06  3.25214508e-05 -5.53837802e-04  6.86458482e-03\n",
      " -2.07688004e-01  9.31673958e-03] Loss: 36747710.1685\n",
      "Iteration 33400,Coefficients: [-2.34394083e-06  3.26792067e-05 -5.54477661e-04  6.89963520e-03\n",
      " -2.07971569e-01  9.32674528e-03] Loss: 36706835.9446\n",
      "Iteration 33600,Coefficients: [-2.34971372e-06  3.28367960e-05 -5.55105858e-04  6.93465800e-03\n",
      " -2.08250944e-01  9.33660250e-03] Loss: 36667143.4722\n",
      "Iteration 33800,Coefficients: [-2.35545136e-06  3.29942212e-05 -5.55722564e-04  6.96965364e-03\n",
      " -2.08526192e-01  9.34631341e-03] Loss: 36628598.1182\n",
      "Iteration 34000,Coefficients: [-2.36115426e-06  3.31514847e-05 -5.56327949e-04  7.00462251e-03\n",
      " -2.08797373e-01  9.35588019e-03] Loss: 36591166.2644\n",
      "Iteration 34200,Coefficients: [-2.36682294e-06  3.33085887e-05 -5.56922181e-04  7.03956499e-03\n",
      " -2.09064548e-01  9.36530495e-03] Loss: 36554815.2777\n",
      "Iteration 34400,Coefficients: [-2.37245789e-06  3.34655357e-05 -5.57505424e-04  7.07448146e-03\n",
      " -2.09327776e-01  9.37458981e-03] Loss: 36519513.4816\n",
      "Iteration 34600,Coefficients: [-2.37805963e-06  3.36223278e-05 -5.58077841e-04  7.10937230e-03\n",
      " -2.09587115e-01  9.38373681e-03] Loss: 36485230.1278\n",
      "Iteration 34800,Coefficients: [-2.38362864e-06  3.37789674e-05 -5.58639592e-04  7.14423788e-03\n",
      " -2.09842622e-01  9.39274800e-03] Loss: 36451935.3694\n",
      "Iteration 35000,Coefficients: [-2.38916541e-06  3.39354567e-05 -5.59190834e-04  7.17907856e-03\n",
      " -2.10094354e-01  9.40162539e-03] Loss: 36419600.2339\n",
      "Iteration 35200,Coefficients: [-2.39467041e-06  3.40917978e-05 -5.59731724e-04  7.21389470e-03\n",
      " -2.10342366e-01  9.41037094e-03] Loss: 36388196.5981\n",
      "Iteration 35400,Coefficients: [-2.40014411e-06  3.42479929e-05 -5.60262413e-04  7.24868666e-03\n",
      " -2.10586715e-01  9.41898660e-03] Loss: 36357697.1629\n",
      "Iteration 35600,Coefficients: [-2.40558697e-06  3.44040442e-05 -5.60783053e-04  7.28345479e-03\n",
      " -2.10827453e-01  9.42747430e-03] Loss: 36328075.4294\n",
      "Iteration 35800,Coefficients: [-2.41099946e-06  3.45599536e-05 -5.61293793e-04  7.31819942e-03\n",
      " -2.11064633e-01  9.43583591e-03] Loss: 36299305.6751\n",
      "Iteration 36000,Coefficients: [-2.41638201e-06  3.47157233e-05 -5.61794778e-04  7.35292090e-03\n",
      " -2.11298310e-01  9.44407331e-03] Loss: 36271362.9316\n",
      "Iteration 36200,Coefficients: [-2.42173508e-06  3.48713553e-05 -5.62286153e-04  7.38761956e-03\n",
      " -2.11528533e-01  9.45218832e-03] Loss: 36244222.9621\n",
      "Iteration 36400,Coefficients: [-2.42705910e-06  3.50268516e-05 -5.62768060e-04  7.42229573e-03\n",
      " -2.11755355e-01  9.46018275e-03] Loss: 36217862.2401\n",
      "Iteration 36600,Coefficients: [-2.43235450e-06  3.51822141e-05 -5.63240639e-04  7.45694973e-03\n",
      " -2.11978826e-01  9.46805839e-03] Loss: 36192257.9286\n",
      "Iteration 36800,Coefficients: [-2.43762169e-06  3.53374448e-05 -5.63704028e-04  7.49158188e-03\n",
      " -2.12198994e-01  9.47581698e-03] Loss: 36167387.8600\n",
      "Iteration 37000,Coefficients: [-2.44286111e-06  3.54925456e-05 -5.64158363e-04  7.52619249e-03\n",
      " -2.12415908e-01  9.48346025e-03] Loss: 36143230.5163\n",
      "Iteration 37200,Coefficients: [-2.44807316e-06  3.56475184e-05 -5.64603778e-04  7.56078188e-03\n",
      " -2.12629618e-01  9.49098991e-03] Loss: 36119765.0101\n",
      "Iteration 37400,Coefficients: [-2.45325824e-06  3.58023651e-05 -5.65040404e-04  7.59535036e-03\n",
      " -2.12840169e-01  9.49840764e-03] Loss: 36096971.0662\n",
      "Iteration 37600,Coefficients: [-2.45841676e-06  3.59570874e-05 -5.65468371e-04  7.62989821e-03\n",
      " -2.13047609e-01  9.50571508e-03] Loss: 36074829.0034\n",
      "Iteration 37800,Coefficients: [-2.46354910e-06  3.61116872e-05 -5.65887809e-04  7.66442573e-03\n",
      " -2.13251984e-01  9.51291386e-03] Loss: 36053319.7177\n",
      "Iteration 38000,Coefficients: [-2.46865565e-06  3.62661662e-05 -5.66298842e-04  7.69893323e-03\n",
      " -2.13453338e-01  9.52000559e-03] Loss: 36032424.6647\n",
      "Iteration 38200,Coefficients: [-2.47373680e-06  3.64205262e-05 -5.66701595e-04  7.73342098e-03\n",
      " -2.13651717e-01  9.52699185e-03] Loss: 36012125.8435\n",
      "Iteration 38400,Coefficients: [-2.47879293e-06  3.65747689e-05 -5.67096190e-04  7.76788926e-03\n",
      " -2.13847164e-01  9.53387419e-03] Loss: 35992405.7809\n",
      "Iteration 38600,Coefficients: [-2.48382439e-06  3.67288960e-05 -5.67482749e-04  7.80233837e-03\n",
      " -2.14039722e-01  9.54065416e-03] Loss: 35973247.5155\n",
      "Iteration 38800,Coefficients: [-2.48883156e-06  3.68829092e-05 -5.67861389e-04  7.83676856e-03\n",
      " -2.14229435e-01  9.54733325e-03] Loss: 35954634.5834\n",
      "Iteration 39000,Coefficients: [-2.49381479e-06  3.70368101e-05 -5.68232229e-04  7.87118012e-03\n",
      " -2.14416344e-01  9.55391297e-03] Loss: 35936551.0029\n",
      "Iteration 39200,Coefficients: [-2.49877445e-06  3.71906004e-05 -5.68595383e-04  7.90557331e-03\n",
      " -2.14600491e-01  9.56039477e-03] Loss: 35918981.2607\n",
      "Iteration 39400,Coefficients: [-2.50371087e-06  3.73442816e-05 -5.68950965e-04  7.93994839e-03\n",
      " -2.14781916e-01  9.56678010e-03] Loss: 35901910.2983\n",
      "Iteration 39600,Coefficients: [-2.50862440e-06  3.74978553e-05 -5.69299088e-04  7.97430562e-03\n",
      " -2.14960660e-01  9.57307039e-03] Loss: 35885323.4985\n",
      "Iteration 39800,Coefficients: [-2.51351539e-06  3.76513230e-05 -5.69639861e-04  8.00864525e-03\n",
      " -2.15136761e-01  9.57926704e-03] Loss: 35869206.6723\n"
     ]
    }
   ],
   "source": [
    "degree = 5\n",
    "learning_rate = 1e-14\n",
    "betas = np.random.uniform(0, 0, size=degree + 1)\n",
    "for i in range(40000):\n",
    "    y_pred = f(x, betas)\n",
    "    grads = gradient(x, y, betas)\n",
    "    betas -= learning_rate * grads\n",
    "    if i % 200 == 0:\n",
    "        print(f\"Iteration {i},Coefficients: {betas} Loss: {loss_function(y, y_pred):.4f}\")"
   ]
  },
  {
   "cell_type": "code",
   "execution_count": 155,
   "id": "15d70f1c",
   "metadata": {},
   "outputs": [
    {
     "data": {
      "text/plain": [
       "[<matplotlib.lines.Line2D at 0x1cd9faf7c50>]"
      ]
     },
     "execution_count": 155,
     "metadata": {},
     "output_type": "execute_result"
    },
    {
     "data": {
      "image/png": "[encoded data removed]",
      "text/plain": [
       "<Figure size 640x480 with 1 Axes>"
      ]
     },
     "metadata": {},
     "output_type": "display_data"
    }
   ],
   "source": [
    "plt.scatter(x, y, color='blue')\n",
    "plt.plot(x, f(x, betas), color='red', linewidth=4)"
   ]
  },
  {
   "cell_type": "markdown",
   "id": "d25f29b7",
   "metadata": {},
   "source": [
    "ผลลัพทํเป็นสิ่งที่ ok เลย"
   ]
  },
  {
   "cell_type": "markdown",
   "id": "f824af82",
   "metadata": {},
   "source": [
    "ถ้าอยากให้มันดีกว่านี้ลองสุ่ม degree ดูครับอันไหนเหมาะสมสุดซึ่งผมเอา degree 3 นะครับ\n"
   ]
  },
  {
   "cell_type": "markdown",
   "id": "547daf03",
   "metadata": {},
   "source": [
    "learning_rate = 1e-8"
   ]
  },
  {
   "cell_type": "code",
   "execution_count": 161,
   "id": "d6c2c818",
   "metadata": {},
   "outputs": [
    {
     "name": "stdout",
     "output_type": "stream",
     "text": [
      "Iteration 0,Coefficients: [-7.25787414e-05  4.05825442e-03  1.73298827e-02  2.09579324e+00] Loss: 358069107.9817\n",
      "Iteration 100,Coefficients: [-0.01685109  0.06118418 -5.0572432   1.71244838] Loss: 170770930.2406\n",
      "Iteration 200,Coefficients: [-0.03237305  0.11485043 -9.75619669  1.86895745] Loss: 148628936.4308\n",
      "Iteration 300,Coefficients: [ -0.04675208   0.1644555  -14.12315779   2.01440922] Loss: 129505213.6505\n",
      "Iteration 400,Coefficients: [ -0.06006894   0.21028637 -18.18158279   2.14958492] Loss: 112988328.0312\n",
      "Iteration 500,Coefficients: [ -0.07239867   0.2526097  -21.95327074   2.27521059] Loss: 98722930.0741\n",
      "Iteration 600,Coefficients: [ -0.08381101   0.29167334 -25.45848051   2.39196096] Loss: 86402109.5416\n",
      "Iteration 700,Coefficients: [ -0.09437078   0.32770763 -28.71603963   2.50046312] Loss: 75760792.4877\n",
      "Iteration 800,Coefficients: [ -0.10413821   0.36092662 -31.74344539   2.60129981] Loss: 66570038.3679\n",
      "Iteration 900,Coefficients: [ -0.11316929   0.39152925 -34.55695886   2.69501263] Loss: 58632114.5357\n",
      "Iteration 1000,Coefficients: [ -0.12151603   0.41970039 -37.17169218   2.7821049 ] Loss: 51776242.1555\n",
      "Iteration 1100,Coefficients: [ -0.1292268    0.44561186 -39.60168981   2.86304438] Loss: 45854922.0103\n",
      "Iteration 1200,Coefficients: [ -0.13634652   0.46942334 -41.8600039    2.93826579] Loss: 40740761.1533\n",
      "Iteration 1300,Coefficients: [ -0.14291696   0.49128323 -43.95876444   3.00817313] Loss: 36323732.1335\n",
      "Iteration 1400,Coefficients: [ -0.14897691   0.51132943 -45.90924438   3.07314185] Loss: 32508805.8282\n",
      "Iteration 1500,Coefficients: [ -0.15456245   0.52969011 -47.72192021   3.13352088] Loss: 29213906.9548\n",
      "Iteration 1600,Coefficients: [ -0.1597071    0.54648438 -49.40652824   3.18963451] Loss: 26368148.2750\n",
      "Iteration 1700,Coefficients: [ -0.164442     0.56182294 -50.97211684   3.24178408] Loss: 23910305.5037\n",
      "Iteration 1800,Coefficients: [ -0.1687961    0.57580867 -52.42709511   3.29024968] Loss: 21787500.1086\n",
      "Iteration 1900,Coefficients: [ -0.17279632   0.58853716 -53.77927803   3.33529158] Loss: 19954061.6640\n",
      "Iteration 2000,Coefficients: [ -0.17646764   0.60009728 -55.03592841   3.3771517 ] Loss: 18370545.2819\n",
      "Iteration 2100,Coefficients: [ -0.17983331   0.61057159 -56.20379592   3.41605481] Loss: 17002882.9812\n",
      "Iteration 2200,Coefficients: [ -0.18291493   0.62003684 -57.28915335   3.45220986] Loss: 15821650.7382\n",
      "Iteration 2300,Coefficients: [ -0.18573255   0.62856434 -58.2978303    3.485811  ] Loss: 14801435.4476\n",
      "Iteration 2400,Coefficients: [ -0.18830484   0.63622037 -59.23524448   3.51703866] Loss: 13920288.1773\n",
      "Iteration 2500,Coefficients: [ -0.19064912   0.64306654 -60.10643083   3.54606055] Loss: 13159251.9508\n",
      "Iteration 2600,Coefficients: [ -0.19278151   0.64916007 -60.91606856   3.57303251] Loss: 12501953.9011\n",
      "Iteration 2700,Coefficients: [ -0.19471697   0.65455418 -61.66850627   3.59809936] Loss: 11934253.0190\n",
      "Iteration 2800,Coefficients: [ -0.19646942   0.6592983  -62.36778532   3.62139573] Loss: 11443935.9187\n",
      "Iteration 2900,Coefficients: [ -0.19805179   0.66343839 -63.01766153   3.64304668] Loss: 11020454.0753\n"
     ]
    }
   ],
   "source": [
    "degree = 3\n",
    "learning_rate = 1e-8\n",
    "betas = np.random.uniform(0, 0, size=degree + 1)\n",
    "for i in range(3000):\n",
    "    y_pred = f(x, betas)\n",
    "    grads = gradient(x, y, betas)\n",
    "    betas -= learning_rate * grads\n",
    "    if i % 100 == 0:\n",
    "        print(f\"Iteration {i},Coefficients: {betas} Loss: {loss_function(y, y_pred):.4f}\")"
   ]
  },
  {
   "cell_type": "code",
   "execution_count": 162,
   "id": "575b3d36",
   "metadata": {},
   "outputs": [
    {
     "data": {
      "text/plain": [
       "[<matplotlib.lines.Line2D at 0x1cd9fc35090>]"
      ]
     },
     "execution_count": 162,
     "metadata": {},
     "output_type": "execute_result"
    },
    {
     "data": {
      "image/png": "[encoded data removed]",
      "text/plain": [
       "<Figure size 1000x600 with 1 Axes>"
      ]
     },
     "metadata": {},
     "output_type": "display_data"
    }
   ],
   "source": [
    "plt.figure(figsize=(10, 6))\n",
    "plt.scatter(x, y, color='blue')\n",
    "plt.plot(x, f(x, betas), color='red', linewidth=6)"
   ]
  },
  {
   "cell_type": "markdown",
   "id": "cc4c8ba2",
   "metadata": {},
   "source": [
    "จากตัวอย่าง เราสามารถเดา degree ได้ และเดา learning_rate ด้วยว่าเกินไปหรือไม่เกินไปด้วย"
   ]
  },
  {
   "cell_type": "markdown",
   "id": "afd0a894",
   "metadata": {},
   "source": [
    "ลองสุ่มดูครับ ผมได้ลอง degree =5 learning_rate=1e-13 แล้วแตกเลยเพิ่มขึ้นเป็น 1e-14 แล้วทำงานดี"
   ]
  },
  {
   "cell_type": "markdown",
   "id": "4bbbdbf2",
   "metadata": {},
   "source": [
    "แต่ว่ายัง degree 3 ก็เร็วกว่า ดีกว่าอยู่ดี"
   ]
  },
  {
   "cell_type": "markdown",
   "id": "f5d5957c",
   "metadata": {},
   "source": [
    "และแล้ว เส้นของคุณโค้งหรือยังครับ"
   ]
  },
  {
   "cell_type": "markdown",
   "id": "1944d603",
   "metadata": {},
   "source": []
  }
 ],
 "metadata": {
  "kernelspec": {
   "display_name": "Python 3",
   "language": "python",
   "name": "python3"
  },
  "language_info": {
   "codemirror_mode": {
    "name": "ipython",
    "version": 3
   },
   "file_extension": ".py",
   "mimetype": "text/x-python",
   "name": "python",
   "nbconvert_exporter": "python",
   "pygments_lexer": "ipython3",
   "version": "3.13.2"
  }
 },
 "nbformat": 4,
 "nbformat_minor": 5
}
