{
 "cells": [
  {
   "cell_type": "markdown",
   "id": "7e1a1f06",
   "metadata": {},
   "source": [
    "# แนะนำ AI / ML / DL "
   ]
  },
  {
   "cell_type": "markdown",
   "id": "02d9139a",
   "metadata": {},
   "source": [
    "- 1. พื้นฐานที่ควรรู้ก่อนเริ่ม\n",
    "    - ความรู้เบื้องต้นเกี่ยวกับ Python (ตัวแปร, ฟังก์ชัน, library)\n",
    "    - พื้นฐานคณิตศาสตร์ที่เกี่ยวข้อง:\n",
    "    - พีชคณิตเชิงเส้น (Linear Algebra)\n",
    "        - เช่น Vactor row col คูน \n",
    "    - แคลคูลัสเบื้องต้น (Basic Calculus)\n",
    "        - diff \n",
    "        - integate\n",
    "    - ความน่าจะเป็นและสถิติ\n",
    "- 2. พื้นฐาน Machine Learning\n",
    "    - ความเข้าใจเกี่ยวกับ Machine Learning คืออะไร\n",
    "    - การแบ่งประเภทของ ML: \n",
    "        - Supervised \n",
    "        - Unsupervised \n",
    "        - Reinforcement\n",
    "    - การเตรียมข้อมูล (Data Cleaning, Normalization, Train/Test split) "
   ]
  },
  {
   "cell_type": "markdown",
   "id": "e8109305",
   "metadata": {},
   "source": [
    "# การแบ่งประเภทของ ML"
   ]
  },
  {
   "cell_type": "markdown",
   "id": "8c311757",
   "metadata": {},
   "source": [
    "## Supervised learning คืออะไร"
   ]
  },
  {
   "cell_type": "markdown",
   "id": "d58302a7",
   "metadata": {},
   "source": [
    "การที่มีค่า x ให้เดาเป็น y"
   ]
  },
  {
   "cell_type": "markdown",
   "id": "0519d0d2",
   "metadata": {},
   "source": [
    "หรือมี feature ให้เดาเป็น label"
   ]
  },
  {
   "cell_type": "markdown",
   "id": "b1995ccb",
   "metadata": {},
   "source": [
    "## Unsupervised learning คืออะไร"
   ]
  },
  {
   "cell_type": "markdown",
   "id": "160848b7",
   "metadata": {},
   "source": [
    "ให้มี x แล้วจัดกลุ่มใกล้เคียงกัน"
   ]
  },
  {
   "cell_type": "markdown",
   "id": "546dcd47",
   "metadata": {},
   "source": [
    "เช่น ดาต้าเรา เป็น null ในบางข้อมูล แต่ตำแหน่งอื่นยังมี ให้ เดาจากดาต้า ตรงที่null เป็นอะไรที่ใกล้เคียง"
   ]
  },
  {
   "cell_type": "markdown",
   "id": "cea0ca5e",
   "metadata": {},
   "source": [
    "## Reinforcement"
   ]
  },
  {
   "cell_type": "markdown",
   "id": "a49eade7",
   "metadata": {},
   "source": [
    "เป็นการสอนแบบให้คะแนนในการเรียนรู้ อาจจะมี คำสั่งให้ทำ เช่น เดินwasd ลากของ ต่อสู้ ถ้าฆ่าฝ่ายตรงข้ามได้ จะได้คะแนนสูงสุด หรือฝ่ายตรงข้าม เอาชีวิตรอดให้หมดเวลาจะได้คะแนนสูงสุด "
   ]
  },
  {
   "cell_type": "markdown",
   "id": "ffacba91",
   "metadata": {},
   "source": [
    "# เทคนิคควรรู้"
   ]
  },
  {
   "cell_type": "markdown",
   "id": "e8460cfa",
   "metadata": {},
   "source": [
    "## Loss function คืออะไร"
   ]
  },
  {
   "cell_type": "markdown",
   "id": "1d124367",
   "metadata": {},
   "source": [
    "คือฟังก์ชั้น ลดความผิดพลาดของ model ai"
   ]
  },
  {
   "cell_type": "markdown",
   "id": "3150098f",
   "metadata": {},
   "source": [
    "## Gradient Descent คืออะไร"
   ]
  },
  {
   "cell_type": "markdown",
   "id": "166aaf69",
   "metadata": {},
   "source": [
    "Optimization algorithm "
   ]
  },
  {
   "cell_type": "markdown",
   "id": "a3555340",
   "metadata": {},
   "source": [
    "ที่จะช่วยให้มี Error น้อยที่สุด"
   ]
  },
  {
   "cell_type": "markdown",
   "id": "e712464b",
   "metadata": {},
   "source": [
    "โดยใช้ diff สะส่วนใหญ่"
   ]
  }
 ],
 "metadata": {
  "language_info": {
   "name": "python"
  }
 },
 "nbformat": 4,
 "nbformat_minor": 5
}
