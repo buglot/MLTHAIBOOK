{
 "cells": [
  {
   "cell_type": "markdown",
   "id": "27503833",
   "metadata": {},
   "source": [
    "# \tSoftmax Regression "
   ]
  },
  {
   "cell_type": "markdown",
   "id": "03c6de66",
   "metadata": {},
   "source": [
    "Mulitclass หรือ mulitlabel ส่วนใหญ่ผมชอบคิดคำว่า label เยอะให้ทุกคนเข้าใจตรงกันว่า คือตัวเดียวกัน"
   ]
  },
  {
   "cell_type": "markdown",
   "id": "e85c9077",
   "metadata": {},
   "source": [
    "- class / label คือ ผลลัทธ์ที่เราจะต้องการเช่น [หมา แมว คน]"
   ]
  },
  {
   "cell_type": "markdown",
   "id": "089fb376",
   "metadata": {},
   "source": [
    "- Feature/data คือ ตัวที่เราใส่เข้าไปแล้วต้องการออกเป็น label"
   ]
  },
  {
   "cell_type": "markdown",
   "id": "8b1dae52",
   "metadata": {},
   "source": [
    "ในที่นี้ผมจะใช้ Feature / label ชะส่วนใหญ่นั้นเอง"
   ]
  },
  {
   "cell_type": "markdown",
   "id": "c5a99024",
   "metadata": {},
   "source": [
    "โดยเรื่องก่อนหน้าจะนำ logistic (sigmoid) มาทำการเดา เข้าสมการให้มีการวาดเส้น มากกว่า 0.5 คือ จริง น้อยกว่า คือ ไม่จริง"
   ]
  },
  {
   "cell_type": "markdown",
   "id": "1b34c15a",
   "metadata": {},
   "source": [
    "แต่เรื่องนี้เราไม่ได้มีแค่จริงไม่จริง อาจจะมีหลาย label เช่น หมา,แมว,คน,นก"
   ]
  },
  {
   "cell_type": "markdown",
   "id": "392b02fe",
   "metadata": {},
   "source": [
    "ปกติ label เราจะเป็น 0,1 เมื่อบทที่แล้ว ในเรื่องนี้ก็เหมือนกันแต่แปลงเป็น หลาย columns แทน "
   ]
  },
  {
   "cell_type": "markdown",
   "id": "e53f6930",
   "metadata": {},
   "source": [
    "ยังไง?"
   ]
  },
  {
   "cell_type": "markdown",
   "id": "f9680996",
   "metadata": {},
   "source": [
    "โดยผมจะเสนอเทคนิคชื่อว่า one hot vector ก่อนและค่อยเป็นแบบ index ซึ่งใช้ loss function ต่างกัน"
   ]
  },
  {
   "cell_type": "markdown",
   "id": "2e1dc0bc",
   "metadata": {},
   "source": [
    "# one hot vector"
   ]
  },
  {
   "cell_type": "markdown",
   "id": "de7e4e2e",
   "metadata": {},
   "source": [
    "เราอาจจะบอกว่า หมา คือตำแหน่ง 1, แมวตำแหน่ง 2, คนตำแหน่ง 3, นก ตำแหน่ง 4"
   ]
  },
  {
   "cell_type": "markdown",
   "id": "cfc13d05",
   "metadata": {},
   "source": [
    "ถ้า ai จะบอกว่าอันนี้เป็นหมา จะส่ง $\\hat{y} = [1,0,0,0]$ ชึ่งอันนี้คือหมายความว่าเป็น หมา"
   ]
  },
  {
   "cell_type": "markdown",
   "id": "2cd1493e",
   "metadata": {},
   "source": [
    "ถ้าเป็น คน จะส่ง $\\hat{y} = [0,0,1,0]$"
   ]
  },
  {
   "cell_type": "markdown",
   "id": "75bcf018",
   "metadata": {},
   "source": [
    "ถ้าเป็น นก ละ?  [0,0,0,1]"
   ]
  },
  {
   "cell_type": "markdown",
   "id": "a71883b9",
   "metadata": {},
   "source": [
    "แต่ความเป็นจริงแล้วมันอาจจะส่ง [0.2,0.3,0.1,0.7] แล้วเราต้องหาค่าที่เยอะที่สุด บอกเป็นสิ่งนั้น"
   ]
  },
  {
   "cell_type": "markdown",
   "id": "966f5abf",
   "metadata": {},
   "source": [
    "# softmax คืออะไร"
   ]
  },
  {
   "attachments": {
    "image.png": {
     "image/png": "[encoded data removed]"
    }
   },
   "cell_type": "markdown",
   "id": "97eafbe0",
   "metadata": {},
   "source": [
    "![image.png](attachment:image.png)"
   ]
  },
  {
   "cell_type": "markdown",
   "id": "3186844a",
   "metadata": {},
   "source": [
    "ซึ่งจำได้ว่า z = $w_o+w_1x_1+w_2x_2+...+w_nx_n$ ในเรื่องนี้ก็เหมือนกัน"
   ]
  },
  {
   "cell_type": "markdown",
   "id": "b0e149c5",
   "metadata": {},
   "source": [
    "จากรูปทำให้เราเห็นได้ว่า มีความคล้ายกันในสมการ sigmoid กับ softmax"
   ]
  },
  {
   "cell_type": "markdown",
   "id": "1a99c5a6",
   "metadata": {},
   "source": [
    "สมการ softmax  $\\sigma(z)_j = \\frac{e^{z_j}}{\\sum_{k=1}^{K} e^{z_k}}$"
   ]
  },
  {
   "cell_type": "markdown",
   "id": "19a830f6",
   "metadata": {},
   "source": [
    "$z_j$ : logit (ค่า score) ของ class j\n"
   ]
  },
  {
   "cell_type": "markdown",
   "id": "8ea4bc4f",
   "metadata": {},
   "source": [
    "K: จำนวน class ทั้งหมด"
   ]
  },
  {
   "cell_type": "markdown",
   "id": "89670b5b",
   "metadata": {},
   "source": [
    "$σ(z) ∈(0,1): ความน่าจะเป็นที่  class = j$"
   ]
  },
  {
   "cell_type": "markdown",
   "id": "918a1404",
   "metadata": {},
   "source": [
    "สมมุติว่า เราว่า label หมา แมว นก โดยให้ w 1 ทุกตัว แล้ว x มี น้ำหนัก ส่วนสูง ความเร็วในการเคลื่อนที่"
   ]
  },
  {
   "cell_type": "markdown",
   "id": "e1518841",
   "metadata": {},
   "source": [
    "หมา z = $w_0+w_1x_1+w_2x_2+w_3x_3$ = 1+5+0.9+12 = 18.9\n",
    "\n",
    "แมว z = $w_0+w_1x_1+w_2x_2+w_3x_3$ = 1+3+0.4+16 = 20.4\n",
    "\n",
    "นก z = $w_0+w_1x_1+w_2x_2+w_3x_3$ = 1+1.2+1.6+30 = 33.8"
   ]
  },
  {
   "cell_type": "markdown",
   "id": "76dd3073",
   "metadata": {},
   "source": [
    "softmax $\\sigma(z)_{หมา} = \\frac{e^{หมา}}{\\sum_{k=1}^{K} e^{z_k}} =\\frac{e^{18.9}}{e^{18.9}+e^{20.4}+e^{80.6}}$ = ความน่าจะเป็น หมา = $0.00000034$  น้อยมาก"
   ]
  },
  {
   "cell_type": "markdown",
   "id": "e9d5ed56",
   "metadata": {},
   "source": [
    "เราเลยต้องมีการทำอัปเดท $w_i$"
   ]
  },
  {
   "cell_type": "markdown",
   "id": "8108b21e",
   "metadata": {},
   "source": [
    "ผลจากการเข้า softmax ทั้งหมด จาก $w$ = 1 ทั้งหมด"
   ]
  },
  {
   "cell_type": "markdown",
   "id": "eb4cccfd",
   "metadata": {},
   "source": [
    "| คลาส         | Logit $z$ | Softmax ความน่าจะเป็น |\n",
    "| ------------ | --------- | --------------------- |\n",
    "| 🐶 หมา (dog) | 18.9      | ≈ **0.00000034**      |\n",
    "| 🐱 แมว (cat) | 20.4      | ≈ **0.00000152**      |\n",
    "| 🐦 นก (bird) | 33.8      | ≈ **0.99999815**      |\n"
   ]
  },
  {
   "cell_type": "markdown",
   "id": "0faee8dc",
   "metadata": {},
   "source": [
    "ซึ่งเราจำเป้นต้อง อัป w โดย grad ใช้ loss function Cross-Entropy"
   ]
  },
  {
   "cell_type": "markdown",
   "id": "0dc0cdce",
   "metadata": {},
   "source": [
    "ดังนั้นเราต้องมี weights =[[หมา][แมว][นก]] แยกแต่ละตัว\n"
   ]
  },
  {
   "cell_type": "markdown",
   "id": "bb076ebe",
   "metadata": {},
   "source": [
    "# Cross-Entropy"
   ]
  },
  {
   "cell_type": "markdown",
   "id": "2321ba83",
   "metadata": {},
   "source": [
    "$$\n",
    "\\mathcal{L} = -\\sum_{i=1}^{K} y_i \\log(\\hat{y}_i)\n",
    "$$\n"
   ]
  },
  {
   "cell_type": "markdown",
   "id": "9659ea4a",
   "metadata": {},
   "source": [
    "เราเดาหมาใน w=1 ได้ $3.4*10^{-7}$"
   ]
  },
  {
   "cell_type": "markdown",
   "id": "84f30f51",
   "metadata": {},
   "source": [
    "loss fucntion คำนวนได้ $y_i = [1,0,0] \\hat{y_i} = [3.4*10^{-7},1.52*10^{-6},0.99]$"
   ]
  },
  {
   "cell_type": "markdown",
   "id": "be002c21",
   "metadata": {},
   "source": [
    "$L_{หมา} = -(1*log(3.4^{-7})+0*log(1.52*10^{-6})+0*log(0.99))$"
   ]
  },
  {
   "cell_type": "markdown",
   "id": "5d8ec3e1",
   "metadata": {},
   "source": [
    "$L_{หมา} = - 1*log(3.4^{-7})$ = 14.89"
   ]
  },
  {
   "cell_type": "markdown",
   "id": "c011b3cc",
   "metadata": {},
   "source": [
    "อันบนคือวิธีหาร lossfunction แบบ ตัวเดียวๆ"
   ]
  },
  {
   "cell_type": "markdown",
   "id": "29aa7857",
   "metadata": {},
   "source": [
    "ถ้าจะทั้งหมดคือสมการนี้"
   ]
  },
  {
   "cell_type": "markdown",
   "id": "30247a88",
   "metadata": {},
   "source": [
    "$$\\mathcal{L} = -\\frac{1}{m} \\sum_{j=1}^{m} \\sum_{i=1}^{K} y^{(j)}_i \\log(\\hat{y}^{(j)}_i)$$"
   ]
  },
  {
   "cell_type": "code",
   "execution_count": 2,
   "id": "34d66df0",
   "metadata": {},
   "outputs": [],
   "source": [
    "def cross_entropy_loss(y_true, y_pred):\n",
    "    \"\"\"\n",
    "    y_true: numpy array shape (m, K) - one-hot labels\n",
    "    y_pred: numpy array shape (m, K) - predicted probabilities (softmax output)\n",
    "    \"\"\"\n",
    "    eps = 1e-15  # ป้องกัน log(0)\n",
    "    y_pred_clipped = np.clip(y_pred, eps, 1 - eps)\n",
    "\n",
    "    m = y_true.shape[0]\n",
    "    loss = -np.sum(y_true * np.log(y_pred_clipped)) / m\n",
    "\n",
    "    return loss"
   ]
  },
  {
   "cell_type": "markdown",
   "id": "3c2d7153",
   "metadata": {},
   "source": [
    "การป้องกัน log(0) และค่าที่น้อยกว่า 1e-15"
   ]
  },
  {
   "cell_type": "markdown",
   "id": "8fe64a2d",
   "metadata": {},
   "source": [
    "$$\n",
    "\\hat{y}_{i,\\text{clipped}}^{(j)} = \n",
    "\\begin{cases}\n",
    "\\varepsilon & \\text{if } \\hat{y}_i^{(j)} < \\varepsilon \\\\[6pt]\n",
    "\\hat{y}_i^{(j)} & \\text{if } \\varepsilon \\leq \\hat{y}_i^{(j)} \\leq 1 - \\varepsilon \\\\[6pt]\n",
    "1 - \\varepsilon & \\text{if } \\hat{y}_i^{(j)} > 1 - \\varepsilon\n",
    "\\end{cases}\n",
    "$$"
   ]
  },
  {
   "cell_type": "markdown",
   "id": "ecc92590",
   "metadata": {},
   "source": [
    "โดยจะคำนวนทั้งหมด แล้วหา ค่า เฉลี่ยหารด้วย m คือจำนวนข้อมูลทั้งหมด\n"
   ]
  },
  {
   "cell_type": "markdown",
   "id": "aa53acc2",
   "metadata": {},
   "source": [
    "Gradient คือ"
   ]
  },
  {
   "cell_type": "markdown",
   "id": "a8bd8b26",
   "metadata": {},
   "source": [
    "$\\frac{\\partial \\mathcal{L}}{\\partial \\mathbf{W}} = \\frac{1}{m} \\mathbf{X}^\\top (\\hat{\\mathbf{Y}} - \\mathbf{Y})$"
   ]
  },
  {
   "cell_type": "markdown",
   "id": "a8785636",
   "metadata": {},
   "source": [
    "เมื่อ diff by w"
   ]
  },
  {
   "cell_type": "markdown",
   "id": "a82d30fe",
   "metadata": {},
   "source": [
    "# data"
   ]
  },
  {
   "cell_type": "markdown",
   "id": "3a825314",
   "metadata": {},
   "source": [
    "ผมจำลองข้อมูล หมา แมว นก เต๋า โดยข้อมูลจะมี น้ำหนัก(กิโล) ส่วนสูง(เมตร) ความเร็วในการเคลื่อนที่(กม/ชม) "
   ]
  },
  {
   "cell_type": "code",
   "execution_count": 3,
   "id": "67f84450",
   "metadata": {},
   "outputs": [],
   "source": [
    "import pandas as pd\n",
    "import numpy as np"
   ]
  },
  {
   "cell_type": "code",
   "execution_count": 4,
   "id": "85eaac2a",
   "metadata": {},
   "outputs": [
    {
     "data": {
      "text/html": [
       "<div>\n",
       "<style scoped>\n",
       "    .dataframe tbody tr th:only-of-type {\n",
       "        vertical-align: middle;\n",
       "    }\n",
       "\n",
       "    .dataframe tbody tr th {\n",
       "        vertical-align: top;\n",
       "    }\n",
       "\n",
       "    .dataframe thead th {\n",
       "        text-align: right;\n",
       "    }\n",
       "</style>\n",
       "<table border=\"1\" class=\"dataframe\">\n",
       "  <thead>\n",
       "    <tr style=\"text-align: right;\">\n",
       "      <th></th>\n",
       "      <th>label</th>\n",
       "      <th>weight</th>\n",
       "      <th>height</th>\n",
       "      <th>speed</th>\n",
       "    </tr>\n",
       "  </thead>\n",
       "  <tbody>\n",
       "    <tr>\n",
       "      <th>0</th>\n",
       "      <td>หมา</td>\n",
       "      <td>15.00</td>\n",
       "      <td>0.50</td>\n",
       "      <td>30.0</td>\n",
       "    </tr>\n",
       "    <tr>\n",
       "      <th>1</th>\n",
       "      <td>หมา</td>\n",
       "      <td>14.00</td>\n",
       "      <td>0.45</td>\n",
       "      <td>28.0</td>\n",
       "    </tr>\n",
       "    <tr>\n",
       "      <th>2</th>\n",
       "      <td>แมว</td>\n",
       "      <td>4.00</td>\n",
       "      <td>0.30</td>\n",
       "      <td>40.0</td>\n",
       "    </tr>\n",
       "    <tr>\n",
       "      <th>3</th>\n",
       "      <td>นก</td>\n",
       "      <td>0.50</td>\n",
       "      <td>0.15</td>\n",
       "      <td>50.0</td>\n",
       "    </tr>\n",
       "    <tr>\n",
       "      <th>4</th>\n",
       "      <td>หมา</td>\n",
       "      <td>16.00</td>\n",
       "      <td>0.55</td>\n",
       "      <td>32.0</td>\n",
       "    </tr>\n",
       "    <tr>\n",
       "      <th>5</th>\n",
       "      <td>เต๋า</td>\n",
       "      <td>10.00</td>\n",
       "      <td>0.20</td>\n",
       "      <td>2.0</td>\n",
       "    </tr>\n",
       "    <tr>\n",
       "      <th>6</th>\n",
       "      <td>หมา</td>\n",
       "      <td>13.00</td>\n",
       "      <td>0.48</td>\n",
       "      <td>29.0</td>\n",
       "    </tr>\n",
       "    <tr>\n",
       "      <th>7</th>\n",
       "      <td>แมว</td>\n",
       "      <td>3.50</td>\n",
       "      <td>0.28</td>\n",
       "      <td>38.0</td>\n",
       "    </tr>\n",
       "    <tr>\n",
       "      <th>8</th>\n",
       "      <td>แมว</td>\n",
       "      <td>4.20</td>\n",
       "      <td>0.32</td>\n",
       "      <td>41.0</td>\n",
       "    </tr>\n",
       "    <tr>\n",
       "      <th>9</th>\n",
       "      <td>เต๋า</td>\n",
       "      <td>9.00</td>\n",
       "      <td>0.18</td>\n",
       "      <td>1.5</td>\n",
       "    </tr>\n",
       "    <tr>\n",
       "      <th>10</th>\n",
       "      <td>เต๋า</td>\n",
       "      <td>11.00</td>\n",
       "      <td>0.22</td>\n",
       "      <td>2.3</td>\n",
       "    </tr>\n",
       "    <tr>\n",
       "      <th>11</th>\n",
       "      <td>นก</td>\n",
       "      <td>0.60</td>\n",
       "      <td>0.14</td>\n",
       "      <td>48.0</td>\n",
       "    </tr>\n",
       "    <tr>\n",
       "      <th>12</th>\n",
       "      <td>นก</td>\n",
       "      <td>0.40</td>\n",
       "      <td>0.13</td>\n",
       "      <td>52.0</td>\n",
       "    </tr>\n",
       "    <tr>\n",
       "      <th>13</th>\n",
       "      <td>นก</td>\n",
       "      <td>0.55</td>\n",
       "      <td>0.16</td>\n",
       "      <td>49.0</td>\n",
       "    </tr>\n",
       "  </tbody>\n",
       "</table>\n",
       "</div>"
      ],
      "text/plain": [
       "   label  weight  height  speed\n",
       "0    หมา   15.00    0.50   30.0\n",
       "1    หมา   14.00    0.45   28.0\n",
       "2    แมว    4.00    0.30   40.0\n",
       "3     นก    0.50    0.15   50.0\n",
       "4    หมา   16.00    0.55   32.0\n",
       "5   เต๋า   10.00    0.20    2.0\n",
       "6    หมา   13.00    0.48   29.0\n",
       "7    แมว    3.50    0.28   38.0\n",
       "8    แมว    4.20    0.32   41.0\n",
       "9   เต๋า    9.00    0.18    1.5\n",
       "10  เต๋า   11.00    0.22    2.3\n",
       "11    นก    0.60    0.14   48.0\n",
       "12    นก    0.40    0.13   52.0\n",
       "13    นก    0.55    0.16   49.0"
      ]
     },
     "execution_count": 4,
     "metadata": {},
     "output_type": "execute_result"
    }
   ],
   "source": [
    "data = {\n",
    "    \"label\": [\"หมา\",\"หมา\",\"แมว\",\"นก\",\"หมา\",\"เต๋า\",\"หมา\",\"แมว\",\"แมว\",\"เต๋า\",\"เต๋า\",\"นก\",\"นก\",\"นก\"],\n",
    "    \"weight\": [15,14,4,0.5,16,10,13,3.5,4.2,9,11,0.6,0.4,0.55],\n",
    "    \"height\": [0.5,0.45,0.3,0.15,0.55,0.2,0.48,0.28,0.32,0.18,0.22,0.14,0.13,0.16],\n",
    "    \"speed\": [30,28,40,50,32,2,29,38,41,1.5,2.3,48,52,49]\n",
    "}\n",
    "\n",
    "df = pd.DataFrame(data)\n",
    "df"
   ]
  },
  {
   "cell_type": "markdown",
   "id": "2b7ce1a5",
   "metadata": {},
   "source": [
    "โดยแปลง คำว่าหมาแมวให้เป็น 0,1,2,3"
   ]
  },
  {
   "cell_type": "code",
   "execution_count": 5,
   "id": "87fa92eb",
   "metadata": {},
   "outputs": [],
   "source": [
    "mapping = {\"หมา\":0, \"แมว\":1, \"นก\":2, \"เต๋า\":3}"
   ]
  },
  {
   "cell_type": "code",
   "execution_count": 6,
   "id": "a04f01ea",
   "metadata": {},
   "outputs": [
    {
     "data": {
      "text/plain": [
       "0     0\n",
       "1     0\n",
       "2     1\n",
       "3     2\n",
       "4     0\n",
       "5     3\n",
       "6     0\n",
       "7     1\n",
       "8     1\n",
       "9     3\n",
       "10    3\n",
       "11    2\n",
       "12    2\n",
       "13    2\n",
       "Name: label, dtype: int64"
      ]
     },
     "execution_count": 6,
     "metadata": {},
     "output_type": "execute_result"
    }
   ],
   "source": [
    "y_num = df[\"label\"].map(mapping)\n",
    "y_num"
   ]
  },
  {
   "cell_type": "markdown",
   "id": "6c7c3eb7",
   "metadata": {},
   "source": [
    "ทำ one hot"
   ]
  },
  {
   "cell_type": "code",
   "execution_count": 7,
   "id": "047e37f9",
   "metadata": {},
   "outputs": [],
   "source": [
    "y_onehot = pd.get_dummies(y_num)"
   ]
  },
  {
   "cell_type": "code",
   "execution_count": 8,
   "id": "e2168380",
   "metadata": {},
   "outputs": [
    {
     "data": {
      "text/html": [
       "<div>\n",
       "<style scoped>\n",
       "    .dataframe tbody tr th:only-of-type {\n",
       "        vertical-align: middle;\n",
       "    }\n",
       "\n",
       "    .dataframe tbody tr th {\n",
       "        vertical-align: top;\n",
       "    }\n",
       "\n",
       "    .dataframe thead th {\n",
       "        text-align: right;\n",
       "    }\n",
       "</style>\n",
       "<table border=\"1\" class=\"dataframe\">\n",
       "  <thead>\n",
       "    <tr style=\"text-align: right;\">\n",
       "      <th></th>\n",
       "      <th>0</th>\n",
       "      <th>1</th>\n",
       "      <th>2</th>\n",
       "      <th>3</th>\n",
       "    </tr>\n",
       "  </thead>\n",
       "  <tbody>\n",
       "    <tr>\n",
       "      <th>0</th>\n",
       "      <td>True</td>\n",
       "      <td>False</td>\n",
       "      <td>False</td>\n",
       "      <td>False</td>\n",
       "    </tr>\n",
       "    <tr>\n",
       "      <th>1</th>\n",
       "      <td>True</td>\n",
       "      <td>False</td>\n",
       "      <td>False</td>\n",
       "      <td>False</td>\n",
       "    </tr>\n",
       "    <tr>\n",
       "      <th>2</th>\n",
       "      <td>False</td>\n",
       "      <td>True</td>\n",
       "      <td>False</td>\n",
       "      <td>False</td>\n",
       "    </tr>\n",
       "    <tr>\n",
       "      <th>3</th>\n",
       "      <td>False</td>\n",
       "      <td>False</td>\n",
       "      <td>True</td>\n",
       "      <td>False</td>\n",
       "    </tr>\n",
       "    <tr>\n",
       "      <th>4</th>\n",
       "      <td>True</td>\n",
       "      <td>False</td>\n",
       "      <td>False</td>\n",
       "      <td>False</td>\n",
       "    </tr>\n",
       "    <tr>\n",
       "      <th>5</th>\n",
       "      <td>False</td>\n",
       "      <td>False</td>\n",
       "      <td>False</td>\n",
       "      <td>True</td>\n",
       "    </tr>\n",
       "    <tr>\n",
       "      <th>6</th>\n",
       "      <td>True</td>\n",
       "      <td>False</td>\n",
       "      <td>False</td>\n",
       "      <td>False</td>\n",
       "    </tr>\n",
       "    <tr>\n",
       "      <th>7</th>\n",
       "      <td>False</td>\n",
       "      <td>True</td>\n",
       "      <td>False</td>\n",
       "      <td>False</td>\n",
       "    </tr>\n",
       "    <tr>\n",
       "      <th>8</th>\n",
       "      <td>False</td>\n",
       "      <td>True</td>\n",
       "      <td>False</td>\n",
       "      <td>False</td>\n",
       "    </tr>\n",
       "    <tr>\n",
       "      <th>9</th>\n",
       "      <td>False</td>\n",
       "      <td>False</td>\n",
       "      <td>False</td>\n",
       "      <td>True</td>\n",
       "    </tr>\n",
       "    <tr>\n",
       "      <th>10</th>\n",
       "      <td>False</td>\n",
       "      <td>False</td>\n",
       "      <td>False</td>\n",
       "      <td>True</td>\n",
       "    </tr>\n",
       "    <tr>\n",
       "      <th>11</th>\n",
       "      <td>False</td>\n",
       "      <td>False</td>\n",
       "      <td>True</td>\n",
       "      <td>False</td>\n",
       "    </tr>\n",
       "    <tr>\n",
       "      <th>12</th>\n",
       "      <td>False</td>\n",
       "      <td>False</td>\n",
       "      <td>True</td>\n",
       "      <td>False</td>\n",
       "    </tr>\n",
       "    <tr>\n",
       "      <th>13</th>\n",
       "      <td>False</td>\n",
       "      <td>False</td>\n",
       "      <td>True</td>\n",
       "      <td>False</td>\n",
       "    </tr>\n",
       "  </tbody>\n",
       "</table>\n",
       "</div>"
      ],
      "text/plain": [
       "        0      1      2      3\n",
       "0    True  False  False  False\n",
       "1    True  False  False  False\n",
       "2   False   True  False  False\n",
       "3   False  False   True  False\n",
       "4    True  False  False  False\n",
       "5   False  False  False   True\n",
       "6    True  False  False  False\n",
       "7   False   True  False  False\n",
       "8   False   True  False  False\n",
       "9   False  False  False   True\n",
       "10  False  False  False   True\n",
       "11  False  False   True  False\n",
       "12  False  False   True  False\n",
       "13  False  False   True  False"
      ]
     },
     "execution_count": 8,
     "metadata": {},
     "output_type": "execute_result"
    }
   ],
   "source": [
    "y_onehot"
   ]
  },
  {
   "cell_type": "code",
   "execution_count": 9,
   "id": "72c8a334",
   "metadata": {},
   "outputs": [
    {
     "data": {
      "text/plain": [
       "array([[ True, False, False, False],\n",
       "       [ True, False, False, False],\n",
       "       [False,  True, False, False],\n",
       "       [False, False,  True, False],\n",
       "       [ True, False, False, False],\n",
       "       [False, False, False,  True],\n",
       "       [ True, False, False, False],\n",
       "       [False,  True, False, False],\n",
       "       [False,  True, False, False],\n",
       "       [False, False, False,  True],\n",
       "       [False, False, False,  True],\n",
       "       [False, False,  True, False],\n",
       "       [False, False,  True, False],\n",
       "       [False, False,  True, False]])"
      ]
     },
     "execution_count": 9,
     "metadata": {},
     "output_type": "execute_result"
    }
   ],
   "source": [
    "y_onehot_n = y_onehot.to_numpy()\n",
    "y_onehot_n"
   ]
  },
  {
   "cell_type": "markdown",
   "id": "39f4faf6",
   "metadata": {},
   "source": [
    "ทำdata"
   ]
  },
  {
   "cell_type": "markdown",
   "id": "a5147eea",
   "metadata": {},
   "source": [
    "เนื่องจาก data มี label ผมเลยเอาออก"
   ]
  },
  {
   "cell_type": "code",
   "execution_count": 10,
   "id": "ef122379",
   "metadata": {},
   "outputs": [
    {
     "data": {
      "text/html": [
       "<div>\n",
       "<style scoped>\n",
       "    .dataframe tbody tr th:only-of-type {\n",
       "        vertical-align: middle;\n",
       "    }\n",
       "\n",
       "    .dataframe tbody tr th {\n",
       "        vertical-align: top;\n",
       "    }\n",
       "\n",
       "    .dataframe thead th {\n",
       "        text-align: right;\n",
       "    }\n",
       "</style>\n",
       "<table border=\"1\" class=\"dataframe\">\n",
       "  <thead>\n",
       "    <tr style=\"text-align: right;\">\n",
       "      <th></th>\n",
       "      <th>weight</th>\n",
       "      <th>height</th>\n",
       "      <th>speed</th>\n",
       "    </tr>\n",
       "  </thead>\n",
       "  <tbody>\n",
       "    <tr>\n",
       "      <th>0</th>\n",
       "      <td>15.00</td>\n",
       "      <td>0.50</td>\n",
       "      <td>30.0</td>\n",
       "    </tr>\n",
       "    <tr>\n",
       "      <th>1</th>\n",
       "      <td>14.00</td>\n",
       "      <td>0.45</td>\n",
       "      <td>28.0</td>\n",
       "    </tr>\n",
       "    <tr>\n",
       "      <th>2</th>\n",
       "      <td>4.00</td>\n",
       "      <td>0.30</td>\n",
       "      <td>40.0</td>\n",
       "    </tr>\n",
       "    <tr>\n",
       "      <th>3</th>\n",
       "      <td>0.50</td>\n",
       "      <td>0.15</td>\n",
       "      <td>50.0</td>\n",
       "    </tr>\n",
       "    <tr>\n",
       "      <th>4</th>\n",
       "      <td>16.00</td>\n",
       "      <td>0.55</td>\n",
       "      <td>32.0</td>\n",
       "    </tr>\n",
       "    <tr>\n",
       "      <th>5</th>\n",
       "      <td>10.00</td>\n",
       "      <td>0.20</td>\n",
       "      <td>2.0</td>\n",
       "    </tr>\n",
       "    <tr>\n",
       "      <th>6</th>\n",
       "      <td>13.00</td>\n",
       "      <td>0.48</td>\n",
       "      <td>29.0</td>\n",
       "    </tr>\n",
       "    <tr>\n",
       "      <th>7</th>\n",
       "      <td>3.50</td>\n",
       "      <td>0.28</td>\n",
       "      <td>38.0</td>\n",
       "    </tr>\n",
       "    <tr>\n",
       "      <th>8</th>\n",
       "      <td>4.20</td>\n",
       "      <td>0.32</td>\n",
       "      <td>41.0</td>\n",
       "    </tr>\n",
       "    <tr>\n",
       "      <th>9</th>\n",
       "      <td>9.00</td>\n",
       "      <td>0.18</td>\n",
       "      <td>1.5</td>\n",
       "    </tr>\n",
       "    <tr>\n",
       "      <th>10</th>\n",
       "      <td>11.00</td>\n",
       "      <td>0.22</td>\n",
       "      <td>2.3</td>\n",
       "    </tr>\n",
       "    <tr>\n",
       "      <th>11</th>\n",
       "      <td>0.60</td>\n",
       "      <td>0.14</td>\n",
       "      <td>48.0</td>\n",
       "    </tr>\n",
       "    <tr>\n",
       "      <th>12</th>\n",
       "      <td>0.40</td>\n",
       "      <td>0.13</td>\n",
       "      <td>52.0</td>\n",
       "    </tr>\n",
       "    <tr>\n",
       "      <th>13</th>\n",
       "      <td>0.55</td>\n",
       "      <td>0.16</td>\n",
       "      <td>49.0</td>\n",
       "    </tr>\n",
       "  </tbody>\n",
       "</table>\n",
       "</div>"
      ],
      "text/plain": [
       "    weight  height  speed\n",
       "0    15.00    0.50   30.0\n",
       "1    14.00    0.45   28.0\n",
       "2     4.00    0.30   40.0\n",
       "3     0.50    0.15   50.0\n",
       "4    16.00    0.55   32.0\n",
       "5    10.00    0.20    2.0\n",
       "6    13.00    0.48   29.0\n",
       "7     3.50    0.28   38.0\n",
       "8     4.20    0.32   41.0\n",
       "9     9.00    0.18    1.5\n",
       "10   11.00    0.22    2.3\n",
       "11    0.60    0.14   48.0\n",
       "12    0.40    0.13   52.0\n",
       "13    0.55    0.16   49.0"
      ]
     },
     "execution_count": 10,
     "metadata": {},
     "output_type": "execute_result"
    }
   ],
   "source": [
    "x=df.drop(axis=1,columns=[\"label\"])\n",
    "x"
   ]
  },
  {
   "cell_type": "markdown",
   "id": "8fefc7ae",
   "metadata": {},
   "source": [
    "แปลง x เป็น numpy"
   ]
  },
  {
   "cell_type": "code",
   "execution_count": 11,
   "id": "fa1b9f2b",
   "metadata": {},
   "outputs": [
    {
     "data": {
      "text/plain": [
       "array([[15.  ,  0.5 , 30.  ],\n",
       "       [14.  ,  0.45, 28.  ],\n",
       "       [ 4.  ,  0.3 , 40.  ],\n",
       "       [ 0.5 ,  0.15, 50.  ],\n",
       "       [16.  ,  0.55, 32.  ],\n",
       "       [10.  ,  0.2 ,  2.  ],\n",
       "       [13.  ,  0.48, 29.  ],\n",
       "       [ 3.5 ,  0.28, 38.  ],\n",
       "       [ 4.2 ,  0.32, 41.  ],\n",
       "       [ 9.  ,  0.18,  1.5 ],\n",
       "       [11.  ,  0.22,  2.3 ],\n",
       "       [ 0.6 ,  0.14, 48.  ],\n",
       "       [ 0.4 ,  0.13, 52.  ],\n",
       "       [ 0.55,  0.16, 49.  ]])"
      ]
     },
     "execution_count": 11,
     "metadata": {},
     "output_type": "execute_result"
    }
   ],
   "source": [
    "X = x.to_numpy()\n",
    "X"
   ]
  },
  {
   "cell_type": "markdown",
   "id": "83d5abfa",
   "metadata": {},
   "source": [
    "เพิ่ม $w_0$ โดยดารเพิ่ม 1 ข้างหน้า ให้ $w_0*1 = w_0$"
   ]
  },
  {
   "cell_type": "code",
   "execution_count": 12,
   "id": "c1196752",
   "metadata": {},
   "outputs": [
    {
     "data": {
      "text/plain": [
       "array([[ 1.  , 15.  ,  0.5 , 30.  ],\n",
       "       [ 1.  , 14.  ,  0.45, 28.  ],\n",
       "       [ 1.  ,  4.  ,  0.3 , 40.  ],\n",
       "       [ 1.  ,  0.5 ,  0.15, 50.  ],\n",
       "       [ 1.  , 16.  ,  0.55, 32.  ],\n",
       "       [ 1.  , 10.  ,  0.2 ,  2.  ],\n",
       "       [ 1.  , 13.  ,  0.48, 29.  ],\n",
       "       [ 1.  ,  3.5 ,  0.28, 38.  ],\n",
       "       [ 1.  ,  4.2 ,  0.32, 41.  ],\n",
       "       [ 1.  ,  9.  ,  0.18,  1.5 ],\n",
       "       [ 1.  , 11.  ,  0.22,  2.3 ],\n",
       "       [ 1.  ,  0.6 ,  0.14, 48.  ],\n",
       "       [ 1.  ,  0.4 ,  0.13, 52.  ],\n",
       "       [ 1.  ,  0.55,  0.16, 49.  ]])"
      ]
     },
     "execution_count": 12,
     "metadata": {},
     "output_type": "execute_result"
    }
   ],
   "source": [
    "X_w_0 = np.hstack([np.ones((X.shape[0], 1)), X])\n",
    "X_w_0"
   ]
  },
  {
   "cell_type": "markdown",
   "id": "d68058af",
   "metadata": {},
   "source": [
    "# Softmax"
   ]
  },
  {
   "cell_type": "code",
   "execution_count": 13,
   "id": "bd4373a6",
   "metadata": {},
   "outputs": [],
   "source": [
    "def softmax(z):\n",
    "    z = z - np.max(z, axis=1, keepdims=True)  # ลบ max แต่ละแถว\n",
    "    e = np.exp(z)\n",
    "    return e / np.sum(e, axis=1, keepdims=True)"
   ]
  },
  {
   "cell_type": "markdown",
   "id": "b67e0c35",
   "metadata": {},
   "source": [
    "gradient"
   ]
  },
  {
   "cell_type": "code",
   "execution_count": 14,
   "id": "081e7a11",
   "metadata": {},
   "outputs": [],
   "source": [
    "def compute_gradient(X, y_true, y_hat):\n",
    "    m = X.shape[0]\n",
    "    dW = (1/m) * X.T @ (y_hat - y_true) \n",
    "    return dW.T"
   ]
  },
  {
   "cell_type": "markdown",
   "id": "60c41316",
   "metadata": {},
   "source": [
    "# train"
   ]
  },
  {
   "cell_type": "markdown",
   "id": "1a2f7bd9",
   "metadata": {},
   "source": [
    "อธิบาย "
   ]
  },
  {
   "cell_type": "markdown",
   "id": "d697f022",
   "metadata": {},
   "source": [
    "learning_rate = 1e-4 ลองปรับตามเหมาะสม"
   ]
  },
  {
   "cell_type": "code",
   "execution_count": 15,
   "id": "39dbf61e",
   "metadata": {},
   "outputs": [],
   "source": [
    "learning_rate = 1e-4"
   ]
  },
  {
   "cell_type": "markdown",
   "id": "488b9743",
   "metadata": {},
   "source": [
    " เรากำหนดให้ weights มีหา เท่ากับ 1 ทั้งหมด โดยกำหนดให้ \n",
    " $$\\begin{bmatrix}\n",
    "    [1., 1., 1., 1.] ของ w_{หมา}\\\\\n",
    "    [1., 1., 1., 1.] ของ w_{แมว}\\\\\n",
    "    [1., 1., 1., 1.] ของ w_{นก}\\\\\n",
    "    [1., 1., 1., 1.] ของ w_{เต๋า}\\\\\n",
    " \\end{bmatrix}$$\n"
   ]
  },
  {
   "cell_type": "code",
   "execution_count": 32,
   "id": "38912a6d",
   "metadata": {},
   "outputs": [
    {
     "data": {
      "text/plain": [
       "array([[1., 1., 1., 1.],\n",
       "       [1., 1., 1., 1.],\n",
       "       [1., 1., 1., 1.],\n",
       "       [1., 1., 1., 1.]])"
      ]
     },
     "execution_count": 32,
     "metadata": {},
     "output_type": "execute_result"
    }
   ],
   "source": [
    "weights=np.ones((y_onehot_n.shape[1],X_w_0.shape[1])) \n",
    "weights"
   ]
  },
  {
   "cell_type": "markdown",
   "id": "cb933168",
   "metadata": {},
   "source": [
    "โดยเราจะเห็น z = X_w_0 @ weights.T"
   ]
  },
  {
   "cell_type": "markdown",
   "id": "4d17b627",
   "metadata": {},
   "source": [
    "$$\\begin{bmatrix}1. & 15. & 0.5 & 30.\\\\\n",
    "1. & 14. & 0.45& 28.  \\\\\n",
    ".\\\\\n",
    "..\\\\\n",
    "...\\\\\n",
    "\\end{bmatrix}\n",
    "*\n",
    "\\begin{bmatrix}1_{หมา},1_{แมว},1_{นก},1_{เต๋า}\\\\\n",
    "1_{หมา},1_{แมว},1_{นก},1_{เต๋า}\\\\\n",
    "1_{หมา},1_{แมว},1_{นก},1_{เต๋า}\\\\\n",
    "1_{หมา},1_{แมว},1_{นก},1_{เต๋า}\n",
    "\\end{bmatrix}\n",
    "=\n",
    "\\begin{bmatrix}1*1_{หมา}+15*1_{หมา}+0.5*1_{หมา}+30*1_{หมา} &,แมว&,นก&,เต๋า\\\\\n",
    "1*1_{หมา}+14*1_{หมา}+0.45*1_{หมา}+28*1_{หมา}&,แมว&,นก&,เต๋า\\\\\n",
    ".\\\\\n",
    "..\\\\\n",
    "...\\\\\n",
    "\n",
    "\\end{bmatrix}\n",
    "\n"
   ]
  },
  {
   "cell_type": "code",
   "execution_count": 17,
   "id": "62a47bbe",
   "metadata": {},
   "outputs": [
    {
     "data": {
      "text/plain": [
       "array([[46.5 , 46.5 , 46.5 , 46.5 ],\n",
       "       [43.45, 43.45, 43.45, 43.45],\n",
       "       [45.3 , 45.3 , 45.3 , 45.3 ],\n",
       "       [51.65, 51.65, 51.65, 51.65],\n",
       "       [49.55, 49.55, 49.55, 49.55],\n",
       "       [13.2 , 13.2 , 13.2 , 13.2 ],\n",
       "       [43.48, 43.48, 43.48, 43.48],\n",
       "       [42.78, 42.78, 42.78, 42.78],\n",
       "       [46.52, 46.52, 46.52, 46.52],\n",
       "       [11.68, 11.68, 11.68, 11.68],\n",
       "       [14.52, 14.52, 14.52, 14.52],\n",
       "       [49.74, 49.74, 49.74, 49.74],\n",
       "       [53.53, 53.53, 53.53, 53.53],\n",
       "       [50.71, 50.71, 50.71, 50.71]])"
      ]
     },
     "execution_count": 17,
     "metadata": {},
     "output_type": "execute_result"
    }
   ],
   "source": [
    "z = X_w_0 @ weights.T\n",
    "z"
   ]
  },
  {
   "cell_type": "markdown",
   "id": "ae2f72ba",
   "metadata": {},
   "source": [
    "46.5 คือ $x*w_{หมา}$, 46.5  $x*w_{แมว}$ , 46.5 $x*w_{นก}$ , 46.5 $x*w_{เต๋า}$"
   ]
  },
  {
   "cell_type": "markdown",
   "id": "46f46995",
   "metadata": {},
   "source": [
    "y_hat = \n",
    "$\\begin{bmatrix}[P(x)_{หมา},P(x)_{แมว},P(x)_{นก},P(x)_{เต๋า}]\\\\\n",
    "[P(x)_{หมา},P(x)_{แมว},P(x)_{นก},P(x)_{เต๋า}]\\\\\n",
    "[P(x)_{หมา},P(x)_{แมว},P(x)_{นก},P(x)_{เต๋า}]\\\\\n",
    "[P(x)_{หมา},P(x)_{แมว},P(x)_{นก},P(x)_{เต๋า}]\\\\\n",
    "...\n",
    "\\end{bmatrix}$\n",
    "\n",
    "P(x) = ความน่าจะเป็นของ x"
   ]
  },
  {
   "cell_type": "code",
   "execution_count": 18,
   "id": "ad5ab1d9",
   "metadata": {},
   "outputs": [
    {
     "data": {
      "text/plain": [
       "array([[0.25, 0.25, 0.25, 0.25],\n",
       "       [0.25, 0.25, 0.25, 0.25],\n",
       "       [0.25, 0.25, 0.25, 0.25],\n",
       "       [0.25, 0.25, 0.25, 0.25],\n",
       "       [0.25, 0.25, 0.25, 0.25],\n",
       "       [0.25, 0.25, 0.25, 0.25],\n",
       "       [0.25, 0.25, 0.25, 0.25],\n",
       "       [0.25, 0.25, 0.25, 0.25],\n",
       "       [0.25, 0.25, 0.25, 0.25],\n",
       "       [0.25, 0.25, 0.25, 0.25],\n",
       "       [0.25, 0.25, 0.25, 0.25],\n",
       "       [0.25, 0.25, 0.25, 0.25],\n",
       "       [0.25, 0.25, 0.25, 0.25],\n",
       "       [0.25, 0.25, 0.25, 0.25]])"
      ]
     },
     "execution_count": 18,
     "metadata": {},
     "output_type": "execute_result"
    }
   ],
   "source": [
    "y_hat = softmax(z)\n",
    "y_hat"
   ]
  },
  {
   "cell_type": "markdown",
   "id": "937e18d6",
   "metadata": {},
   "source": [
    "grad"
   ]
  },
  {
   "cell_type": "code",
   "execution_count": 19,
   "id": "daf3a788",
   "metadata": {},
   "outputs": [
    {
     "data": {
      "text/plain": [
       "(array([[0.25, 0.25, 0.25, 0.25],\n",
       "        [0.25, 0.25, 0.25, 0.25],\n",
       "        [0.25, 0.25, 0.25, 0.25],\n",
       "        [0.25, 0.25, 0.25, 0.25],\n",
       "        [0.25, 0.25, 0.25, 0.25],\n",
       "        [0.25, 0.25, 0.25, 0.25],\n",
       "        [0.25, 0.25, 0.25, 0.25],\n",
       "        [0.25, 0.25, 0.25, 0.25],\n",
       "        [0.25, 0.25, 0.25, 0.25],\n",
       "        [0.25, 0.25, 0.25, 0.25],\n",
       "        [0.25, 0.25, 0.25, 0.25],\n",
       "        [0.25, 0.25, 0.25, 0.25],\n",
       "        [0.25, 0.25, 0.25, 0.25],\n",
       "        [0.25, 0.25, 0.25, 0.25]]),\n",
       " array([[ True, False, False, False],\n",
       "        [ True, False, False, False],\n",
       "        [False,  True, False, False],\n",
       "        [False, False,  True, False],\n",
       "        [ True, False, False, False],\n",
       "        [False, False, False,  True],\n",
       "        [ True, False, False, False],\n",
       "        [False,  True, False, False],\n",
       "        [False,  True, False, False],\n",
       "        [False, False, False,  True],\n",
       "        [False, False, False,  True],\n",
       "        [False, False,  True, False],\n",
       "        [False, False,  True, False],\n",
       "        [False, False,  True, False]]))"
      ]
     },
     "execution_count": 19,
     "metadata": {},
     "output_type": "execute_result"
    }
   ],
   "source": [
    "y_hat,y_onehot_n"
   ]
  },
  {
   "cell_type": "code",
   "execution_count": 20,
   "id": "15457cc8",
   "metadata": {},
   "outputs": [
    {
     "data": {
      "text/plain": [
       "array([[-0.75,  0.25,  0.25,  0.25],\n",
       "       [-0.75,  0.25,  0.25,  0.25],\n",
       "       [ 0.25, -0.75,  0.25,  0.25],\n",
       "       [ 0.25,  0.25, -0.75,  0.25],\n",
       "       [-0.75,  0.25,  0.25,  0.25],\n",
       "       [ 0.25,  0.25,  0.25, -0.75],\n",
       "       [-0.75,  0.25,  0.25,  0.25],\n",
       "       [ 0.25, -0.75,  0.25,  0.25],\n",
       "       [ 0.25, -0.75,  0.25,  0.25],\n",
       "       [ 0.25,  0.25,  0.25, -0.75],\n",
       "       [ 0.25,  0.25,  0.25, -0.75],\n",
       "       [ 0.25,  0.25, -0.75,  0.25],\n",
       "       [ 0.25,  0.25, -0.75,  0.25],\n",
       "       [ 0.25,  0.25, -0.75,  0.25]])"
      ]
     },
     "execution_count": 20,
     "metadata": {},
     "output_type": "execute_result"
    }
   ],
   "source": [
    "y_hat-y_onehot_n"
   ]
  },
  {
   "cell_type": "code",
   "execution_count": 21,
   "id": "0b80f0b8",
   "metadata": {},
   "outputs": [
    {
     "data": {
      "text/plain": [
       "array([[-0.75,  0.25,  0.25,  0.25],\n",
       "       [-0.75,  0.25,  0.25,  0.25],\n",
       "       [ 0.25, -0.75,  0.25,  0.25],\n",
       "       [ 0.25,  0.25, -0.75,  0.25],\n",
       "       [-0.75,  0.25,  0.25,  0.25],\n",
       "       [ 0.25,  0.25,  0.25, -0.75],\n",
       "       [-0.75,  0.25,  0.25,  0.25],\n",
       "       [ 0.25, -0.75,  0.25,  0.25],\n",
       "       [ 0.25, -0.75,  0.25,  0.25],\n",
       "       [ 0.25,  0.25,  0.25, -0.75],\n",
       "       [ 0.25,  0.25,  0.25, -0.75],\n",
       "       [ 0.25,  0.25, -0.75,  0.25],\n",
       "       [ 0.25,  0.25, -0.75,  0.25],\n",
       "       [ 0.25,  0.25, -0.75,  0.25]])"
      ]
     },
     "execution_count": 21,
     "metadata": {},
     "output_type": "execute_result"
    }
   ],
   "source": [
    "(y_hat-y_onehot_n)"
   ]
  },
  {
   "cell_type": "code",
   "execution_count": 22,
   "id": "04cd2027",
   "metadata": {},
   "outputs": [
    {
     "data": {
      "text/plain": [
       "array([[ 1.  ,  1.  ,  1.  ,  1.  ,  1.  ,  1.  ,  1.  ,  1.  ,  1.  ,\n",
       "         1.  ,  1.  ,  1.  ,  1.  ,  1.  ],\n",
       "       [15.  , 14.  ,  4.  ,  0.5 , 16.  , 10.  , 13.  ,  3.5 ,  4.2 ,\n",
       "         9.  , 11.  ,  0.6 ,  0.4 ,  0.55],\n",
       "       [ 0.5 ,  0.45,  0.3 ,  0.15,  0.55,  0.2 ,  0.48,  0.28,  0.32,\n",
       "         0.18,  0.22,  0.14,  0.13,  0.16],\n",
       "       [30.  , 28.  , 40.  , 50.  , 32.  ,  2.  , 29.  , 38.  , 41.  ,\n",
       "         1.5 ,  2.3 , 48.  , 52.  , 49.  ]])"
      ]
     },
     "execution_count": 22,
     "metadata": {},
     "output_type": "execute_result"
    }
   ],
   "source": [
    "X_w_0.T"
   ]
  },
  {
   "cell_type": "code",
   "execution_count": 23,
   "id": "bb0c87a5",
   "metadata": {},
   "outputs": [
    {
     "data": {
      "text/plain": [
       "array([[ -0.5   ,   0.5   ,  -0.5   ,   0.5   ],\n",
       "       [-32.5625,  13.7375,  23.3875,  -4.5625],\n",
       "       [ -0.965 ,   0.115 ,   0.435 ,   0.415 ],\n",
       "       [ -8.3   ,  -8.3   , -88.3   , 104.9   ]])"
      ]
     },
     "execution_count": 23,
     "metadata": {},
     "output_type": "execute_result"
    }
   ],
   "source": [
    "X_w_0.T @ (y_hat-y_onehot_n)"
   ]
  },
  {
   "cell_type": "code",
   "execution_count": 24,
   "id": "141c6db2",
   "metadata": {},
   "outputs": [
    {
     "data": {
      "text/plain": [
       "array([[-0.03571429, -2.32589286, -0.06892857, -0.59285714],\n",
       "       [ 0.03571429,  0.98125   ,  0.00821429, -0.59285714],\n",
       "       [-0.03571429,  1.67053571,  0.03107143, -6.30714286],\n",
       "       [ 0.03571429, -0.32589286,  0.02964286,  7.49285714]])"
      ]
     },
     "execution_count": 24,
     "metadata": {},
     "output_type": "execute_result"
    }
   ],
   "source": [
    "dw = compute_gradient(X_w_0,y_onehot_n, y_hat)\n",
    "dw"
   ]
  },
  {
   "cell_type": "code",
   "execution_count": 31,
   "id": "13c8bdb0",
   "metadata": {},
   "outputs": [
    {
     "data": {
      "text/plain": [
       "array([[0.98687332, 1.12198711, 1.00473652, 1.00985275],\n",
       "       [0.99857749, 0.89348863, 1.00117035, 1.05885542],\n",
       "       [0.98881556, 0.74323758, 0.99057672, 1.0788121 ],\n",
       "       [1.02573362, 1.24128668, 1.00351642, 0.85247973]])"
      ]
     },
     "execution_count": 31,
     "metadata": {},
     "output_type": "execute_result"
    }
   ],
   "source": [
    "weights"
   ]
  },
  {
   "cell_type": "code",
   "execution_count": 33,
   "id": "c1250206",
   "metadata": {},
   "outputs": [
    {
     "name": "stdout",
     "output_type": "stream",
     "text": [
      "loss: 1.3862943611198906\n",
      "loss: 1.090098977308137\n",
      "loss: 0.9859056751283387\n",
      "loss: 0.9123175024911373\n",
      "loss: 0.8557613463463406\n",
      "loss: 0.8102605583716996\n",
      "loss: 0.7724229248271719\n",
      "loss: 0.7401556046716605\n",
      "loss: 0.7121002333193148\n",
      "loss: 0.6873372813500291\n",
      "loss: 0.6652203043661535\n",
      "loss: 0.6452790782115907\n",
      "loss: 0.6271610094701746\n",
      "loss: 0.6105945389989833\n",
      "loss: 0.5953655725805405\n",
      "loss: 0.5813018588176805\n",
      "loss: 0.5682623554334799\n",
      "loss: 0.5561298120517822\n",
      "loss: 0.5448054789736189\n",
      "loss: 0.5342052532416839\n",
      "loss: 0.5242568165641847\n",
      "loss: 0.514897470778742\n",
      "loss: 0.5060724726210327\n",
      "loss: 0.49773373195049125\n",
      "loss: 0.4898387788477896\n",
      "loss: 0.48234993273691085\n",
      "loss: 0.47523362560521115\n",
      "loss: 0.4684598444748727\n",
      "loss: 0.46200166743649007\n",
      "loss: 0.4558348740456863\n"
     ]
    }
   ],
   "source": [
    "weights=np.ones((y_onehot_n.shape[1],X_w_0.shape[1])) \n",
    "for epoch in range(3000):\n",
    "    z = X_w_0 @ weights.T\n",
    "    y_hat = softmax(z)\n",
    "    loss = cross_entropy_loss(y_onehot_n, y_hat)\n",
    "    \n",
    "    dw = compute_gradient(X_w_0,y_onehot_n, y_hat)\n",
    "    weights -= learning_rate * dw\n",
    "    if epoch%100 ==0 :\n",
    "        print(\"loss:\",loss)\n",
    "\n"
   ]
  },
  {
   "cell_type": "code",
   "execution_count": 34,
   "id": "2d8f853e",
   "metadata": {},
   "outputs": [
    {
     "data": {
      "text/plain": [
       "array([[0.98687332, 1.12198711, 1.00473652, 1.00985275],\n",
       "       [0.99857749, 0.89348863, 1.00117035, 1.05885542],\n",
       "       [0.98881556, 0.74323758, 0.99057672, 1.0788121 ],\n",
       "       [1.02573362, 1.24128668, 1.00351642, 0.85247973]])"
      ]
     },
     "execution_count": 34,
     "metadata": {},
     "output_type": "execute_result"
    }
   ],
   "source": [
    "weights"
   ]
  },
  {
   "cell_type": "markdown",
   "id": "b2f812d8",
   "metadata": {},
   "source": [
    "ผมจะให้เดา นก โดยที่ผมใส่ไป [1,0.6,0.19,40.0] ซี่งผมจำลองให้เหมือนนก "
   ]
  },
  {
   "cell_type": "code",
   "execution_count": 27,
   "id": "e75cae00",
   "metadata": {},
   "outputs": [
    {
     "data": {
      "text/plain": [
       "array([[6.01459737e-02, 3.25049979e-01, 6.14605307e-01, 1.98739940e-04]])"
      ]
     },
     "execution_count": 27,
     "metadata": {},
     "output_type": "execute_result"
    }
   ],
   "source": [
    "x_new = np.array([[1, 0.6, 0.14, 37.0]])  # รวม bias=1\n",
    "z = x_new @ weights.T  # คำนวณ logits (shape = (4,))\n",
    "y_hat = softmax(z)          # probability ของแต่ละคลาส\n",
    "y_hat\n"
   ]
  },
  {
   "cell_type": "code",
   "execution_count": 28,
   "id": "0a07fb0a",
   "metadata": {},
   "outputs": [
    {
     "name": "stdout",
     "output_type": "stream",
     "text": [
      "Probabilities: 0.06, 0.33, 0.61, 0.0\n"
     ]
    }
   ],
   "source": [
    "print(\"Probabilities:\", \", \".join(str(round(x,2)) for x in y_hat[0])) # แปลง ให้มองเห็นง่าย"
   ]
  },
  {
   "cell_type": "markdown",
   "id": "8cecc817",
   "metadata": {},
   "source": [
    "ความน่าจะเป็นมากที่สุดคือ 0.61 ซึ่งตรงกับ นก"
   ]
  },
  {
   "cell_type": "code",
   "execution_count": 29,
   "id": "697630ea",
   "metadata": {},
   "outputs": [
    {
     "name": "stdout",
     "output_type": "stream",
     "text": [
      "Predicted label: นก\n"
     ]
    }
   ],
   "source": [
    "reverse_mapping = {v: k for k, v in mapping.items()}\n",
    "predicted_class_index = np.argmax(y_hat)\n",
    "predicted_label = reverse_mapping[predicted_class_index]\n",
    "print(\"Predicted label:\", predicted_label)"
   ]
  }
 ],
 "metadata": {
  "kernelspec": {
   "display_name": "Python 3",
   "language": "python",
   "name": "python3"
  },
  "language_info": {
   "codemirror_mode": {
    "name": "ipython",
    "version": 3
   },
   "file_extension": ".py",
   "mimetype": "text/x-python",
   "name": "python",
   "nbconvert_exporter": "python",
   "pygments_lexer": "ipython3",
   "version": "3.13.2"
  }
 },
 "nbformat": 4,
 "nbformat_minor": 5
}
