{
 "cells": [
  {
   "cell_type": "markdown",
   "id": "3536bac1",
   "metadata": {},
   "source": [
    "# เตรียม tool"
   ]
  },
  {
   "cell_type": "markdown",
   "id": "5c1b96c9",
   "metadata": {},
   "source": [
    "เราต้องติดตั้ง pandas numpy matpotlib"
   ]
  },
  {
   "cell_type": "code",
   "execution_count": null,
   "id": "e1e38eaa",
   "metadata": {},
   "outputs": [],
   "source": [
    "!pip install matplotlib"
   ]
  },
  {
   "cell_type": "code",
   "execution_count": null,
   "id": "6c8caead",
   "metadata": {},
   "outputs": [],
   "source": [
    "!pip install pandas\n"
   ]
  },
  {
   "cell_type": "markdown",
   "id": "1a4c55fb",
   "metadata": {},
   "source": [
    "# ทำความเข้าใจ Linear regression"
   ]
  },
  {
   "cell_type": "markdown",
   "id": "993ceea9",
   "metadata": {},
   "source": [
    "## linear คืออะไร"
   ]
  },
  {
   "cell_type": "markdown",
   "id": "4e8bd31a",
   "metadata": {},
   "source": [
    "เส้นตรง"
   ]
  },
  {
   "cell_type": "markdown",
   "id": "11c27f5c",
   "metadata": {},
   "source": [
    "โดยสมการเส้นตรงคือ "
   ]
  },
  {
   "cell_type": "markdown",
   "id": "30bd999d",
   "metadata": {},
   "source": [
    "$mx+c$"
   ]
  },
  {
   "cell_type": "markdown",
   "id": "c060d953",
   "metadata": {},
   "source": [
    "### สมมติว่าเรามี m,x,c อยู่แล้ว\n"
   ]
  },
  {
   "cell_type": "markdown",
   "id": "6f2bced8",
   "metadata": {},
   "source": [
    "m=3,x=คือใดๆเข้าไป,c=ค่าไม่แน่นอน อาจจะ0 ก็ได้\n"
   ]
  },
  {
   "cell_type": "markdown",
   "id": "b20f6841",
   "metadata": {},
   "source": [
    "## Regression คืออะไร"
   ]
  },
  {
   "cell_type": "markdown",
   "id": "b504cf04",
   "metadata": {},
   "source": [
    "ความสัมพันธ์ระว่างเส้น โดยเส้น x เราเป็นค่าใดๆ กับผลลัพท์ อาจจะเป็น y"
   ]
  },
  {
   "cell_type": "markdown",
   "id": "448afd86",
   "metadata": {},
   "source": [
    "## ความสัมพันธ์ยังไง"
   ]
  },
  {
   "cell_type": "markdown",
   "id": "b33dd954",
   "metadata": {},
   "source": [
    "$f(x)=3*x+2$"
   ]
  },
  {
   "cell_type": "markdown",
   "id": "ea98a40a",
   "metadata": {},
   "source": [
    "$f(x)=y$"
   ]
  },
  {
   "cell_type": "markdown",
   "id": "262cfdfe",
   "metadata": {},
   "source": [
    "$x=4;f(4)=3*4+2=14;y=14$"
   ]
  },
  {
   "cell_type": "markdown",
   "id": "b767c989",
   "metadata": {},
   "source": [
    "$f(3)=11;y=11$"
   ]
  },
  {
   "cell_type": "markdown",
   "id": "722670cf",
   "metadata": {},
   "source": [
    "จากสมการด้านบนเห็นว่า y เป็นผลลัพท์ของการใส่ ค่า x ที่ไม่แน่นอน"
   ]
  },
  {
   "cell_type": "markdown",
   "id": "b23a1317",
   "metadata": {},
   "source": [
    "# สร้างดาต้า"
   ]
  },
  {
   "cell_type": "markdown",
   "id": "46de2232",
   "metadata": {},
   "source": [
    "ตอนนี้จะเป็นตัวอย่างง่ายๆ"
   ]
  },
  {
   "cell_type": "markdown",
   "id": "13026094",
   "metadata": {},
   "source": [
    "ถ้าเรารู้อยู่แล้วว่า m,c จะเป็นค่าอะไร"
   ]
  },
  {
   "cell_type": "markdown",
   "id": "6c91c8d6",
   "metadata": {},
   "source": [
    "แต่เรามาเรียนรู้ว่า ai หรือหัวข้อที่เราเรียนนั้นคือ linear regression"
   ]
  },
  {
   "cell_type": "markdown",
   "id": "d952028e",
   "metadata": {},
   "source": [
    "ทำงานยังไง"
   ]
  },
  {
   "cell_type": "markdown",
   "id": "0d305e8a",
   "metadata": {},
   "source": [
    "## สมมติดาต้าว่า m,c มีค่า 7,c ช่วงระหว่าง [-50,30]"
   ]
  },
  {
   "cell_type": "markdown",
   "id": "eb22772b",
   "metadata": {},
   "source": [
    "import libary ง่ายทำการทำงาน"
   ]
  },
  {
   "cell_type": "code",
   "execution_count": 7,
   "id": "ddb1a364",
   "metadata": {},
   "outputs": [],
   "source": [
    "import matplotlib.pyplot as plt\n",
    "import numpy as np"
   ]
  },
  {
   "cell_type": "markdown",
   "id": "93dbcfdb",
   "metadata": {},
   "source": [
    "สร้างดาต้าด้วย code กับ lib matplotlib numpy"
   ]
  },
  {
   "cell_type": "markdown",
   "id": "66832945",
   "metadata": {},
   "source": [
    "สมการหลัก $mx+c$"
   ]
  },
  {
   "cell_type": "markdown",
   "id": "66d9b44b",
   "metadata": {},
   "source": [
    "กำหนด m=7,c=[-50,30]"
   ]
  },
  {
   "cell_type": "markdown",
   "id": "d856def6",
   "metadata": {},
   "source": [
    "โดย x เป็นค่าใดๆ โดยง่ายผมเลยกำหนดให้ x มีค่า 0-100 โดยเป็น vactor"
   ]
  },
  {
   "cell_type": "code",
   "execution_count": 175,
   "id": "16838858",
   "metadata": {},
   "outputs": [
    {
     "data": {
      "text/plain": [
       "array([[  0],\n",
       "       [  1],\n",
       "       [  2],\n",
       "       [  3],\n",
       "       [  4],\n",
       "       [  5],\n",
       "       [  6],\n",
       "       [  7],\n",
       "       [  8],\n",
       "       [  9],\n",
       "       [ 10],\n",
       "       [ 11],\n",
       "       [ 12],\n",
       "       [ 13],\n",
       "       [ 14],\n",
       "       [ 15],\n",
       "       [ 16],\n",
       "       [ 17],\n",
       "       [ 18],\n",
       "       [ 19],\n",
       "       [ 20],\n",
       "       [ 21],\n",
       "       [ 22],\n",
       "       [ 23],\n",
       "       [ 24],\n",
       "       [ 25],\n",
       "       [ 26],\n",
       "       [ 27],\n",
       "       [ 28],\n",
       "       [ 29],\n",
       "       [ 30],\n",
       "       [ 31],\n",
       "       [ 32],\n",
       "       [ 33],\n",
       "       [ 34],\n",
       "       [ 35],\n",
       "       [ 36],\n",
       "       [ 37],\n",
       "       [ 38],\n",
       "       [ 39],\n",
       "       [ 40],\n",
       "       [ 41],\n",
       "       [ 42],\n",
       "       [ 43],\n",
       "       [ 44],\n",
       "       [ 45],\n",
       "       [ 46],\n",
       "       [ 47],\n",
       "       [ 48],\n",
       "       [ 49],\n",
       "       [ 50],\n",
       "       [ 51],\n",
       "       [ 52],\n",
       "       [ 53],\n",
       "       [ 54],\n",
       "       [ 55],\n",
       "       [ 56],\n",
       "       [ 57],\n",
       "       [ 58],\n",
       "       [ 59],\n",
       "       [ 60],\n",
       "       [ 61],\n",
       "       [ 62],\n",
       "       [ 63],\n",
       "       [ 64],\n",
       "       [ 65],\n",
       "       [ 66],\n",
       "       [ 67],\n",
       "       [ 68],\n",
       "       [ 69],\n",
       "       [ 70],\n",
       "       [ 71],\n",
       "       [ 72],\n",
       "       [ 73],\n",
       "       [ 74],\n",
       "       [ 75],\n",
       "       [ 76],\n",
       "       [ 77],\n",
       "       [ 78],\n",
       "       [ 79],\n",
       "       [ 80],\n",
       "       [ 81],\n",
       "       [ 82],\n",
       "       [ 83],\n",
       "       [ 84],\n",
       "       [ 85],\n",
       "       [ 86],\n",
       "       [ 87],\n",
       "       [ 88],\n",
       "       [ 89],\n",
       "       [ 90],\n",
       "       [ 91],\n",
       "       [ 92],\n",
       "       [ 93],\n",
       "       [ 94],\n",
       "       [ 95],\n",
       "       [ 96],\n",
       "       [ 97],\n",
       "       [ 98],\n",
       "       [ 99],\n",
       "       [100]])"
      ]
     },
     "execution_count": 175,
     "metadata": {},
     "output_type": "execute_result"
    }
   ],
   "source": [
    "x=np.arange(0,100+1,1).reshape(-1,1)\n",
    "x"
   ]
  },
  {
   "cell_type": "markdown",
   "id": "6680024c",
   "metadata": {},
   "source": [
    "เนื่องจาก $f(x)=y;f(x)=mx+c$"
   ]
  },
  {
   "cell_type": "markdown",
   "id": "e332d034",
   "metadata": {},
   "source": [
    "โดยสรุปว่า y = mx+c หรือ y=7x+c โดยที่ c เป็นค่าสุ่ม [-50,30]"
   ]
  },
  {
   "cell_type": "code",
   "execution_count": 249,
   "id": "30f43223",
   "metadata": {},
   "outputs": [
    {
     "data": {
      "text/plain": [
       "array([[  6.38339198],\n",
       "       [-23.41426186],\n",
       "       [  5.76906584],\n",
       "       [ 29.0293358 ],\n",
       "       [-20.00785531],\n",
       "       [ 13.99163025],\n",
       "       [  9.96041544],\n",
       "       [ 21.25884312],\n",
       "       [ 68.20554887],\n",
       "       [ 58.36716829],\n",
       "       [ 47.24972635],\n",
       "       [ 90.63704011],\n",
       "       [ 60.84222309],\n",
       "       [ 87.63911038],\n",
       "       [ 50.85511053],\n",
       "       [127.95777807],\n",
       "       [ 64.34005298],\n",
       "       [120.01932225],\n",
       "       [ 77.78835359],\n",
       "       [137.12199363],\n",
       "       [124.75883683],\n",
       "       [125.12348148],\n",
       "       [182.63749729],\n",
       "       [155.68764606],\n",
       "       [164.12858491],\n",
       "       [167.93519131],\n",
       "       [208.36290954],\n",
       "       [139.14816797],\n",
       "       [209.18759958],\n",
       "       [161.24925321],\n",
       "       [201.74328675],\n",
       "       [234.13042145],\n",
       "       [222.54790276],\n",
       "       [198.1978953 ],\n",
       "       [191.13162757],\n",
       "       [250.54302853],\n",
       "       [236.82363486],\n",
       "       [262.44936006],\n",
       "       [274.313148  ],\n",
       "       [280.38547322],\n",
       "       [273.85651445],\n",
       "       [260.9858198 ],\n",
       "       [275.49498687],\n",
       "       [311.24064857],\n",
       "       [296.82706328],\n",
       "       [315.36327215],\n",
       "       [336.35814927],\n",
       "       [313.46668335],\n",
       "       [303.44990338],\n",
       "       [343.1805664 ],\n",
       "       [322.51984711],\n",
       "       [363.63754521],\n",
       "       [381.4834424 ],\n",
       "       [383.05092035],\n",
       "       [390.19707859],\n",
       "       [404.24824296],\n",
       "       [370.99081397],\n",
       "       [407.72180551],\n",
       "       [390.11932367],\n",
       "       [394.3331825 ],\n",
       "       [385.66391075],\n",
       "       [438.59851165],\n",
       "       [455.53443698],\n",
       "       [453.09067295],\n",
       "       [441.79064443],\n",
       "       [466.40249419],\n",
       "       [487.80875299],\n",
       "       [468.31770645],\n",
       "       [433.65715993],\n",
       "       [510.61138438],\n",
       "       [506.12230392],\n",
       "       [471.63767498],\n",
       "       [527.80442773],\n",
       "       [488.85433014],\n",
       "       [546.33225257],\n",
       "       [488.90008377],\n",
       "       [498.12920294],\n",
       "       [565.77755432],\n",
       "       [524.41602212],\n",
       "       [557.85675891],\n",
       "       [568.00514593],\n",
       "       [567.52210403],\n",
       "       [554.28968269],\n",
       "       [550.11696934],\n",
       "       [569.09259362],\n",
       "       [596.10372328],\n",
       "       [624.09709432],\n",
       "       [599.28327416],\n",
       "       [596.84654058],\n",
       "       [623.43498203],\n",
       "       [619.96227087],\n",
       "       [662.27684147],\n",
       "       [636.20438185],\n",
       "       [666.43700194],\n",
       "       [679.41766121],\n",
       "       [683.83117615],\n",
       "       [681.44770495],\n",
       "       [637.92321457],\n",
       "       [697.29786066],\n",
       "       [708.35756991],\n",
       "       [721.27344487]])"
      ]
     },
     "execution_count": 249,
     "metadata": {},
     "output_type": "execute_result"
    }
   ],
   "source": [
    "y=7*x+np.random.uniform(low=-50, high=30, size=101).reshape(-1,1)\n",
    "y"
   ]
  },
  {
   "cell_type": "code",
   "execution_count": 250,
   "id": "322a71ff",
   "metadata": {},
   "outputs": [
    {
     "data": {
      "text/plain": [
       "<matplotlib.collections.PathCollection at 0x2982f506c10>"
      ]
     },
     "execution_count": 250,
     "metadata": {},
     "output_type": "execute_result"
    },
    {
     "data": {
      "image/png": "[encoded data removed]",
      "text/plain": [
       "<Figure size 640x480 with 1 Axes>"
      ]
     },
     "metadata": {},
     "output_type": "display_data"
    }
   ],
   "source": [
    "plt.scatter(x,y)"
   ]
  },
  {
   "cell_type": "markdown",
   "id": "16abef2d",
   "metadata": {},
   "source": [
    "## ทำไม ai จะเรียนรู้ยังไง"
   ]
  },
  {
   "cell_type": "markdown",
   "id": "cba42a13",
   "metadata": {},
   "source": [
    "โดยหลักๆแล้ว linear regression aiจะหา m,c แล้วส่งผล y ให้เรา  "
   ]
  },
  {
   "cell_type": "markdown",
   "id": "a54bc495",
   "metadata": {},
   "source": [
    "## ตยโด้ด"
   ]
  },
  {
   "cell_type": "code",
   "execution_count": 255,
   "id": "2fb247a8",
   "metadata": {},
   "outputs": [
    {
     "data": {
      "text/plain": [
       "[<matplotlib.lines.Line2D at 0x298306c1d10>]"
      ]
     },
     "execution_count": 255,
     "metadata": {},
     "output_type": "execute_result"
    },
    {
     "data": {
      "image/png": "[encoded data removed]",
      "text/plain": [
       "<Figure size 640x480 with 1 Axes>"
      ]
     },
     "metadata": {},
     "output_type": "display_data"
    }
   ],
   "source": [
    "plt.scatter(x,y)\n",
    "plt.plot((0,100), (0,500), color='red', )\n",
    "plt.plot((0,70), (0,640), color='red', )\n",
    "plt.plot((0,30), (0,580), color='red', )\n",
    "plt.plot((0,50), (0,700), color='red', )\n",
    "plt.plot((0,100), (0,440), color='red', )\n",
    "plt.plot((0,100), (0,880), color='red', )\n",
    "plt.plot((0,100), (0,750), color='green', linewidth=3)"
   ]
  },
  {
   "cell_type": "markdown",
   "id": "5226914e",
   "metadata": {},
   "source": [
    "จะเห็นว่ารูป ถ้าเป็นเรา เราคงเลือก**เส้นสีเขียว** เพราะใกล้เคียงสุด แล้วใช้วิธีอะไรเลือกเส้นละ?"
   ]
  },
  {
   "cell_type": "markdown",
   "id": "72ea4413",
   "metadata": {},
   "source": [
    "# วิธี linear regression เลือกค่าที่ใกล้เคียงที่สุด"
   ]
  },
  {
   "cell_type": "markdown",
   "id": "93e41fca",
   "metadata": {},
   "source": [
    "## เค้าจะเรียกกันว่า loss funcion"
   ]
  },
  {
   "cell_type": "markdown",
   "id": "4cca87a5",
   "metadata": {},
   "source": [
    "แปลง่าย ฟังก์ขั้นลดความผิดพลาด"
   ]
  },
  {
   "cell_type": "markdown",
   "id": "822caae1",
   "metadata": {},
   "source": [
    "โดยสมการ $MSE=\\frac{1}{n}\\sum_{i=1}^{n}(y_{i}-\\hat{y_{i}})^{2} $"
   ]
  },
  {
   "cell_type": "markdown",
   "id": "e4991ded",
   "metadata": {},
   "source": [
    "MSE ตัว E ย่อมาจาก Error คืออะไร $y_{i}-\\hat{y_{i}}$ "
   ]
  },
  {
   "cell_type": "markdown",
   "id": "dfc88dc2",
   "metadata": {},
   "source": [
    "$y_{i}$ = ค่าความเป็นจริงจะตำแหน่งนั้น"
   ]
  },
  {
   "cell_type": "markdown",
   "id": "4c7744a9",
   "metadata": {},
   "source": [
    "$\\hat{y_{i}}$ = ค่าที่เดาจากเส้น หรือ ai เดาเส้นแล้ว y คือคำตอบของ ai ที่ตรงกับ x เดียวกันนั้นมีค่าเท่าไหร่"
   ]
  },
  {
   "cell_type": "markdown",
   "id": "9e2ffb46",
   "metadata": {},
   "source": [
    "![image.png](https://cdn-media-1.freecodecamp.org/images/MNskFmGPKuQfMLdmpkT-X7-8w2cJXulP3683)"
   ]
  },
  {
   "cell_type": "markdown",
   "id": "eb6ea00c",
   "metadata": {},
   "source": [
    "โดยมองจุดๆ ห่างจากเส้นที่เราวาดขึ้นยังไง"
   ]
  },
  {
   "cell_type": "markdown",
   "id": "5695e558",
   "metadata": {},
   "source": [
    "สมมติว่า $y_{1}=4;\\hat{y_{1}}$(มองเส้นนะครับจากรูปด้านบน)= 2 ทำให้ Error = $y_{i}-\\hat{y_{i}}$ ; 4-2 = 2"
   ]
  },
  {
   "cell_type": "markdown",
   "id": "731a072d",
   "metadata": {},
   "source": [
    "### ทำไมต้องเป็น S "
   ]
  },
  {
   "cell_type": "markdown",
   "id": "9843319e",
   "metadata": {},
   "source": [
    "MSE ตัว S Squared ทำไมเพราะ เราเอา Error = $y_{i}-\\hat{y_{i}}$ มาลบกันแล้วมันมีปัญหาตรง ถ้า เลขติดลบ"
   ]
  },
  {
   "cell_type": "markdown",
   "id": "dc4dae73",
   "metadata": {},
   "source": [
    "y2=1,y^2=3 Error = 1-3 =-2"
   ]
  },
  {
   "cell_type": "markdown",
   "id": "b6975c78",
   "metadata": {},
   "source": [
    "จะเอาลบออกคือ ยกกำลังสองเลยลบจะหายไป เนื่องจากเราใช้ ผลรวมทำให้ค่ามันมีโอกาศแย่จากเลขคิดลบ"
   ]
  },
  {
   "cell_type": "markdown",
   "id": "40db1b86",
   "metadata": {},
   "source": [
    "หรือใช้ ตัวนี้ก็ได้ $MAE=\\frac{1}{n}\\sum_{i=1}^{n}|y_{i}-\\hat{y_{i}}| $"
   ]
  },
  {
   "cell_type": "markdown",
   "id": "e7dcbab7",
   "metadata": {},
   "source": [
    "แต่จะมีความยากในเรื่องต่อไปคือ gradient decent"
   ]
  },
  {
   "cell_type": "code",
   "execution_count": 194,
   "id": "96a787bf",
   "metadata": {},
   "outputs": [],
   "source": [
    "def loss_function(m, b):\n",
    "    y_pred = m * x + b\n",
    "    return np.mean((y - y_pred) ** 2)"
   ]
  },
  {
   "cell_type": "markdown",
   "id": "36bc3bad",
   "metadata": {},
   "source": [
    "# ทำ gradient decent"
   ]
  },
  {
   "cell_type": "markdown",
   "id": "2a9cf537",
   "metadata": {},
   "source": [
    "คืออะไร เรามี loss fuction แล้วนิทำไมต้องทำ gradient decent"
   ]
  },
  {
   "cell_type": "markdown",
   "id": "48d4e625",
   "metadata": {},
   "source": [
    "เพราะ loss fuction บอกแค่ความห่างของ ตัวแปรนั้นๆ ไม่ได้บอกความชันของเส้น"
   ]
  },
  {
   "cell_type": "markdown",
   "id": "54bd0665",
   "metadata": {},
   "source": [
    "วิธีทำง่ายๆคือ diff loss fuction  (แบบง่าย)"
   ]
  },
  {
   "cell_type": "markdown",
   "id": "7c53d4af",
   "metadata": {},
   "source": [
    "$\\frac{\\partial}{\\partial \\hat{y_{i}}}(\\frac{1}{n}\\sum_{i=1}^{n}(y_{i}-\\hat{y_{i}})^{2})$ ="
   ]
  },
  {
   "cell_type": "markdown",
   "id": "3b45b0a2",
   "metadata": {},
   "source": [
    "$\\frac{2}{n}\\sum_{i=1}^{n}(y_{i}-\\hat{y_{i}}) * \\frac{\\partial}{\\partial \\hat{y_{i}}}(y_{i}-\\hat{y_{i}})$ "
   ]
  },
  {
   "cell_type": "markdown",
   "id": "91efd80c",
   "metadata": {},
   "source": [
    "$\\frac{2}{n}\\sum_{i=1}^{n}(y_{i}-\\hat{y_{i}}) *-1 $"
   ]
  },
  {
   "cell_type": "markdown",
   "id": "7fa0c310",
   "metadata": {},
   "source": [
    "$\\frac{-2}{n}\\sum_{i=1}^{n}(y_{i}-\\hat{y_{i}})$"
   ]
  },
  {
   "cell_type": "markdown",
   "id": "c30a7657",
   "metadata": {},
   "source": [
    "**diffไส้ด้วยนะครับอย่าลืม**"
   ]
  },
  {
   "cell_type": "markdown",
   "id": "4e15ba1b",
   "metadata": {},
   "source": [
    "นี่คือตัวอย่าง gradient decent แบบง่าย"
   ]
  },
  {
   "cell_type": "code",
   "execution_count": 212,
   "id": "2fc370e5",
   "metadata": {},
   "outputs": [],
   "source": [
    "def grad(y, y_hat):\n",
    "    return np.mean(-2*(y-y_hat))"
   ]
  },
  {
   "cell_type": "markdown",
   "id": "c89ecd12",
   "metadata": {},
   "source": [
    "สร้าง f(x)"
   ]
  },
  {
   "cell_type": "code",
   "execution_count": 213,
   "id": "9bb06d4f",
   "metadata": {},
   "outputs": [],
   "source": [
    "def f(x,m,c):\n",
    "    return (m*x+c )"
   ]
  },
  {
   "cell_type": "markdown",
   "id": "1796d879",
   "metadata": {},
   "source": [
    "จากตัวอย่าง"
   ]
  },
  {
   "cell_type": "markdown",
   "id": "23d30a61",
   "metadata": {},
   "source": [
    "m มีค่าเริ่มต้น 0"
   ]
  },
  {
   "cell_type": "markdown",
   "id": "757e91d1",
   "metadata": {},
   "source": [
    "c มีค่าเริ่มต้น 0"
   ]
  },
  {
   "cell_type": "markdown",
   "id": "c139d86b",
   "metadata": {},
   "source": [
    "จะเห็นรูปด้านล่างเส้นสีแดง อันนี้คือ ที่ai เดา"
   ]
  },
  {
   "cell_type": "code",
   "execution_count": 256,
   "id": "caa1ec31",
   "metadata": {},
   "outputs": [
    {
     "data": {
      "text/plain": [
       "[<matplotlib.lines.Line2D at 0x2983072f4d0>]"
      ]
     },
     "execution_count": 256,
     "metadata": {},
     "output_type": "execute_result"
    },
    {
     "data": {
      "image/png": "[encoded data removed]",
      "text/plain": [
       "<Figure size 640x480 with 1 Axes>"
      ]
     },
     "metadata": {},
     "output_type": "display_data"
    }
   ],
   "source": [
    "m=np.array([0]) \n",
    "c=np.array([0])\n",
    "y_hat=f(x,m,c) #เดาเส้น\n",
    "plt.scatter(x,y)\n",
    "plt.plot(x,y_hat,color='red',linewidth=3)"
   ]
  },
  {
   "cell_type": "markdown",
   "id": "9bd337af",
   "metadata": {},
   "source": [
    "## ทำการเทรน "
   ]
  },
  {
   "cell_type": "markdown",
   "id": "cc0114bf",
   "metadata": {},
   "source": [
    "โดยมี learning_rate กำหนดการอัปเดท ค่ามากน้อย "
   ]
  },
  {
   "cell_type": "markdown",
   "id": "d3714a13",
   "metadata": {},
   "source": [
    "วิธีอัปเดทค่า มีมากมาย ในตย คือ Gradient Descent แบบพื้นฐาน (Basic or Vanilla Gradient Descent)"
   ]
  },
  {
   "cell_type": "markdown",
   "id": "ae8e9b55",
   "metadata": {},
   "source": [
    "m = m - learning_rate * g\n",
    "\n",
    "c = c - learning_rate * g"
   ]
  },
  {
   "cell_type": "code",
   "execution_count": 257,
   "id": "f2c18474",
   "metadata": {},
   "outputs": [
    {
     "name": "stdout",
     "output_type": "stream",
     "text": [
      "Iteration 0, m: 0.6895748965220109, c: 0.6895748965220109 Loss: 132164.7120252108\n",
      "Iteration 1, m: 1.3088131535987766, c: 1.3088131535987766 Loss: 107093.7608428699\n",
      "Iteration 2, m: 1.8648891084537123, c: 1.8648891084537123 Loss: 86835.49595075841\n",
      "Iteration 3, m: 2.3642453159134447, c: 2.3642453159134447 Loss: 70462.37739046954\n",
      "Iteration 4, m: 2.812667190212284, c: 2.812667190212284 Loss: 57226.0071900073\n",
      "Iteration 5, m: 3.215350033332642, c: 3.215350033332642 Loss: 46522.491647801704\n",
      "Iteration 6, m: 3.5769592264547234, c: 3.5769592264547234 Loss: 37864.50490747428\n",
      "Iteration 7, m: 3.9016842818783526, c: 3.9016842818783526 Loss: 30858.756932385717\n",
      "Iteration 8, m: 4.193287381648771, c: 4.193287381648771 Loss: 25187.820015786525\n",
      "Iteration 9, m: 4.455146965242607, c: 4.455146965242607 Loss: 20595.470396099925\n",
      "Iteration 10, m: 4.690296871309871, c: 4.690296871309871 Loss: 16874.864794444962\n",
      "Iteration 11, m: 4.901461486958276, c: 4.901461486958276 Loss: 13859.003338798782\n",
      "Iteration 12, m: 5.091087311810543, c: 5.091087311810543 Loss: 11413.036503507697\n",
      "Iteration 13, m: 5.261371302527878, c: 5.261371302527878 Loss: 9428.059307238686\n",
      "Iteration 14, m: 5.4142863261920455, c: 5.4142863261920455 Loss: 7816.105054990764\n",
      "Iteration 15, m: 5.551604017442468, c: 5.551604017442468 Loss: 6506.106588422542\n",
      "Iteration 16, m: 5.6749153041853475, c: 5.6749153041853475 Loss: 5440.6379104429025\n",
      "Iteration 17, m: 5.785648839680453, c: 5.785648839680453 Loss: 4573.285260903853\n",
      "Iteration 18, m: 5.885087554555058, c: 5.885087554555058 Loss: 3866.525922629047\n",
      "Iteration 19, m: 5.974383520512453, c: 5.974383520512453 Loss: 3290.016587543124\n",
      "Iteration 20, m: 6.054571297942194, c: 6.054571297942194 Loss: 2819.212105350427\n",
      "Iteration 21, m: 6.126579922074101, c: 6.126579922074101 Loss: 2434.250754281127\n",
      "Iteration 22, m: 6.191243666544554, c: 6.191243666544554 Loss: 2119.054526330204\n",
      "Iteration 23, m: 6.24931170907902, c: 6.24931170907902 Loss: 1860.6028818919626\n",
      "Iteration 24, m: 6.301456811274971, c: 6.301456811274971 Loss: 1648.346463410917\n",
      "Iteration 25, m: 6.348283113046935, c: 6.348283113046935 Loss: 1473.7337377398055\n",
      "Iteration 26, m: 6.390333132038158, c: 6.390333132038158 Loss: 1329.8287632051938\n",
      "Iteration 27, m: 6.428094049092277, c: 6.428094049092277 Loss: 1211.002492576516\n",
      "Iteration 28, m: 6.462003352606875, c: 6.462003352606875 Loss: 1112.6834228938935\n",
      "Iteration 29, m: 6.492453907162985, c: 6.492453907162985 Loss: 1031.1561452367184\n",
      "Iteration 30, m: 6.519798505154371, c: 6.519798505154371 Loss: 963.3985592680891\n",
      "Iteration 31, m: 6.544353954150636, c: 6.544353954150636 Loss: 906.9503013978665\n",
      "Iteration 32, m: 6.5664047473492815, c: 6.5664047473492815 Loss: 859.8063744340151\n",
      "Iteration 33, m: 6.586206359641666, c: 6.586206359641666 Loss: 820.3311273848591\n",
      "Iteration 34, m: 6.603988207480226, c: 6.603988207480226 Loss: 787.1886704621564\n",
      "Iteration 35, m: 6.619956306839254, c: 6.619956306839254 Loss: 759.286565728313\n",
      "Iteration 36, m: 6.6342956600636604, c: 6.6342956600636604 Loss: 735.7302432409347\n",
      "Iteration 37, m: 6.647172399259178, c: 6.647172399259178 Loss: 715.7860842096354\n",
      "Iteration 38, m: 6.658735711056752, c: 6.658735711056752 Loss: 698.8515093658959\n",
      "Iteration 39, m: 6.669119565050974, c: 6.669119565050974 Loss: 684.4307308222159\n",
      "Iteration 40, m: 6.678444265937785, c: 6.678444265937785 Loss: 672.1150839745316\n",
      "Iteration 41, m: 6.686817847334142, c: 6.686817847334142 Loss: 661.5670644284114\n",
      "Iteration 42, m: 6.69433732342807, c: 6.69433732342807 Loss: 652.5073631406722\n",
      "Iteration 43, m: 6.701089812960418, c: 6.701089812960418 Loss: 644.7043287353955\n",
      "Iteration 44, m: 6.707153548560466, c: 6.707153548560466 Loss: 637.9653955457051\n",
      "Iteration 45, m: 6.71259878312931, c: 6.71259878312931 Loss: 632.1301044060484\n",
      "Iteration 46, m: 6.717488603772131, c: 6.717488603772131 Loss: 627.0644146530027\n",
      "Iteration 47, m: 6.721879662709385, c: 6.721879662709385 Loss: 622.6560634754861\n",
      "Iteration 48, m: 6.725822833635038, c: 6.725822833635038 Loss: 618.8107753418162\n",
      "Iteration 49, m: 6.729363801126275, c: 6.729363801126275 Loss: 615.4491618622485\n",
      "Iteration 50, m: 6.732543589933406, c: 6.732543589933406 Loss: 612.5041828486856\n",
      "Iteration 51, m: 6.73539904028221, c: 6.73539904028221 Loss: 609.9190639016782\n",
      "Iteration 52, m: 6.737963234695435, c: 6.737963234695435 Loss: 607.64558571302\n",
      "Iteration 53, m: 6.7402658812785115, c: 6.7402658812785115 Loss: 605.642676327247\n",
      "Iteration 54, m: 6.742333657910114, c: 6.742333657910114 Loss: 603.8752505894098\n",
      "Iteration 55, m: 6.744190521325294, c: 6.744190521325294 Loss: 602.3132515101478\n",
      "Iteration 56, m: 6.745857984672124, c: 6.745857984672124 Loss: 600.9308567793146\n",
      "Iteration 57, m: 6.747355366757579, c: 6.747355366757579 Loss: 599.7058205408538\n",
      "Iteration 58, m: 6.748700015870316, c: 6.748700015870316 Loss: 598.6189261150663\n",
      "Iteration 59, m: 6.749907510773554, c: 6.749907510773554 Loss: 597.6535298704858\n",
      "Iteration 60, m: 6.7509918411966625, c: 6.7509918411966625 Loss: 596.7951801088929\n",
      "Iteration 61, m: 6.751965569916614, c: 6.751965569916614 Loss: 596.0312977969411\n",
      "Iteration 62, m: 6.75283997830713, c: 6.75283997830713 Loss: 595.3509083885909\n",
      "Iteration 63, m: 6.7536251970418135, c: 6.7536251970418135 Loss: 594.7444159406377\n",
      "Iteration 64, m: 6.75433032346556, c: 6.75433032346556 Loss: 594.2034123153009\n",
      "Iteration 65, m: 6.754963526994083, c: 6.754963526994083 Loss: 593.7205155587898\n",
      "Iteration 66, m: 6.755532143762697, c: 6.755532143762697 Loss: 593.289232599167\n",
      "Iteration 67, m: 6.756042761620913, c: 6.756042761620913 Loss: 592.9038422663365\n",
      "Iteration 68, m: 6.75650129645759, c: 6.75650129645759 Loss: 592.5592953382865\n",
      "Iteration 69, m: 6.756913060740927, c: 6.756913060740927 Loss: 592.2511288906775\n",
      "Iteration 70, m: 6.757282825067363, c: 6.757282825067363 Loss: 591.975392695536\n",
      "Iteration 71, m: 6.7576148734325026, c: 6.7576148734325026 Loss: 591.7285857986956\n",
      "Iteration 72, m: 6.7579130528643985, c: 6.7579130528643985 Loss: 591.5076017205882\n",
      "Iteration 73, m: 6.758180817994241, c: 6.758180817994241 Loss: 591.3096809837441\n",
      "Iteration 74, m: 6.758421271080839, c: 6.758421271080839 Loss: 591.1323698833646\n",
      "Iteration 75, m: 6.758637197952604, c: 6.758637197952604 Loss: 590.9734845929725\n",
      "Iteration 76, m: 6.758831100283449, c: 6.758831100283449 Loss: 590.8310798422566\n",
      "Iteration 77, m: 6.759005224576548, c: 6.759005224576548 Loss: 590.703421524393\n",
      "Iteration 78, m: 6.759161588191751, c: 6.759161588191751 Loss: 590.5889626898065\n",
      "Iteration 79, m: 6.759302002718203, c: 6.759302002718203 Loss: 590.486322466291\n",
      "Iteration 80, m: 6.759428094962957, c: 6.759428094962957 Loss: 590.3942675144859\n",
      "Iteration 81, m: 6.759541325798747, c: 6.759541325798747 Loss: 590.3116956855589\n",
      "Iteration 82, m: 6.759643007089285, c: 6.759643007089285 Loss: 590.2376215963071\n",
      "Iteration 83, m: 6.759734316888189, c: 6.759734316888189 Loss: 590.1711638776029\n",
      "Iteration 84, m: 6.7598163130876046, c: 6.7598163130876046 Loss: 590.1115338864115\n",
      "Iteration 85, m: 6.759889945674679, c: 6.759889945674679 Loss: 590.0580257005397\n",
      "Iteration 86, m: 6.759956067737873, c: 6.759956067737873 Loss: 590.010007239854\n",
      "Iteration 87, m: 6.7600154453506205, c: 6.7600154453506205 Loss: 589.9669123785661\n",
      "Iteration 88, m: 6.760068766446868, c: 6.760068766446868 Loss: 589.9282339309427\n",
      "Iteration 89, m: 6.760116648791298, c: 6.760116648791298 Loss: 589.893517408034\n",
      "Iteration 90, m: 6.760159647136597, c: 6.760159647136597 Loss: 589.8623554560005\n",
      "Iteration 91, m: 6.760198259650674, c: 6.760198259650674 Loss: 589.8343828978674\n",
      "Iteration 92, m: 6.760232933688316, c: 6.760232933688316 Loss: 589.8092723101395\n",
      "Iteration 93, m: 6.760264070974118, c: 6.760264070974118 Loss: 589.7867300741018\n",
      "Iteration 94, m: 6.7602920322567694, c: 6.7602920322567694 Loss: 589.7664928488197\n",
      "Iteration 95, m: 6.760317141488589, c: 6.760317141488589 Loss: 589.7483244191803\n",
      "Iteration 96, m: 6.760339689578764, c: 6.760339689578764 Loss: 589.732012877745\n",
      "Iteration 97, m: 6.760359937763741, c: 6.760359937763741 Loss: 589.7173681039899\n",
      "Iteration 98, m: 6.76037812063385, c: 6.76037812063385 Loss: 589.704219508671\n",
      "Iteration 99, m: 6.7603944488512075, c: 6.7603944488512075 Loss: 589.6924140147289\n"
     ]
    }
   ],
   "source": [
    "learning_rate = 0.001\n",
    "for i in range(100):\n",
    "    y_hat = f(x, m, c)\n",
    "    g = grad(y, y_hat)\n",
    "    m = m - learning_rate * g\n",
    "    c = c - learning_rate * g\n",
    "    print(f\"Iteration {i}, m: {m[0]}, c: {c[0]} Loss: {loss_function(m, c)}\")"
   ]
  },
  {
   "cell_type": "markdown",
   "id": "812c29ac",
   "metadata": {},
   "source": [
    "จากผลลัพท์ loss ลดลง และค่า m ได้ 6.69 ใกล้เคียง 7"
   ]
  },
  {
   "cell_type": "markdown",
   "id": "5ca5fb08",
   "metadata": {},
   "source": [
    "c ได้ 6.69"
   ]
  },
  {
   "cell_type": "code",
   "execution_count": 217,
   "id": "231770c8",
   "metadata": {},
   "outputs": [
    {
     "data": {
      "text/plain": [
       "[<matplotlib.lines.Line2D at 0x2982f358e10>]"
      ]
     },
     "execution_count": 217,
     "metadata": {},
     "output_type": "execute_result"
    },
    {
     "data": {
      "image/png": "[encoded data removed]",
      "text/plain": [
       "<Figure size 640x480 with 1 Axes>"
      ]
     },
     "metadata": {},
     "output_type": "display_data"
    }
   ],
   "source": [
    "plt.scatter(x,y)\n",
    "plt.plot(x,f(x, m, c),color='red',linewidth=3)"
   ]
  },
  {
   "cell_type": "markdown",
   "id": "342f9e2b",
   "metadata": {},
   "source": [
    "เส้นที่วาด ก็ใกล้เคียง จากที่ดู ตาเห็น"
   ]
  },
  {
   "cell_type": "markdown",
   "id": "e2973a00",
   "metadata": {},
   "source": [
    "### แต่ สิ่งที่แปลกคือ **<u>m,c มีค่าเท่ากัน</u>** ทำไม? "
   ]
  },
  {
   "cell_type": "markdown",
   "id": "5b78a0bd",
   "metadata": {},
   "source": [
    "เพราะเราใช้ grad ตัวเดียวกัน"
   ]
  },
  {
   "cell_type": "markdown",
   "id": "cf33018c",
   "metadata": {},
   "source": [
    "สิ่งที่ผมยก gradient decent <u>แบบง่าย</u>เพราะ diff by $\\hat{y_{i}}$"
   ]
  },
  {
   "cell_type": "markdown",
   "id": "657629ad",
   "metadata": {},
   "source": [
    "แต่จริงๆแล้ว $\\hat{y_{i}} = mx+c$ "
   ]
  },
  {
   "cell_type": "markdown",
   "id": "472f2c79",
   "metadata": {},
   "source": [
    "เราต้องแยก diff ถ้าอยากให้ m,c ต่างกัน"
   ]
  },
  {
   "cell_type": "markdown",
   "id": "2b3103e8",
   "metadata": {},
   "source": [
    "โดยการ diff แยกจากกัน"
   ]
  },
  {
   "cell_type": "markdown",
   "id": "a0f2b1f4",
   "metadata": {},
   "source": [
    "# ทำ gradient decent แยก m c"
   ]
  },
  {
   "cell_type": "markdown",
   "id": "f6f711db",
   "metadata": {},
   "source": [
    "ให้ $\\hat{y_{i}} = mx_{i}+c$ "
   ]
  },
  {
   "cell_type": "markdown",
   "id": "83e3d40f",
   "metadata": {},
   "source": [
    "จาก"
   ]
  },
  {
   "cell_type": "markdown",
   "id": "1c8fb285",
   "metadata": {},
   "source": [
    "$\\frac{\\partial}{\\partial \\hat{y_{i}}}(\\frac{1}{n}\\sum_{i=1}^{n}(y_{i}-\\hat{y_{i}})^{2})$ "
   ]
  },
  {
   "cell_type": "markdown",
   "id": "d505243b",
   "metadata": {},
   "source": [
    "แก้เป็น"
   ]
  },
  {
   "cell_type": "markdown",
   "id": "95197d1c",
   "metadata": {},
   "source": [
    "$\\frac{\\partial}{\\partial \\hat{y_{i}}}(\\frac{1}{n}\\sum_{i=1}^{n}(y_{i}-mx_{i}+c)^{2})$"
   ]
  },
  {
   "cell_type": "markdown",
   "id": "df2d03be",
   "metadata": {},
   "source": [
    "#### grad m"
   ]
  },
  {
   "cell_type": "markdown",
   "id": "e6e2fa64",
   "metadata": {},
   "source": [
    "แล้วเราจะแยกตัวไหน ให้ diff ตัวนั้นเช่น จะเอา grad ของ m งั้น diff by m หรือ $\\frac{\\partial}{\\partial m}$ จะได้"
   ]
  },
  {
   "cell_type": "markdown",
   "id": "54c23826",
   "metadata": {},
   "source": [
    "$\\frac{\\partial}{\\partial m}(\\frac{1}{n}\\sum_{i=1}^{n}(y_{i}-mx_{i}+c)^{2})$ ="
   ]
  },
  {
   "cell_type": "markdown",
   "id": "857a811b",
   "metadata": {},
   "source": [
    "$2*\\frac{1}{n}\\sum_{i=1}^{n}(y_{i}-mx_{i}+c) * \\frac{\\partial}{\\partial m}(y_{i}-mx_{i}+c)  $"
   ]
  },
  {
   "cell_type": "markdown",
   "id": "5eae5378",
   "metadata": {},
   "source": [
    "$2*\\frac{1}{n}\\sum_{i=1}^{n}(y_{i}-mx_{i}+c) * (-x)  $"
   ]
  },
  {
   "cell_type": "markdown",
   "id": "1364ada9",
   "metadata": {},
   "source": [
    "หรือรูปอย่างง่ายคือ $\\frac{-2x}{n}\\sum_{i=1}^{n}(y_{i}-mx_{i}+c) $ "
   ]
  },
  {
   "cell_type": "markdown",
   "id": "3d4e5f33",
   "metadata": {},
   "source": [
    "หรือ $\\frac{-2x}{n}\\sum_{i=1}^{n}(y_{i}-\\hat{y_{i}}) $ เนื่องจาก $\\hat{y_{i}} = mx+c$ "
   ]
  },
  {
   "cell_type": "code",
   "execution_count": 237,
   "id": "5e484ee1",
   "metadata": {},
   "outputs": [],
   "source": [
    "def grad_m(y, y_hat, x):\n",
    "    return np.mean(-2*x*(y - y_hat))"
   ]
  },
  {
   "cell_type": "markdown",
   "id": "26a0ebd8",
   "metadata": {},
   "source": [
    "#### grad c"
   ]
  },
  {
   "cell_type": "markdown",
   "id": "3757f024",
   "metadata": {},
   "source": [
    "แล้วเราจะแยกตัวไหน ให้ diff ตัวนั้นเช่น จะเอา grad ของ c งั้น diff by c หรือ $\\frac{\\partial}{\\partial c}$ จะได้"
   ]
  },
  {
   "cell_type": "markdown",
   "id": "219f42f6",
   "metadata": {},
   "source": [
    "$\\frac{\\partial}{\\partial c}(\\frac{1}{n}\\sum_{i=1}^{n}(y_{i}-mx_{i}+c)^{2})$ ="
   ]
  },
  {
   "cell_type": "markdown",
   "id": "867683d5",
   "metadata": {},
   "source": [
    "$2*\\frac{1}{n}\\sum_{i=1}^{n}(y_{i}-mx_{i}+c) * \\frac{\\partial}{\\partial c}(y_{i}-mx_{i}+c)  $"
   ]
  },
  {
   "cell_type": "markdown",
   "id": "f7981b8e",
   "metadata": {},
   "source": [
    "$2*\\frac{1}{n}\\sum_{i=1}^{n}(y_{i}-mx_{i}+c) * -1  $"
   ]
  },
  {
   "cell_type": "markdown",
   "id": "676c0ce9",
   "metadata": {},
   "source": [
    "หรือรูปอย่างง่ายคือ $\\frac{-2}{n}\\sum_{i=1}^{n}(y_{i}-mx_{i}+c) $ "
   ]
  },
  {
   "cell_type": "markdown",
   "id": "bd2d5a12",
   "metadata": {},
   "source": [
    "หรือ $\\frac{-2}{n}\\sum_{i=1}^{n}(y_{i}-\\hat{y_{i}}) $ เนื่องจาก $\\hat{y_{i}} = mx+c$ "
   ]
  },
  {
   "cell_type": "code",
   "execution_count": 243,
   "id": "e7e783dd",
   "metadata": {},
   "outputs": [],
   "source": [
    "def grad_c(y, y_hat, x):\n",
    "    return np.mean(-2 * (y - y_hat))"
   ]
  },
  {
   "cell_type": "markdown",
   "id": "644959e0",
   "metadata": {},
   "source": [
    "## เทรนใหม่ อีกครั้ง ด้วย grad m c"
   ]
  },
  {
   "cell_type": "markdown",
   "id": "177e5e5f",
   "metadata": {},
   "source": [
    "ต้องปรับ learning_rate = 0.00001 ให้น้อยลงจากตัวอย่างก่อนหน้า ไม่งั้นจะเพี้ยนมาก"
   ]
  },
  {
   "cell_type": "markdown",
   "id": "3a3d3e83",
   "metadata": {},
   "source": [
    "ไม่เชื่อลอง learning_rate = 0.001 สิบอกเลยยับ"
   ]
  },
  {
   "cell_type": "code",
   "execution_count": 258,
   "id": "4bc2119a",
   "metadata": {},
   "outputs": [
    {
     "name": "stdout",
     "output_type": "stream",
     "text": [
      "Iteration 0, m: 0.4669362304807796, c: 0.006895748965220109 Loss: 142120.9998266907\n",
      "Iteration 1, m: 0.9025808377703818, c: 0.013324423784980135 Loss: 123774.30860765801\n",
      "Iteration 2, m: 1.3090308276967608, c: 0.019317325423954163 Loss: 107804.22664787552\n",
      "Iteration 3, m: 1.6882426753964335, c: 0.02490365721496903 Loss: 93902.89071074469\n",
      "Iteration 4, m: 2.042041742968437, c: 0.030110665431648406 Loss: 81802.31781010366\n",
      "Iteration 5, m: 2.3721310660048998, c: 0.03496377044059144 Loss: 71269.23916834315\n",
      "Iteration 6, m: 2.6800995512929107, c: 0.03948668906439784 Loss: 62100.60337766025\n",
      "Iteration 7, m: 2.967429625148001, c: 0.043701548744543746 Loss: 54119.6620766444\n",
      "Iteration 8, m: 3.23550436919512, c: 0.04762899405364096 Loss: 47172.56268382675\n",
      "Iteration 9, m: 3.4856141779457728, c: 0.051288286069784875 Loss: 41125.38250461655\n",
      "Iteration 10, m: 3.718962970218116, c: 0.054697395091337815 Loss: 35861.5470366218\n",
      "Iteration 11, m: 3.9366739842991905, c: 0.05787308713843798 Loss: 31279.58270473654\n",
      "Iteration 12, m: 4.139795184744786, c: 0.06083100465761613 Loss: 27291.16070434658\n",
      "Iteration 13, m: 4.3293043068430075, c: 0.0635857418179983 Loss: 23819.394242841878\n",
      "Iteration 14, m: 4.506113563023487, c: 0.06615091476153903 Loss: 20797.356354509684\n",
      "Iteration 15, m: 4.671074033866931, c: 0.06853922714544042 Loss: 18166.789715985848\n",
      "Iteration 16, m: 4.824979764851481, c: 0.07076253129225069 Loss: 15876.983590732274\n",
      "Iteration 17, m: 4.9685715885559185, c: 0.07283188524199347 Loss: 13883.796252838145\n",
      "Iteration 18, m: 5.102540690718209, c: 0.07475760598095281 Loss: 12148.804044920384\n",
      "Iteration 19, m: 5.227531937314888, c: 0.0765493191033351 Loss: 10638.56066608723\n",
      "Iteration 20, m: 5.344146978676466, c: 0.07821600514485826 Loss: 9323.952410889271\n",
      "Iteration 21, m: 5.452947145580778, c: 0.079766042811299 Loss: 8179.636929876891\n",
      "Iteration 22, m: 5.554456151264834, c: 0.0812072493100821 Loss: 7183.554692471184\n",
      "Iteration 23, m: 5.649162612361559, c: 0.08254691797905117 Loss: 6316.50373437405\n",
      "Iteration 24, m: 5.737522400896135, c: 0.08379185339355014 Loss: 5561.769491710866\n",
      "Iteration 25, m: 5.81996083866348, c: 0.08494840412080625 Loss: 4904.802586033575\n",
      "Iteration 26, m: 5.896874744549685, c: 0.08602249327928045 Loss: 4332.938348684793\n",
      "Iteration 27, m: 5.968634344652357, c: 0.08701964705008529 Loss: 3835.1526776539954\n",
      "Iteration 28, m: 6.035585054394379, c: 0.08794502127771203 Loss: 3401.8495204564015\n",
      "Iteration 29, m: 6.098049141209457, c: 0.0888034262881122 Loss: 3024.67588623592\n",
      "Iteration 30, m: 6.156327275802915, c: 0.08959935004359709 Loss: 2696.3608209879876\n",
      "Iteration 31, m: 6.210699979454856, c: 0.09033697974601342 Loss: 2410.575241747353\n",
      "Iteration 32, m: 6.261428974332414, c: 0.09102022199218375 Loss: 2161.8099276942976\n",
      "Iteration 33, m: 6.30875844331093, c: 0.0916527215786316 Loss: 1945.2693161529864\n",
      "Iteration 34, m: 6.352916205368299, c: 0.0922378790461092 Loss: 1756.7790561343393\n",
      "Iteration 35, m: 6.394114812210356, c: 0.09277886704838008 Loss: 1592.7055372868904\n",
      "Iteration 36, m: 6.432552571405993, c: 0.09327864562404886 Loss: 1449.8858429750137\n",
      "Iteration 37, m: 6.468414500956947, c: 0.0937399764449505 Loss: 1325.5667771550338\n",
      "Iteration 38, m: 6.501873219897166, c: 0.09416543610968475 Loss: 1217.351789639848\n",
      "Iteration 39, m: 6.5330897792087255, c: 0.0945574285462855 Loss: 1123.1547766038686\n",
      "Iteration 40, m: 6.562214437053974, c: 0.09491819658372595 Loss: 1041.1598657175418\n",
      "Iteration 41, m: 6.589387382055554, c: 0.09524983274796041 Loss: 969.7864106694173\n",
      "Iteration 42, m: 6.614739408105863, c: 0.09555428933447001 Loss: 907.6585202576458\n",
      "Iteration 43, m: 6.6383925439542155, c: 0.09583338780579756 Loss: 853.5785346480097\n",
      "Iteration 44, m: 6.660460640602257, c: 0.09608882755930734 Loss: 806.5039374870636\n",
      "Iteration 45, m: 6.681049919335126, c: 0.096322194107374 Loss: 765.5272587936398\n",
      "Iteration 46, m: 6.700259483026345, c: 0.09653496670937683 Loss: 729.8585812067254\n",
      "Iteration 47, m: 6.71818179317765, c: 0.09672852549223641 Loss: 698.8103123539289\n",
      "Iteration 48, m: 6.734903114990035, c: 0.09690415809376902 Loss: 671.7839297898576\n",
      "Iteration 49, m: 6.750503932608389, c: 0.09706306586083722 Loss: 648.2584429799723\n",
      "Iteration 50, m: 6.765059336538545, c: 0.09720636963213172 Loss: 627.7803499058075\n",
      "Iteration 51, m: 6.77863938510161, c: 0.09733511513342065 Loss: 609.954894680035\n",
      "Iteration 52, m: 6.791309441665448, c: 0.09745027801123649 Loss: 594.4384576400452\n",
      "Iteration 53, m: 6.803130489276631, c: 0.09755276852923092 Loss: 580.9319312200618\n",
      "Iteration 54, m: 6.8141594242073475, c: 0.09764343594980382 Loss: 569.1749539051935\n",
      "Iteration 55, m: 6.824449329830285, c: 0.09772307262209759 Loss: 558.9408911124576\n",
      "Iteration 56, m: 6.834049732139814, c: 0.09779241779603497 Loss: 550.0324662427188\n",
      "Iteration 57, m: 6.84300683814943, c: 0.09785216118075934 Loss: 542.2779576811463\n",
      "Iteration 58, m: 6.851363758313017, c: 0.09790294626460641 Loss: 535.5278884338624\n",
      "Iteration 59, m: 6.85916071404056, c: 0.09794537341258822 Loss: 529.6521445852743\n",
      "Iteration 60, m: 6.86643523130721, c: 0.0979800027562995 Loss: 524.5374670271268\n",
      "Iteration 61, m: 6.87322232128765, c: 0.09800735689015727 Loss: 520.0852681060975\n",
      "Iteration 62, m: 6.879554648885267, c: 0.09802792338695193 Loss: 516.2097311003587\n",
      "Iteration 63, m: 6.885462689967347, c: 0.09804215714481904 Loss: 512.8361558877657\n",
      "Iteration 64, m: 6.89097487806317, c: 0.0980504825769289 Loss: 509.89951891428757\n",
      "Iteration 65, m: 6.89611774123114, c: 0.0980532956544343 Loss: 507.3432197024771\n",
      "Iteration 66, m: 6.900916029753779, c: 0.09805096581251017 Loss: 505.11798973579266\n",
      "Iteration 67, m: 6.905392835275243, c: 0.09804383772866025 Loss: 503.1809426847977\n",
      "Iteration 68, m: 6.909569701954853, c: 0.09803223298185054 Loss: 501.4947476659645\n",
      "Iteration 69, m: 6.913466730171676, c: 0.09801645160045616 Loss: 500.02690959558475\n",
      "Iteration 70, m: 6.917102673279352, c: 0.09799677350647258 Loss: 498.74914276581023\n",
      "Iteration 71, m: 6.920495027876909, c: 0.0979734598629432 Loss: 497.6368255669325\n",
      "Iteration 72, m: 6.923660118030073, c: 0.09794675433108914 Loss: 496.66852584431547\n",
      "Iteration 73, m: 6.926613173848506, c: 0.09791688424319256 Loss: 495.8255877400443\n",
      "Iteration 74, m: 6.929368404797192, c: 0.0978840616968793 Loss: 495.09177205463243\n",
      "Iteration 75, m: 6.931939068094863, c: 0.09784848457606828 Loss: 494.4529431958632\n",
      "Iteration 76, m: 6.93433753252871, c: 0.097810337503502 Loss: 493.8967966799166\n",
      "Iteration 77, m: 6.936575337992562, c: 0.09776979272944333 Loss: 493.41262193168876\n",
      "Iteration 78, m: 6.938663251035111, c: 0.09772701096081629 Loss: 492.9910958116859\n",
      "Iteration 79, m: 6.940611316685577, c: 0.09768214213478207 Loss: 492.62410288920773\n",
      "Iteration 80, m: 6.942428906806288, c: 0.0976353261404739 Loss: 492.30457899713485\n",
      "Iteration 81, m: 6.944124765204906, c: 0.09758669349236491 Loss: 492.0263750524513\n",
      "Iteration 82, m: 6.945707049723465, c: 0.09753636595851027 Loss: 491.7841385173002\n",
      "Iteration 83, m: 6.947183371506814, c: 0.09748445714668774 Loss: 491.573210215437\n",
      "Iteration 84, m: 6.94856083163949, c: 0.0974310730512581 Loss: 491.3895345149622\n",
      "Iteration 85, m: 6.949846055327373, c: 0.0973763125633777 Loss: 491.22958114587885\n",
      "Iteration 86, m: 6.951045223788655, c: 0.09732026794701916 Loss: 491.0902771453156\n",
      "Iteration 87, m: 6.952164104007648, c: 0.09726302528309168 Loss: 490.9689476184852\n",
      "Iteration 88, m: 6.953208076494632, c: 0.09720466488379848 Loss: 490.8632641734019\n",
      "Iteration 89, m: 6.954182161185387, c: 0.09714526167922627 Loss: 490.77120003530683\n",
      "Iteration 90, m: 6.955091041605066, c: 0.0970848855780274 Loss: 490.69099097551685\n",
      "Iteration 91, m: 6.9559390874127285, c: 0.09702360180393088 Loss: 490.6211013015095\n",
      "Iteration 92, m: 6.956730375435051, c: 0.09696147120970218 Loss: 490.56019425260916\n",
      "Iteration 93, m: 6.957468709290473, c: 0.09689855057006304 Loss: 490.5071062305839\n",
      "Iteration 94, m: 6.958157637698221, c: 0.09683489285498127 Loss: 490.46082436838196\n",
      "Iteration 95, m: 6.958800471560365, c: 0.09677054748464606 Loss: 490.42046700458746\n",
      "Iteration 96, m: 6.959400299899116, c: 0.0967055605673561 Loss: 490.3852666871934\n",
      "Iteration 97, m: 6.959960004726088, c: 0.09663997512146574 Loss: 490.3545553790437\n",
      "Iteration 98, m: 6.960482274915098, c: 0.09657383128245733 Loss: 490.32775157974976\n",
      "Iteration 99, m: 6.960969619145283, c: 0.09650716649613669 Loss: 490.3043491158168\n"
     ]
    }
   ],
   "source": [
    "m=np.array([0])\n",
    "c=np.array([0])\n",
    "learning_rate = 0.00001\n",
    "for i in range(100):\n",
    "    y_hat = f(x, m, c)\n",
    "    g_m = grad_m(y, y_hat, x)\n",
    "    g_c = grad_c(y, y_hat, x)\n",
    "    m = m - learning_rate * g_m\n",
    "    c = c - learning_rate * g_c\n",
    "    print(f\"Iteration {i}, m: {m[0]}, c: {c[0]} Loss: {loss_function(m, c)}\")"
   ]
  },
  {
   "cell_type": "markdown",
   "id": "2dcbd845",
   "metadata": {},
   "source": [
    "หลังจากรันแล้วเห็นว่า lossลดลงอย่างมาก m,c มีค่าต่างกัน m=6.8 และ c=0.09"
   ]
  },
  {
   "cell_type": "code",
   "execution_count": 259,
   "id": "003a47c7",
   "metadata": {},
   "outputs": [
    {
     "data": {
      "text/plain": [
       "[<matplotlib.lines.Line2D at 0x2982ed68e10>]"
      ]
     },
     "execution_count": 259,
     "metadata": {},
     "output_type": "execute_result"
    },
    {
     "data": {
      "image/png": "[encoded data removed]",
      "text/plain": [
       "<Figure size 640x480 with 1 Axes>"
      ]
     },
     "metadata": {},
     "output_type": "display_data"
    }
   ],
   "source": [
    "plt.scatter(x,y)\n",
    "plt.plot(x,f(x, m, c),color='red',linewidth=3)"
   ]
  },
  {
   "cell_type": "markdown",
   "id": "c7e6b9f3",
   "metadata": {},
   "source": [
    "loss น้อยกว่าเดิมจาก 500+ เหลือ 400+ "
   ]
  },
  {
   "cell_type": "markdown",
   "id": "f704183a",
   "metadata": {},
   "source": [
    "แล้วคุณละคิดว่ายังไง เส้นตรงกว่าเดิมไหม"
   ]
  }
 ],
 "metadata": {
  "kernelspec": {
   "display_name": "Python 3",
   "language": "python",
   "name": "python3"
  },
  "language_info": {
   "codemirror_mode": {
    "name": "ipython",
    "version": 3
   },
   "file_extension": ".py",
   "mimetype": "text/x-python",
   "name": "python",
   "nbconvert_exporter": "python",
   "pygments_lexer": "ipython3",
   "version": "3.13.2"
  }
 },
 "nbformat": 4,
 "nbformat_minor": 5
}
