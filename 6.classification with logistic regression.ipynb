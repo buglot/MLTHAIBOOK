{
 "cells": [
  {
   "cell_type": "markdown",
   "id": "54f5fd75",
   "metadata": {},
   "source": [
    "# Logistic regression "
   ]
  },
  {
   "cell_type": "markdown",
   "id": "9467e91f",
   "metadata": {},
   "source": [
    "โดยแนะนำเทคนิดนี้จะเป็นการเดาแบบ เป็นสิ่งนี้หรือสิ่งนั้น เช่น ใช่ หรือ ไม่ใช่ (classification)"
   ]
  },
  {
   "cell_type": "markdown",
   "id": "e1a45e29",
   "metadata": {},
   "source": [
    "โดยต่างจากพวก regression ธรรมโดยการเดา $W,C$ แล้วทำการอัปเดทด้วย gradient  decent"
   ]
  },
  {
   "cell_type": "markdown",
   "id": "fc576217",
   "metadata": {},
   "source": [
    "โดยจะมีการใช้ entropy"
   ]
  },
  {
   "cell_type": "markdown",
   "id": "d9bca19d",
   "metadata": {},
   "source": [
    "# Entropy คืออะไร"
   ]
  },
  {
   "cell_type": "markdown",
   "id": "74e409f8",
   "metadata": {},
   "source": [
    "เป็นการวัดความไม่แน่นอน (uncertainty) ของระบบหรือความน่าจะเป็นที่จะเกิดสิ่งต่าง ๆ"
   ]
  },
  {
   "cell_type": "markdown",
   "id": "70f072be",
   "metadata": {},
   "source": [
    "![alt text](https://encrypted-tbn0.gstatic.com/images?q=tbn:ANd9GcTm4RFmvGvS372S4uliQO0_p1u7j208ndeZWQ&s)"
   ]
  },
  {
   "cell_type": "markdown",
   "id": "f35b20e9",
   "metadata": {},
   "source": [
    "วัดความไม่แน่นอน คือ? จากตัวอย่างในรูปจะเห็นแกน x หมายถึงการเดา/โอกาส ถ้าเดาได้โอกาส  1 คือ แกน y คือ 0 ความไม่แน่นอน0 "
   ]
  },
  {
   "cell_type": "markdown",
   "id": "6b55600c",
   "metadata": {},
   "source": [
    "ความไม่แน่นอน0 ก็คือ แน่นอนหรือมั้นใจ 100% อะไรประมาณนั้น"
   ]
  },
  {
   "cell_type": "markdown",
   "id": "27fee81d",
   "metadata": {},
   "source": [
    "แล้วคุณจะเห็นตรง 0.5 แกน x ซี่ง ความไม่แน่นอนคือ 1 หมายถึง ไม่มีความมั้นใจเลยว่าจะออกมาเป็น 0หรือ 1 เลย"
   ]
  },
  {
   "cell_type": "markdown",
   "id": "5cbc388e",
   "metadata": {},
   "source": [
    "นั้นคือความหมายของ entropy"
   ]
  },
  {
   "cell_type": "markdown",
   "id": "ef10bf19",
   "metadata": {},
   "source": [
    "ในเรื่องนี้เราจะใช้ Binary Cross-Entropy Loss"
   ]
  },
  {
   "cell_type": "markdown",
   "id": "7d64eb75",
   "metadata": {},
   "source": [
    "$Loss = -\\frac{1}{N} \\sum_{i=1}^{N} \\left[ y_i \\cdot \\log(\\hat{y}_i) + (1 - y_i) \\cdot \\log(1 - \\hat{y}_i) \\right]$"
   ]
  },
  {
   "cell_type": "markdown",
   "id": "7f2bd97b",
   "metadata": {},
   "source": [
    "$y_{i}$= ค่าจริง (0 หรือ 1)\n",
    "\n",
    "$\\hat{y_{i}}$= ค่าที่โมเดลทำนาย (อยู่ในช่วง 0 ถึง 1)"
   ]
  },
  {
   "cell_type": "markdown",
   "id": "cef28b91",
   "metadata": {},
   "source": [
    "log ฐาน e นะครับ"
   ]
  },
  {
   "cell_type": "markdown",
   "id": "605383a3",
   "metadata": {},
   "source": [
    "# แล้ว regression คือเกี่ยวอะไร"
   ]
  },
  {
   "cell_type": "markdown",
   "id": "86dbb669",
   "metadata": {},
   "source": [
    "เราจะนำ sigmoid คือ activate function หรือ sigmoid มีอีกชื่อ logistic"
   ]
  },
  {
   "cell_type": "markdown",
   "id": "35a30097",
   "metadata": {},
   "source": [
    "นี่คือที่มา logistic"
   ]
  },
  {
   "cell_type": "markdown",
   "id": "3e1e7b87",
   "metadata": {},
   "source": [
    "เอ้าหัวข้อ regression แล้วทำไมมาบอก logistic "
   ]
  },
  {
   "cell_type": "markdown",
   "id": "21fb249f",
   "metadata": {},
   "source": [
    "ซึ่ง สมการ logistic หรือ sigmoid"
   ]
  },
  {
   "cell_type": "markdown",
   "id": "3e094502",
   "metadata": {},
   "source": [
    "คือ"
   ]
  },
  {
   "cell_type": "markdown",
   "id": "661e7cff",
   "metadata": {},
   "source": [
    "$\\sigma(z) = \\frac{1}{1 + e^{-z}}$"
   ]
  },
  {
   "cell_type": "code",
   "execution_count": 8,
   "id": "decd3825",
   "metadata": {},
   "outputs": [],
   "source": [
    "def sigmoid(z):\n",
    "    return 1 / (1 + np.exp(-z))"
   ]
  },
  {
   "cell_type": "markdown",
   "id": "d90ebdbc",
   "metadata": {},
   "source": [
    "ตรง z คือสมการ regression คือ $w_0+w_1x_1+w_2x_2+w_3x_3+...+w_nx_n$"
   ]
  },
  {
   "cell_type": "markdown",
   "id": "50ad89b7",
   "metadata": {},
   "source": [
    "และสามารถของเรื่องนี้คือ $\\hat{y}=\\sigma(w_0+w_1x_1+w_2x_2+w_3x_3+...+w_nx_n)$"
   ]
  },
  {
   "cell_type": "markdown",
   "id": "21618a12",
   "metadata": {},
   "source": [
    "หรือ"
   ]
  },
  {
   "cell_type": "markdown",
   "id": "957cde57",
   "metadata": {},
   "source": [
    "$\\hat{y}=\\frac{1}{1 + e^{-(w_0+w_1x_1+w_2x_2+w_3x_3+...+w_nx_n)}}$"
   ]
  },
  {
   "cell_type": "markdown",
   "id": "95c19321",
   "metadata": {},
   "source": [
    "ซึ่ง $\\hat{y} = \\frac{1}{1 + e^{-z}}$ เมื่อ z=$w_0+w_1x_1+w_2x_2+w_3x_3+...+w_nx_n$"
   ]
  },
  {
   "cell_type": "markdown",
   "id": "5a8802b8",
   "metadata": {},
   "source": [
    "# sigmoid ใช้ทำไม"
   ]
  },
  {
   "cell_type": "markdown",
   "id": "602a013c",
   "metadata": {},
   "source": [
    "![image](https://miro.medium.com/v2/resize:fit:1033/0*D5do3xhv5ulF50w2.png)"
   ]
  },
  {
   "cell_type": "markdown",
   "id": "fcb7bfd9",
   "metadata": {},
   "source": [
    "จากเส้นจะเห็นได้ว่า เข้าใกล้อะไรเดาได้อันนั้น"
   ]
  },
  {
   "cell_type": "code",
   "execution_count": 9,
   "id": "26d90713",
   "metadata": {},
   "outputs": [],
   "source": [
    "def predict(X, weights):\n",
    "    z = np.dot(X, weights)\n",
    "    return sigmoid(z)"
   ]
  },
  {
   "cell_type": "markdown",
   "id": "e298f54a",
   "metadata": {},
   "source": [
    "# Binary Cross-Entropy Loss"
   ]
  },
  {
   "cell_type": "markdown",
   "id": "9fc3ef84",
   "metadata": {},
   "source": [
    "ที่มาเราต้องมีความรู้เรื่องความน่าจะเป็นก่อน"
   ]
  },
  {
   "cell_type": "markdown",
   "id": "c3c1a591",
   "metadata": {},
   "source": [
    "ความน่าจะเป็น ของ แบนูลี (Bernoulli)"
   ]
  },
  {
   "cell_type": "markdown",
   "id": "d7fc1f26",
   "metadata": {},
   "source": [
    "P(x=1) = p "
   ]
  },
  {
   "cell_type": "markdown",
   "id": "4c3f6200",
   "metadata": {},
   "source": [
    "P(x=0) = q = 1-p"
   ]
  },
  {
   "cell_type": "markdown",
   "id": "478b3e1b",
   "metadata": {},
   "source": [
    "เขียนแบบ Probability mass function(PMF) \n",
    "$f(k|p) =\\begin{cases}\n",
    "p & ;if k=1 \\\\\n",
    "q = 1-p & ;if k=0\\\\\n",
    "\\end{cases}$"
   ]
  },
  {
   "cell_type": "markdown",
   "id": "0a4e32ae",
   "metadata": {},
   "source": [
    "จากสมการด้านบนเราสามารถ บอกได้ว่า"
   ]
  },
  {
   "cell_type": "markdown",
   "id": "2ae297b2",
   "metadata": {},
   "source": [
    "$f(k; p) = p^k (1 - p)^{1 - k} \\quad \\text{for } k \\in \\{0, 1\\}$"
   ]
  },
  {
   "cell_type": "markdown",
   "id": "88e1d704",
   "metadata": {},
   "source": [
    "ใช้  Likelihood"
   ]
  },
  {
   "cell_type": "markdown",
   "id": "81da513d",
   "metadata": {},
   "source": [
    "$L(\\hat{y}) = \\prod_{i=1}^{n} \\hat{y}_i^{y_i} (1 - \\hat{y}_i)^{1 - y_i}$"
   ]
  },
  {
   "cell_type": "markdown",
   "id": "449d0d1b",
   "metadata": {},
   "source": [
    "เพื่อหลีกเลี่ยงการคูณจำนวนมาก (ซึ่งทำให้ค่ากลายเป็น 0 หรือ underflow),  "
   ]
  },
  {
   "cell_type": "markdown",
   "id": "d22c7409",
   "metadata": {},
   "source": [
    "Log-Likelihood"
   ]
  },
  {
   "cell_type": "markdown",
   "id": "0d49d2df",
   "metadata": {},
   "source": [
    "$\n",
    "\\log L(\\hat{y}) = \\sum_{i=1}^{n} \\left[ y_i \\log(\\hat{y}_i) + (1 - y_i) \\log(1 - \\hat{y}_i) \\right]\n",
    "$"
   ]
  },
  {
   "cell_type": "markdown",
   "id": "21fed0d1",
   "metadata": {},
   "source": [
    "เราให้ $P(y_i|x;\\hat{y_i})$ เมื่อ $y_i$ มีค่าช่วง {0,1}"
   ]
  },
  {
   "cell_type": "code",
   "execution_count": 10,
   "id": "fba2fb15",
   "metadata": {},
   "outputs": [],
   "source": [
    "def loss(y, y_pred):\n",
    "    return -np.mean(y * np.log(y_pred + 1e-8) + (1 - y) * np.log(1 - y_pred + 1e-8))"
   ]
  },
  {
   "cell_type": "markdown",
   "id": "b4eb009c",
   "metadata": {},
   "source": [
    "# ดาต้า"
   ]
  },
  {
   "cell_type": "markdown",
   "id": "57b73409",
   "metadata": {},
   "source": [
    "วันเรียน,เวลานอน"
   ]
  },
  {
   "cell_type": "markdown",
   "id": "0f29b853",
   "metadata": {},
   "source": [
    "Label: สอบผ่านหรือไม่ (1=ผ่าน, 0=ไม่ผ่าน)"
   ]
  },
  {
   "cell_type": "code",
   "execution_count": 11,
   "id": "02063d9a",
   "metadata": {},
   "outputs": [],
   "source": [
    "import numpy as np\n",
    "\n",
    "x = np.array([\n",
    "    [2, 1],\n",
    "    [1, 0],\n",
    "    [3, 1],\n",
    "    [2, 0],\n",
    "    [3, 0],\n",
    "    [1, 1],\n",
    "    [4, 1],\n",
    "    [3, 1],\n",
    "])\n",
    "\n",
    "# Label: สอบผ่านหรือไม่ (1=ผ่าน, 0=ไม่ผ่าน)\n",
    "y = np.array([1, 0, 1, 0, 0, 0, 1, 1])"
   ]
  },
  {
   "cell_type": "markdown",
   "id": "fbb4b72e",
   "metadata": {},
   "source": [
    "ทำการเพิ่ม bias ตรง w_0"
   ]
  },
  {
   "cell_type": "code",
   "execution_count": 12,
   "id": "9abf1dfd",
   "metadata": {},
   "outputs": [
    {
     "data": {
      "text/plain": [
       "array([[1., 2., 1.],\n",
       "       [1., 1., 0.],\n",
       "       [1., 3., 1.],\n",
       "       [1., 2., 0.],\n",
       "       [1., 3., 0.],\n",
       "       [1., 1., 1.],\n",
       "       [1., 4., 1.],\n",
       "       [1., 3., 1.]])"
      ]
     },
     "execution_count": 12,
     "metadata": {},
     "output_type": "execute_result"
    }
   ],
   "source": [
    "X = np.hstack([np.ones((x.shape[0], 1)), x])\n",
    "X"
   ]
  },
  {
   "cell_type": "markdown",
   "id": "05303aee",
   "metadata": {},
   "source": [
    "# train "
   ]
  },
  {
   "cell_type": "markdown",
   "id": "f6d1092d",
   "metadata": {},
   "source": [
    "จะเห็นว่าผมได้ทำการ gradient = X.T @ (y_pred - y) / y.size"
   ]
  },
  {
   "cell_type": "markdown",
   "id": "9a977edf",
   "metadata": {},
   "source": [
    "ได้ทำการ diff เทียบ w"
   ]
  },
  {
   "cell_type": "markdown",
   "id": "1e1a2063",
   "metadata": {},
   "source": [
    "ทำยังไง ตรง$Loss = -\\frac{1}{N} \\sum_{i=1}^{N} \\left[ y_i \\cdot \\log(\\hat{y}_i) + (1 - y_i) \\cdot \\log(1 - \\hat{y}_i) \\right]$"
   ]
  },
  {
   "cell_type": "markdown",
   "id": "b5df2c86",
   "metadata": {},
   "source": [
    "แล้ว $\\hat{y_i} = \\sigma(z_i) หรือ  \\sigma(\\mathbf{w}^T \\mathbf{x}^{(i)})$"
   ]
  },
  {
   "cell_type": "markdown",
   "id": "cfd87b65",
   "metadata": {},
   "source": [
    "จะdiff ให้ดู"
   ]
  },
  {
   "cell_type": "markdown",
   "id": "586a5a5e",
   "metadata": {},
   "source": [
    "คิดว่า $\\frac{1}{N} \\sum_{i=1}^{N} l_i$"
   ]
  },
  {
   "cell_type": "markdown",
   "id": "0ae5b1de",
   "metadata": {},
   "source": [
    "คือผมให้ $l_i=-\\left[ y_i \\cdot \\log(\\hat{y}_i) + (1 - y_i) \\cdot \\log(1 - \\hat{y}_i) \\right]$ จะได้มองง่าย"
   ]
  },
  {
   "cell_type": "markdown",
   "id": "747ea28f",
   "metadata": {},
   "source": [
    "$\\frac{dl_i}{d\\hat{y_i}} = \\frac{y_{(i)}}{\\hat{y}_{(i)}} + \\frac{1 - y_{(i)}}{1 - \\hat{y}_{(i)}}$"
   ]
  },
  {
   "cell_type": "markdown",
   "id": "bfcd9f7b",
   "metadata": {},
   "source": [
    "ยังไง $\\frac{dlog(x)}{dx} = \\frac{1}{x}$"
   ]
  },
  {
   "cell_type": "markdown",
   "id": "10879d18",
   "metadata": {},
   "source": [
    "แสดงว่า $\\frac{dy_i*log(\\hat{y_i})}{d\\hat(y_i)} = y_i * \\frac{dlog(\\hat{y_i})}{d\\hat{y_i}}$"
   ]
  },
  {
   "cell_type": "markdown",
   "id": "b5de41df",
   "metadata": {},
   "source": [
    "จะได้ $y_i*\\frac{1}{\\hat{y_i}}$ = $\\frac{y_i}{\\hat{y_i}}$ นั้นเอง"
   ]
  },
  {
   "cell_type": "markdown",
   "id": "318fd4cc",
   "metadata": {},
   "source": [
    "ทำให้ $\\frac{dl_i}{d\\hat{y_i}} = -\\frac{y_{(i)}}{\\hat{y}_{(i)}} + \\frac{1 - y_{(i)}}{1 - \\hat{y}_{(i)}}$"
   ]
  },
  {
   "cell_type": "markdown",
   "id": "81e6eccd",
   "metadata": {},
   "source": [
    "ซึ่งเราต้อง diff ถึง w"
   ]
  },
  {
   "cell_type": "markdown",
   "id": "c59f841e",
   "metadata": {},
   "source": [
    "ต่อไปคือ "
   ]
  },
  {
   "cell_type": "markdown",
   "id": "cc54b0c8",
   "metadata": {},
   "source": [
    "ทำให้ "
   ]
  },
  {
   "cell_type": "markdown",
   "id": "445f1b02",
   "metadata": {},
   "source": [
    "diff by $z_i$เมื่อ $\\hat{y_i} = \\sigma(z_i) $"
   ]
  },
  {
   "cell_type": "markdown",
   "id": "1e206448",
   "metadata": {},
   "source": [
    "$\\frac{d\\hat{y_i}}{dz_i} = \\frac{d}{dz_i}\\frac{1}{1 + e^{-z}}= \\frac{d}{dz_i}(1+e^{-z_I})^{-1}$ ="
   ]
  },
  {
   "cell_type": "markdown",
   "id": "d12ee7f9",
   "metadata": {},
   "source": [
    "$-1 * (1+e^{-z_i})^{-2} * \\frac{d}{dz_i} (1+e^{-z_i})$="
   ]
  },
  {
   "cell_type": "markdown",
   "id": "a7ae383f",
   "metadata": {},
   "source": [
    "$-1 * (1+e^{-z_i})^{-2} * (-e^{-z_i})= \\frac{e^{-z_i}}{(1+e^{-z_i})^{2}}$"
   ]
  },
  {
   "cell_type": "markdown",
   "id": "e45debc9",
   "metadata": {},
   "source": [
    "เนื่องจาก$ \\sigma(z_i) = \\frac{1}{1 + e^{-z}}$ แปลงรูป $\\frac{e^{-z_i}}{(1+e^{-z_i})^{2}}$"
   ]
  },
  {
   "cell_type": "markdown",
   "id": "0724116a",
   "metadata": {},
   "source": [
    "ถ้า$\\sigma(z_i)^{2} = \\frac{1}{(1 + e^{-z})^2}$"
   ]
  },
  {
   "cell_type": "markdown",
   "id": "9082d2c6",
   "metadata": {},
   "source": [
    "ถ้า$\\sigma(z_i)^{2} *e^{-z_i} = \\frac{e^{-z_i}}{(1 + e^{-z})^2}$"
   ]
  },
  {
   "cell_type": "markdown",
   "id": "c0b3544c",
   "metadata": {},
   "source": [
    "ซึ่งอันนี้ก็ได้รูปอย่างง่าย $\\sigma(z_i)^{2} *e^{-z_i} $\n"
   ]
  },
  {
   "cell_type": "markdown",
   "id": "063fb56f",
   "metadata": {},
   "source": [
    "รูปอย่างง่าย กว่าคือ"
   ]
  },
  {
   "cell_type": "markdown",
   "id": "af7774f3",
   "metadata": {},
   "source": [
    "= σ(z)(1−σ(z))"
   ]
  },
  {
   "cell_type": "markdown",
   "id": "52eeed4b",
   "metadata": {},
   "source": [
    "มาจาก 1−σ(z) = $1-\\frac{1}{(1 + e^{-z})}$"
   ]
  },
  {
   "cell_type": "markdown",
   "id": "10122e42",
   "metadata": {},
   "source": [
    "ทำเศษส่วนให้เท่ากัน $\\frac{1*(1+e^{-z})}{1+e^{-z}}-\\frac{1}{(1 + e^{-z})} = \\frac{1+e^{-z}-1}{1 + e^{-z}} = \\frac{e^{-z}}{1+e^{-z}}$"
   ]
  },
  {
   "cell_type": "markdown",
   "id": "37839e94",
   "metadata": {},
   "source": [
    "ทั้งนั้ง 1−σ(z) = $\\frac{e^{-z}}{1+e^{-z}}$"
   ]
  },
  {
   "cell_type": "markdown",
   "id": "0d51f6e6",
   "metadata": {},
   "source": [
    "σ(z)(1−σ(z)) $ = \\frac{e^{-z_i}}{(1 + e^{-z})^2}$"
   ]
  },
  {
   "cell_type": "markdown",
   "id": "bd231719",
   "metadata": {},
   "source": [
    "dff w_i เมือz =wTxi\n"
   ]
  },
  {
   "cell_type": "markdown",
   "id": "aef27447",
   "metadata": {},
   "source": [
    "$\\frac{dz_i}{dw_i} = \\frac{dw^Tx_i}{dw_i} = x_i$"
   ]
  },
  {
   "cell_type": "markdown",
   "id": "ddf08e96",
   "metadata": {},
   "source": [
    "จากกดลูกโซ่"
   ]
  },
  {
   "cell_type": "markdown",
   "id": "21cfb864",
   "metadata": {},
   "source": [
    "ให้ $\\frac{dl_i}{dw_i} =  \\frac{dl_i}{d\\hat{y_i}} *  \\frac{d\\hat{y_i}}{dz_i} * \\frac{dz_i}{dw_i}$"
   ]
  },
  {
   "cell_type": "markdown",
   "id": "20032996",
   "metadata": {},
   "source": [
    "จะได้ $-\\frac{y_{(i)}}{\\hat{y}_{(i)}} + \\frac{1 - y_{(i)}}{1 - \\hat{y}_{(i)}} * σ(z)(1−σ(z)) * x_i$"
   ]
  },
  {
   "cell_type": "markdown",
   "id": "7946fea9",
   "metadata": {},
   "source": [
    "เนื่องจาก $\\hat{y_i}=σ(z)$"
   ]
  },
  {
   "cell_type": "markdown",
   "id": "84e5e92a",
   "metadata": {},
   "source": [
    "= $-\\frac{y_{(i)}}{\\hat{y}_{(i)}} + \\frac{1 - y_{(i)}}{1 - \\hat{y}_{(i)}} * \\hat{y_i}(1−\\hat{y_i}) * x_i$"
   ]
  },
  {
   "cell_type": "markdown",
   "id": "18f9f7fe",
   "metadata": {},
   "source": [
    "รูปอย่างง่าย"
   ]
  },
  {
   "cell_type": "markdown",
   "id": "e6fe42a4",
   "metadata": {},
   "source": [
    "dl_i= $(\\hat{y_i}-y_i)*x_i$"
   ]
  },
  {
   "cell_type": "markdown",
   "id": "c0214ae0",
   "metadata": {},
   "source": [
    "ได้ grad"
   ]
  },
  {
   "cell_type": "markdown",
   "id": "0ee38709",
   "metadata": {},
   "source": [
    "$\\frac{1}{N} \\sum_{i=1}^{N} (\\hat{y_i}-y_i)*x_i $"
   ]
  },
  {
   "cell_type": "code",
   "execution_count": 13,
   "id": "abe4287e",
   "metadata": {},
   "outputs": [],
   "source": [
    "def train(X, y, lr=0.1, epochs=1000):\n",
    "    weights = np.zeros(X.shape[1])\n",
    "    for epoch in range(epochs):\n",
    "        z = np.dot(X, weights)\n",
    "        y_pred = sigmoid(z)\n",
    "\n",
    "        gradient = X.T @ (y_pred - y) / y.size\n",
    "        weights -= lr * gradient\n",
    "\n",
    "        if epoch % 100 == 0:\n",
    "            print(f\"Epoch {epoch}: Loss = {loss(y, y_pred):.4f}\")\n",
    "\n",
    "    return weights\n",
    "\n",
    "def evaluate(X, y, weights):\n",
    "    X = np.hstack([np.ones((X.shape[0], 1)), X])\n",
    "    y_pred = predict(X, weights)\n",
    "    predictions = (y_pred >= 0.5).astype(int)\n",
    "    accuracy = np.mean(predictions == y)\n",
    "    print(\"Accuracy:\", accuracy)\n",
    "    return predictions\n"
   ]
  },
  {
   "cell_type": "markdown",
   "id": "c6fbf13f",
   "metadata": {},
   "source": [
    "# train "
   ]
  },
  {
   "cell_type": "code",
   "execution_count": 14,
   "id": "ef0d04a7",
   "metadata": {},
   "outputs": [
    {
     "name": "stdout",
     "output_type": "stream",
     "text": [
      "Epoch 0: Loss = 0.6931\n",
      "Epoch 100: Loss = 0.4860\n",
      "Epoch 200: Loss = 0.3897\n",
      "Epoch 300: Loss = 0.3313\n",
      "Epoch 400: Loss = 0.2918\n",
      "Epoch 500: Loss = 0.2630\n",
      "Epoch 600: Loss = 0.2409\n",
      "Epoch 700: Loss = 0.2233\n",
      "Epoch 800: Loss = 0.2088\n",
      "Epoch 900: Loss = 0.1966\n"
     ]
    }
   ],
   "source": [
    "weights = train(X,y)"
   ]
  },
  {
   "cell_type": "markdown",
   "id": "0433d25e",
   "metadata": {},
   "source": [
    "ค่าที่ได้ มีสามตัวเพราะดาต้าเรา ค่าฺbias,เรียน,นอน"
   ]
  },
  {
   "cell_type": "code",
   "execution_count": 15,
   "id": "068e8044",
   "metadata": {},
   "outputs": [
    {
     "data": {
      "text/plain": [
       "array([-4.96922711,  1.2430915 ,  3.39444434])"
      ]
     },
     "execution_count": 15,
     "metadata": {},
     "output_type": "execute_result"
    }
   ],
   "source": [
    "weights"
   ]
  },
  {
   "cell_type": "markdown",
   "id": "2a169f52",
   "metadata": {},
   "source": [
    "$w_0+w_1x_1+w_2x_2$"
   ]
  },
  {
   "cell_type": "markdown",
   "id": "88b09292",
   "metadata": {},
   "source": [
    " x =ค่าฺbias,เรียน,นอน"
   ]
  },
  {
   "cell_type": "markdown",
   "id": "f6cf1d9c",
   "metadata": {},
   "source": [
    "ลอง predict โดยคิดว่า bias 1  เรียน 2 นอน 0 "
   ]
  },
  {
   "cell_type": "code",
   "execution_count": null,
   "id": "69887ce7",
   "metadata": {},
   "outputs": [
    {
     "name": "stdout",
     "output_type": "stream",
     "text": [
      "Epoch 0: Loss = 0.6931\n",
      "Epoch 100: Loss = 0.4860\n",
      "Epoch 200: Loss = 0.3897\n",
      "Epoch 300: Loss = 0.3313\n",
      "Epoch 400: Loss = 0.2918\n",
      "Epoch 500: Loss = 0.2630\n",
      "Epoch 600: Loss = 0.2409\n",
      "Epoch 700: Loss = 0.2233\n",
      "Epoch 800: Loss = 0.2088\n",
      "Epoch 900: Loss = 0.1966\n"
     ]
    }
   ],
   "source": [
    "y_pred = predict(np.array([[1,2,0]]), weights)\n"
   ]
  },
  {
   "cell_type": "markdown",
   "id": "76480823",
   "metadata": {},
   "source": [
    "และค่าที่ได้จาก  predictions มากกว่า 0.5 คือ ตีเป็น 1 คือสอบผ่าน ถ้าน้อยกว่า 0.5 ให้ 0 คือสอบไม่ผ่าน"
   ]
  },
  {
   "cell_type": "code",
   "execution_count": 28,
   "id": "d1f8423e",
   "metadata": {},
   "outputs": [
    {
     "data": {
      "text/plain": [
       "array([0.07705543])"
      ]
     },
     "execution_count": 28,
     "metadata": {},
     "output_type": "execute_result"
    }
   ],
   "source": [
    "y_pred"
   ]
  },
  {
   "cell_type": "code",
   "execution_count": 29,
   "id": "44622ad1",
   "metadata": {},
   "outputs": [
    {
     "data": {
      "text/plain": [
       "array([0])"
      ]
     },
     "execution_count": 29,
     "metadata": {},
     "output_type": "execute_result"
    }
   ],
   "source": [
    "predictions = (y_pred >= 0.5).astype(int)\n",
    "predictions"
   ]
  },
  {
   "cell_type": "markdown",
   "id": "f29b9c03",
   "metadata": {},
   "source": [
    "สรุปได้"
   ]
  },
  {
   "cell_type": "markdown",
   "id": "80591af5",
   "metadata": {},
   "source": [
    "ลอง bias 1 เรียน 3 นอน 1  "
   ]
  },
  {
   "cell_type": "code",
   "execution_count": 25,
   "id": "83341b15",
   "metadata": {},
   "outputs": [
    {
     "data": {
      "text/plain": [
       "array([1])"
      ]
     },
     "execution_count": 25,
     "metadata": {},
     "output_type": "execute_result"
    }
   ],
   "source": [
    "y_pred = predict(np.array([[1,3,1]]), weights)\n",
    "predictions = (y_pred >= 0.5).astype(int)\n",
    "predictions"
   ]
  },
  {
   "cell_type": "markdown",
   "id": "3c5cf34d",
   "metadata": {},
   "source": [
    "สรุปก็ตรงถามที่เทรนเลย"
   ]
  }
 ],
 "metadata": {
  "kernelspec": {
   "display_name": "Python 3",
   "language": "python",
   "name": "python3"
  },
  "language_info": {
   "codemirror_mode": {
    "name": "ipython",
    "version": 3
   },
   "file_extension": ".py",
   "mimetype": "text/x-python",
   "name": "python",
   "nbconvert_exporter": "python",
   "pygments_lexer": "ipython3",
   "version": "3.13.2"
  }
 },
 "nbformat": 4,
 "nbformat_minor": 5
}
