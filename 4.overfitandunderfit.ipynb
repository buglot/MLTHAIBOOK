{
 "cells": [
  {
   "cell_type": "markdown",
   "id": "5b2d3e6c",
   "metadata": {},
   "source": [
    "# Overfit และ Underfit คืออะไร?"
   ]
  },
  {
   "cell_type": "markdown",
   "id": "f71d00a1",
   "metadata": {},
   "source": [
    "ถ้าเราเรียน เกียวกับ ML DL จะเจอคำว่า Overfit และ Underfit "
   ]
  },
  {
   "cell_type": "markdown",
   "id": "0abb7f98",
   "metadata": {},
   "source": [
    "## Overfiting"
   ]
  },
  {
   "cell_type": "markdown",
   "id": "7fd79ad2",
   "metadata": {},
   "source": [
    "Overfiting หมายถึงการเทรนเยอะเกินไป จนเกิดการจำคำตอบ เมื่อเรานำไปใช้ในดาต้าอื่น ทำให้เกิดข้อผิดพลาดได้ "
   ]
  },
  {
   "cell_type": "markdown",
   "id": "0fe79ba8",
   "metadata": {},
   "source": [
    "แต่ตอนเราเทรนความแม่นยำอาจจะ 99 หรือ 90+% ซึ่งเราคิดว่ามันแม่นนำมาก แต่สุดท้ายคำตอบผิดนั้นเอง"
   ]
  },
  {
   "cell_type": "markdown",
   "id": "93ba4470",
   "metadata": {},
   "source": [
    "## Underfiting"
   ]
  },
  {
   "cell_type": "markdown",
   "id": "50c0a5a0",
   "metadata": {},
   "source": [
    "Underfiting หมายถึงการเทรนแล้วไม่เกิดการเรียนรู้ หรือเรียนรู้น้อยนั้นเอง เนื่องจากรอบการเทรนน้อยไป "
   ]
  },
  {
   "cell_type": "markdown",
   "id": "85de96d3",
   "metadata": {},
   "source": [
    "หรือ ดาต้ามีความยากและซับซ้อนเกินไป จนทำให้ หลักการของเราที่นำมาใช้ไม่เกิดการเรียนรู้นั้นเอง"
   ]
  }
 ],
 "metadata": {
  "language_info": {
   "name": "python"
  }
 },
 "nbformat": 4,
 "nbformat_minor": 5
}
