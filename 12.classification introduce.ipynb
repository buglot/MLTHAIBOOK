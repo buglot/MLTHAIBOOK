{
 "cells": [
  {
   "cell_type": "markdown",
   "id": "0b58eb2d",
   "metadata": {},
   "source": [
    "# classification คืออะไร\n"
   ]
  },
  {
   "cell_type": "markdown",
   "id": "2d59de1f",
   "metadata": {},
   "source": [
    "เป็นmodel ที่มีคำตอบ หมา แมว ใช่ ไม่ใช่ อะไรประมาณนั้น"
   ]
  },
  {
   "cell_type": "markdown",
   "id": "0b675f8c",
   "metadata": {},
   "source": [
    "สิ่งที่ผมจะแนะนำคือ 8 ตัวนี้ แต่ผมจะเลือกบางส่วนในเรื่องนี้เท่านั้น"
   ]
  },
  {
   "cell_type": "markdown",
   "id": "b5dfdaa5",
   "metadata": {},
   "source": [
    "1. Logistic / Softmax Regression ✅\n",
    "2. Naive Bayes \n",
    "3. k-NN\n",
    "4. Decision Tree\n",
    "5. Random Forest\n",
    "6. SVM\n",
    "7. MLP (Neural Net)\n",
    "8. CNN \n",
    "9. RNN \n",
    "10. Transformers"
   ]
  },
  {
   "cell_type": "markdown",
   "id": "1182c58b",
   "metadata": {},
   "source": [
    "สิ่งที่ผมจะมีในบทที่เพื่ออนาคตเราจะมี ai ของตัวที่เก่งได้ "
   ]
  },
  {
   "cell_type": "markdown",
   "id": "9375dbcf",
   "metadata": {},
   "source": [
    "- Naive Bayes\n",
    "- k-NN\n",
    "- Decision Tree\n",
    "- SVM\n",
    "- CNN"
   ]
  },
  {
   "cell_type": "markdown",
   "id": "deeaf112",
   "metadata": {},
   "source": [
    "เป้าหมายของผมคือ LLM ก่อนไป เราน่าจะรู้จักสิ่งนี้ก่อน nlp ไว้ที่หลังนะครับ"
   ]
  }
 ],
 "metadata": {
  "language_info": {
   "name": "python"
  }
 },
 "nbformat": 4,
 "nbformat_minor": 5
}
