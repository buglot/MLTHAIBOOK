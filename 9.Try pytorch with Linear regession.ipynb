{
 "cells": [
  {
   "cell_type": "markdown",
   "id": "4f53b7ac",
   "metadata": {},
   "source": [
    "# PyTorch ติดตั้งกับ gpu Nvidia"
   ]
  },
  {
   "cell_type": "code",
   "execution_count": 2,
   "id": "3f40c6e8",
   "metadata": {},
   "outputs": [
    {
     "name": "stdout",
     "output_type": "stream",
     "text": [
      "Looking in indexes: https://download.pytorch.org/whl/cu128\n",
      "Requirement already satisfied: torch in c:\\users\\ptii2\\desktop\\learnml\\env\\lib\\site-packages (2.7.1+cu128)\n",
      "Requirement already satisfied: torchvision in c:\\users\\ptii2\\desktop\\learnml\\env\\lib\\site-packages (0.22.1+cu128)\n",
      "Requirement already satisfied: torchaudio in c:\\users\\ptii2\\desktop\\learnml\\env\\lib\\site-packages (2.7.1+cu128)\n",
      "Requirement already satisfied: filelock in c:\\users\\ptii2\\desktop\\learnml\\env\\lib\\site-packages (from torch) (3.13.1)\n",
      "Requirement already satisfied: typing-extensions>=4.10.0 in c:\\users\\ptii2\\desktop\\learnml\\env\\lib\\site-packages (from torch) (4.13.2)\n",
      "Requirement already satisfied: sympy>=1.13.3 in c:\\users\\ptii2\\desktop\\learnml\\env\\lib\\site-packages (from torch) (1.13.3)\n",
      "Requirement already satisfied: networkx in c:\\users\\ptii2\\desktop\\learnml\\env\\lib\\site-packages (from torch) (3.3)\n",
      "Requirement already satisfied: jinja2 in c:\\users\\ptii2\\desktop\\learnml\\env\\lib\\site-packages (from torch) (3.1.4)\n",
      "Requirement already satisfied: fsspec in c:\\users\\ptii2\\desktop\\learnml\\env\\lib\\site-packages (from torch) (2024.6.1)\n",
      "Requirement already satisfied: setuptools in c:\\users\\ptii2\\desktop\\learnml\\env\\lib\\site-packages (from torch) (78.1.1)\n",
      "Requirement already satisfied: numpy in c:\\users\\ptii2\\desktop\\learnml\\env\\lib\\site-packages (from torchvision) (2.2.6)\n",
      "Requirement already satisfied: pillow!=8.3.*,>=5.3.0 in c:\\users\\ptii2\\desktop\\learnml\\env\\lib\\site-packages (from torchvision) (11.2.1)\n",
      "Requirement already satisfied: mpmath<1.4,>=1.1.0 in c:\\users\\ptii2\\desktop\\learnml\\env\\lib\\site-packages (from sympy>=1.13.3->torch) (1.3.0)\n",
      "Requirement already satisfied: MarkupSafe>=2.0 in c:\\users\\ptii2\\desktop\\learnml\\env\\lib\\site-packages (from jinja2->torch) (2.1.5)\n"
     ]
    }
   ],
   "source": [
    "!pip3 install torch torchvision torchaudio --index-url https://download.pytorch.org/whl/cu128"
   ]
  },
  {
   "cell_type": "markdown",
   "id": "f1715509",
   "metadata": {},
   "source": [
    "Pytorch"
   ]
  },
  {
   "cell_type": "code",
   "execution_count": 3,
   "id": "41949b21",
   "metadata": {},
   "outputs": [],
   "source": [
    "import torch\n",
    "import torch.nn as nn\n",
    "import torch.optim as optim\n",
    "import numpy as np\n",
    "import matplotlib.pyplot as plt"
   ]
  },
  {
   "cell_type": "markdown",
   "id": "4fed2e1b",
   "metadata": {},
   "source": [
    "# เลือกใช้ gpu/cpu"
   ]
  },
  {
   "cell_type": "code",
   "execution_count": 4,
   "id": "d3facbdb",
   "metadata": {},
   "outputs": [
    {
     "name": "stdout",
     "output_type": "stream",
     "text": [
      "Using device: cuda\n"
     ]
    }
   ],
   "source": [
    "device = torch.device(\"cuda\" if torch.cuda.is_available() else \"cpu\")\n",
    "print(f\"Using device: {device}\")"
   ]
  },
  {
   "cell_type": "code",
   "execution_count": 5,
   "id": "47ab37f8",
   "metadata": {},
   "outputs": [
    {
     "data": {
      "text/plain": [
       "1"
      ]
     },
     "execution_count": 5,
     "metadata": {},
     "output_type": "execute_result"
    }
   ],
   "source": [
    "torch.cuda.device_count()"
   ]
  },
  {
   "cell_type": "markdown",
   "id": "9a0c1bd1",
   "metadata": {},
   "source": [
    "# data"
   ]
  },
  {
   "cell_type": "code",
   "execution_count": 6,
   "id": "4e1d0708",
   "metadata": {},
   "outputs": [],
   "source": [
    "np.random.seed(1324)\n",
    "X_np = np.random.rand(100, 1) * 100\n",
    "y_np = 2 * X_np + 1 + np.random.randn(100, 1) * 10\n",
    "\n",
    "X = torch.from_numpy(X_np).float().to(device=device)\n",
    "y = torch.from_numpy(y_np).float().to(device=device)"
   ]
  },
  {
   "cell_type": "code",
   "execution_count": 7,
   "id": "3b8ef6f8",
   "metadata": {},
   "outputs": [
    {
     "data": {
      "text/plain": [
       "device(type='cuda', index=0)"
      ]
     },
     "execution_count": 7,
     "metadata": {},
     "output_type": "execute_result"
    }
   ],
   "source": [
    "X.device"
   ]
  },
  {
   "cell_type": "code",
   "execution_count": 8,
   "id": "a92c9140",
   "metadata": {},
   "outputs": [
    {
     "data": {
      "text/plain": [
       "<matplotlib.collections.PathCollection at 0x13649c49e80>"
      ]
     },
     "execution_count": 8,
     "metadata": {},
     "output_type": "execute_result"
    },
    {
     "data": {
      "image/png": "[encoded data removed]",
      "text/plain": [
       "<Figure size 640x480 with 1 Axes>"
      ]
     },
     "metadata": {},
     "output_type": "display_data"
    }
   ],
   "source": [
    "plt.Figure(figsize=(10,10))\n",
    "plt.scatter(X.to(\"cpu\"),y.to(\"cpu\"))"
   ]
  },
  {
   "cell_type": "markdown",
   "id": "78076b5a",
   "metadata": {},
   "source": [
    "จะเห็นว่า Linear_regression(nn.Module) nn.Module จาก pytorch"
   ]
  },
  {
   "cell_type": "markdown",
   "id": "031f9162",
   "metadata": {},
   "source": [
    " Inheritance ( การสืบทอด ) ในเรื่อง python oop"
   ]
  },
  {
   "cell_type": "markdown",
   "id": "9151eeb0",
   "metadata": {},
   "source": [
    "และ nn.Linear(1,1) หมายถึง (1 อันแรกเข้า) \n",
    "(1 อันหลังออก)"
   ]
  },
  {
   "cell_type": "markdown",
   "id": "9633cf40",
   "metadata": {},
   "source": [
    "ซึ่งหมายถึง x เข้า แล้ว เดา y เป็น ตัวเดียว"
   ]
  },
  {
   "cell_type": "code",
   "execution_count": 9,
   "id": "9c19b54c",
   "metadata": {},
   "outputs": [],
   "source": [
    "class Linear_regression(nn.Module):\n",
    "    def __init__(self):\n",
    "        super().__init__()\n",
    "        self.linear = nn.Linear(1,1) \n",
    "    def forward(self,x):\n",
    "        return self.linear(x)"
   ]
  },
  {
   "cell_type": "code",
   "execution_count": 22,
   "id": "e8f59b11",
   "metadata": {},
   "outputs": [],
   "source": [
    "model = Linear_regression().to(device=device)"
   ]
  },
  {
   "cell_type": "markdown",
   "id": "cd92f052",
   "metadata": {},
   "source": [
    "nn.MSELoss() เรารู้ดีนี้คือ loss function"
   ]
  },
  {
   "cell_type": "markdown",
   "id": "cb7f5cd7",
   "metadata": {},
   "source": [
    "และ torch.optim.SGD(model.parameters(), lr=0.01) ก็ stochastic gradient descent"
   ]
  },
  {
   "cell_type": "markdown",
   "id": "5011f14a",
   "metadata": {},
   "source": [
    "learning_rate = lr=0.01 "
   ]
  },
  {
   "cell_type": "code",
   "execution_count": 23,
   "id": "e52693b8",
   "metadata": {},
   "outputs": [],
   "source": [
    "criterion = nn.MSELoss().to(device=device)\n",
    "optimizer = torch.optim.SGD(model.parameters(), lr=1e-5)"
   ]
  },
  {
   "cell_type": "markdown",
   "id": "f8dea9e6",
   "metadata": {},
   "source": [
    "optimizer.zero_grad() ล้าง gradient เก่า \n",
    "\n",
    "loss.backward()  คำนวณ gradient จาก loss เราไม่ต้อง diff เองด้วย\n",
    "\n",
    "optimizer.step() ใช้ gradient นั้นมาอัปเดตพารามิเตอร์"
   ]
  },
  {
   "cell_type": "code",
   "execution_count": 37,
   "id": "27ece6a4",
   "metadata": {},
   "outputs": [
    {
     "name": "stdout",
     "output_type": "stream",
     "text": [
      "Epoch 0, Loss: 90.8181\n",
      "Epoch 100, Loss: 90.8181\n",
      "Epoch 200, Loss: 90.8180\n",
      "Epoch 300, Loss: 90.8179\n",
      "Epoch 400, Loss: 90.8178\n",
      "Epoch 500, Loss: 90.8178\n",
      "Epoch 600, Loss: 90.8177\n",
      "Epoch 700, Loss: 90.8176\n",
      "Epoch 800, Loss: 90.8176\n",
      "Epoch 900, Loss: 90.8175\n"
     ]
    }
   ],
   "source": [
    "epochs = 1000\n",
    "for epoch in range(epochs):\n",
    "    model.train()\n",
    "\n",
    "    # Forward pass\n",
    "    y_pred = model(X)\n",
    "    # Compute loss\n",
    "    loss = criterion(y_pred, y)\n",
    "    # Backward pass and optimization\n",
    "    optimizer.zero_grad()\n",
    "    loss.backward() \n",
    "    optimizer.step()\n",
    "\n",
    "    if epoch % 100 == 0:\n",
    "        print(f\"Epoch {epoch}, Loss: {loss.item():.4f}\")"
   ]
  },
  {
   "cell_type": "code",
   "execution_count": 38,
   "id": "0d8b8ea5",
   "metadata": {},
   "outputs": [
    {
     "data": {
      "text/plain": [
       "[<matplotlib.lines.Line2D at 0x1367873aad0>]"
      ]
     },
     "execution_count": 38,
     "metadata": {},
     "output_type": "execute_result"
    },
    {
     "data": {
      "image/png": "[encoded data removed]",
      "text/plain": [
       "<Figure size 640x480 with 1 Axes>"
      ]
     },
     "metadata": {},
     "output_type": "display_data"
    }
   ],
   "source": [
    "model.eval()\n",
    "with torch.no_grad():\n",
    "    y_hat = model(X)\n",
    "plt.Figure(figsize=(10,10))\n",
    "plt.scatter(X.cpu(),y.cpu())\n",
    "plt.plot(X.cpu(),y_hat.cpu(),color=\"red\",linewidth=3)"
   ]
  },
  {
   "cell_type": "code",
   "execution_count": 39,
   "id": "15663ada",
   "metadata": {},
   "outputs": [
    {
     "data": {
      "text/plain": [
       "[<matplotlib.lines.Line2D at 0x136787c0190>]"
      ]
     },
     "execution_count": 39,
     "metadata": {},
     "output_type": "execute_result"
    },
    {
     "data": {
      "image/png": "[encoded data removed]",
      "text/plain": [
       "<Figure size 640x480 with 1 Axes>"
      ]
     },
     "metadata": {},
     "output_type": "display_data"
    }
   ],
   "source": [
    "model.eval()\n",
    "y_hat = model(X)\n",
    "plt.Figure(figsize=(10,10))\n",
    "plt.scatter(X.cpu(),y.cpu())\n",
    "plt.plot(X.cpu(),y_hat.detach().cpu(),color=\"red\",linewidth=3)"
   ]
  },
  {
   "cell_type": "markdown",
   "id": "e2df9dc4",
   "metadata": {},
   "source": [
    "# save"
   ]
  },
  {
   "cell_type": "code",
   "execution_count": 40,
   "id": "3ea6f9a8",
   "metadata": {},
   "outputs": [],
   "source": [
    "torch.save({\n",
    "    'epoch': epoch,\n",
    "    'model_state_dict': model.state_dict(),\n",
    "    'optimizer_state_dict': optimizer.state_dict(),\n",
    "    'loss': loss.item(),\n",
    "}, \"checkpoint\")"
   ]
  },
  {
   "cell_type": "markdown",
   "id": "b85c6bba",
   "metadata": {},
   "source": [
    "# load พร้อม train อีกรอบได้"
   ]
  },
  {
   "cell_type": "code",
   "execution_count": 42,
   "id": "00f98cf4",
   "metadata": {},
   "outputs": [],
   "source": [
    "checkpoint = torch.load(\"checkpoint\")\n",
    "model.load_state_dict(checkpoint['model_state_dict'])\n",
    "optimizer.load_state_dict(checkpoint['optimizer_state_dict'])\n",
    "epoch = checkpoint['epoch']\n",
    "loss_ = checkpoint['loss']"
   ]
  }
 ],
 "metadata": {
  "kernelspec": {
   "display_name": "Python 3",
   "language": "python",
   "name": "python3"
  },
  "language_info": {
   "codemirror_mode": {
    "name": "ipython",
    "version": 3
   },
   "file_extension": ".py",
   "mimetype": "text/x-python",
   "name": "python",
   "nbconvert_exporter": "python",
   "pygments_lexer": "ipython3",
   "version": "3.13.2"
  }
 },
 "nbformat": 4,
 "nbformat_minor": 5
}
